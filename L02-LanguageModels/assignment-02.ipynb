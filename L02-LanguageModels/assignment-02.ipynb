{
 "cells": [
  {
   "cell_type": "markdown",
   "metadata": {},
   "source": [
    "## Assignment 02 Probability Models - An Intro of Language Models\n",
    "\n",
    "### 2. Review questions\n",
    "\n",
    "+ ***1. How to use Github and why use Jupyter and Pycharm***\n",
    "   + --\n",
    "   + --\n",
    "\n",
    "      \n",
    "\n",
    "+ ***2. What's a probability model?***\n",
    "   + --\n",
    "   + --\n",
    "\n",
    "+ ***3. Some scenarios where we use probability models?***\n",
    "   + --\n",
    "   + --\n",
    "\n",
    "+ ***4. Why do we use probability models and what are the difficulties for programming based on parsing and pattern match?***\n",
    "   + --\n",
    "   + --\n",
    "\n",
    "+ ***5. What's a language model?***\n",
    "   + --\n",
    "   + --\n",
    "\n",
    "+ ***6. Some scenarios where we use language models?***\n",
    "   + --\n",
    "   + --\n",
    "\n",
    "+ ***7. What's a 1-gram language model?***\n",
    "   + --\n",
    "   + --\n",
    "\n",
    "+ ***8. Advantages & disadvantages of the 1-gram model?***\n",
    "   + --\n",
    "   + --\n",
    "\n",
    "+ ***9. What's a 2-gram model?***\n",
    "   + --\n",
    "   + --\n",
    "   \n",
    "+ ***10. What's a web crawler, and how do you implement a simple crawler?***\n",
    "   + --\n",
    "   + --\n",
    "\n",
    "+ ***11. What are the potential issues with the simple crawler? How can we solve these?***\n",
    "   + --\n",
    "   + --\n",
    "   \n",
    "+ ***12. What's regular expression? How do we use it?***\n",
    "   + --\n",
    "   + --"
   ]
  },
  {
   "cell_type": "code",
   "execution_count": null,
   "metadata": {},
   "outputs": [],
   "source": []
  },
  {
   "cell_type": "code",
   "execution_count": null,
   "metadata": {},
   "outputs": [],
   "source": []
  }
 ],
 "metadata": {
  "kernelspec": {
   "display_name": "Python 3",
   "language": "python",
   "name": "python3"
  },
  "language_info": {
   "codemirror_mode": {
    "name": "ipython",
    "version": 3
   },
   "file_extension": ".py",
   "mimetype": "text/x-python",
   "name": "python",
   "nbconvert_exporter": "python",
   "pygments_lexer": "ipython3",
   "version": "3.7.2"
  }
 },
 "nbformat": 4,
 "nbformat_minor": 2
}
