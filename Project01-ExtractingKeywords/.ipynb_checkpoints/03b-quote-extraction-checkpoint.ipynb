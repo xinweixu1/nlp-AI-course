{
 "cells": [
  {
   "cell_type": "code",
   "execution_count": 1,
   "metadata": {},
   "outputs": [],
   "source": [
    "from pycorenlp import StanfordCoreNLP"
   ]
  },
  {
   "cell_type": "code",
   "execution_count": 21,
   "metadata": {},
   "outputs": [],
   "source": [
    "nlp = StanfordCoreNLP('http://localhost:9090')"
   ]
  },
  {
   "cell_type": "code",
   "execution_count": 6,
   "metadata": {},
   "outputs": [],
   "source": [
    "with open('./vec2world-news-sample.txt', 'r+') as f:\n",
    "    news_sample = f.read().splitlines() \n",
    "\n",
    "    # to avoid the '\\n' yield from f.readlines"
   ]
  },
  {
   "cell_type": "code",
   "execution_count": 8,
   "metadata": {},
   "outputs": [
    {
     "data": {
      "text/plain": [
       "['现如今随着各大赛区2019年新赛季的接近，各位职业选手为了尽快调整好自己的状态也是纷纷开始了自己的冲分之旅，比如像SN的新打野选手就冲到了韩服第二名，而像rookie、jackeylove等上分如喝水选手也是重回韩服高分段，可是就在这种大背景下，一名职业选手最近却是遨游黑铁段位，甚至还遭到了队友的无情嘲讽，这到底是怎么一回事呢？事情的主人公还是我们的锅老师，由于新赛季段位重置的缘故，mlxg在国服的账号经过了九胜一负的排位赛之后竟然只定位到了黑铁四，其实作为一名职业选手来说，mlxg原本在韩服的排位分数并不出众，“钻石打野王”的称号也不是空穴来风。但是谁曾想到，mlxg竟然还有沦落到黑铁段位的时候。不过mlxg对于自己这个段位还是非常看得开的，在每局游戏开始的时候还会非常调皮的发一些能够让所有人都看到的骚话，比如什么“大家好，请叫我黑铁打野王”。不过很明显，并不是所有的队友都会给mlxg好脸色，比如下面的这名玩家。在某局游戏的开始，mlxg再次非常调皮的发送了一句“各位大哥大姐，求求你们带我上个青铜吧”，可是这时一名队友却突然毫不客气的回复道：“爷不想带你”。确实，由于mlxg隐藏分太高的缘故，这几天匹配到的队友都是钻石的“大神”，对于一名钻石段位的玩家来说，去带一名黑铁的萌新的确是一件既丢份又浪费时间的事情。不过虽然被队友怼了，但是mlxg的做法却是非常的正确，既然你不想带我，那么就让我来带你吧。最终在mlxg的carry下，这名回怼mlxg的玩家也是几乎以躺赢的姿态结束了这局游戏，可能这名玩家现在也正在为自己与一位真正大神发生矛盾而后悔不已吧。而经过自己的努力，mlxg在这两天也是终于晋级青铜分段，看来“黑铁打野王”的称号已经不适用了啊，各位同学，你们觉得青铜段位的锅老师应该叫什么样的外号呢？']"
      ]
     },
     "execution_count": 8,
     "metadata": {},
     "output_type": "execute_result"
    }
   ],
   "source": [
    "news_sample[:1]"
   ]
  },
  {
   "cell_type": "code",
   "execution_count": 9,
   "metadata": {},
   "outputs": [],
   "source": [
    "news_content = ''.join(news_sample)"
   ]
  },
  {
   "cell_type": "code",
   "execution_count": 13,
   "metadata": {},
   "outputs": [
    {
     "data": {
      "text/plain": [
       "'现如今随着各大赛区2019年新赛季的接近，各位职业选手为了尽快调整好自己的状态也是纷纷开始了自己的冲分之旅，比如像SN的新打野选手就冲到了韩服第二名，而像rookie、jackeylove等上分如喝水选手也是重回韩服高分段，可是就在这种大背景下，一名职业选手最近却是遨游黑铁段位，甚至还遭到了队友的无情嘲讽，这到底是怎么一回事呢？事情的主人公还是我们的锅老师，由于新赛季段位重置的缘故，mlxg在国服'"
      ]
     },
     "execution_count": 13,
     "metadata": {},
     "output_type": "execute_result"
    }
   ],
   "source": [
    "news_content[:200]"
   ]
  },
  {
   "cell_type": "code",
   "execution_count": null,
   "metadata": {},
   "outputs": [],
   "source": []
  },
  {
   "cell_type": "code",
   "execution_count": 22,
   "metadata": {},
   "outputs": [],
   "source": [
    "results = nlp.annotate(news_content,\n",
    "                       properties={\n",
    "                       'annotators': 'tokenize,ssplit,pos,lemma,ner,parse,depparse,coref,quote',\n",
    "                       'outputFormat': 'json',\n",
    "                       'timeout': 100000,\n",
    "                   })"
   ]
  },
  {
   "cell_type": "code",
   "execution_count": 23,
   "metadata": {},
   "outputs": [
    {
     "data": {
      "text/plain": [
       "'CoreNLP request timed out. Your document may be too long.'"
      ]
     },
     "execution_count": 23,
     "metadata": {},
     "output_type": "execute_result"
    }
   ],
   "source": [
    "results[:100]"
   ]
  },
  {
   "cell_type": "markdown",
   "metadata": {},
   "source": [
    "```bash\n",
    "java -Xmx8192m -cp \"*\" edu.stanford.nlp.pipeline.StanfordCoreNLP -props StanfordCoreNLP-chinese.properties -annotators tokenize,ssplit,pos,lemma,ner,parse,depparse,coref,quote -file /Users/xinweixu/Dropbox/learn/Comp_Prog/nlp/data/nlp-project01/vec2world-news-sample.txt  -outputFormat json -outputDirectory /Users/xinweixu/Dropbox/learn/Comp_Prog/nlp/data/nlp-project01/\n",
    "```"
   ]
  },
  {
   "cell_type": "code",
   "execution_count": null,
   "metadata": {},
   "outputs": [],
   "source": []
  },
  {
   "cell_type": "code",
   "execution_count": null,
   "metadata": {},
   "outputs": [],
   "source": []
  },
  {
   "cell_type": "code",
   "execution_count": null,
   "metadata": {},
   "outputs": [],
   "source": []
  },
  {
   "cell_type": "code",
   "execution_count": null,
   "metadata": {},
   "outputs": [],
   "source": []
  }
 ],
 "metadata": {
  "kernelspec": {
   "display_name": "Python 3",
   "language": "python",
   "name": "python3"
  },
  "language_info": {
   "codemirror_mode": {
    "name": "ipython",
    "version": 3
   },
   "file_extension": ".py",
   "mimetype": "text/x-python",
   "name": "python",
   "nbconvert_exporter": "python",
   "pygments_lexer": "ipython3",
   "version": "3.7.3"
  }
 },
 "nbformat": 4,
 "nbformat_minor": 2
}
