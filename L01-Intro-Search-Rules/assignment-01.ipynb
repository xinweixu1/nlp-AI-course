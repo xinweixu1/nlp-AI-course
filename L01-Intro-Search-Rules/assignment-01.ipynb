{
 "cells": [
  {
   "cell_type": "markdown",
   "metadata": {},
   "source": [
    "## Assigment-01\n",
    "\n",
    "### 基于模式匹配的对话机器人\n",
    "\n",
    "\n",
    "### 1. Pattern Match\n",
    "Pattern: (我想要A)     \n",
    "Response:（如果你有A, 对你意味着什么呢？）     \n",
    "\n",
    "为了实现模板的判断和定义，我们需要定义一个特殊的符号类型，这个符号类型就叫做\"variable\"， 这个\"variable\"用来表示是一个占位符。例如，定义一个目标: \"I want X\"， 我们可以表示成 \"I want ?X\", 意思就是?X是一个用来占位的符号。\n",
    "\n",
    "如果输入了\"I want holiday\"， 在这里 'holiday' 就是 '?X'"
   ]
  },
  {
   "cell_type": "code",
   "execution_count": 10,
   "metadata": {},
   "outputs": [],
   "source": [
    "def is_variable(pat):\n",
    "    return pat.startswith('?') and all(s.isalpha() for s in pat[1:])\n",
    "\n",
    "def pat_match(pattern, saying):\n",
    "    \"Define a simple proceture that checks whether the saying matches with the pattern\"\n",
    "    \n",
    "    if is_variable(pattern[0]): return True\n",
    "    else:\n",
    "        if pattern[0] !=saying[0]: return False\n",
    "        else:\n",
    "            return pat_match(pattern[1:], saying[1:])\n",
    "\n",
    "# This isalpha() returns True if all characters in the strings are alphabets and \n",
    "# False if at least one character is not alphabet."
   ]
  },
  {
   "cell_type": "code",
   "execution_count": 2,
   "metadata": {},
   "outputs": [
    {
     "data": {
      "text/plain": [
       "True"
      ]
     },
     "execution_count": 2,
     "metadata": {},
     "output_type": "execute_result"
    }
   ],
   "source": [
    "pat_match('I want ?X'.split(), 'I want holiday'.split())"
   ]
  },
  {
   "cell_type": "code",
   "execution_count": 3,
   "metadata": {},
   "outputs": [
    {
     "data": {
      "text/plain": [
       "False"
      ]
     },
     "execution_count": 3,
     "metadata": {},
     "output_type": "execute_result"
    }
   ],
   "source": [
    "pat_match('I dreamed about ?X'.split(), 'I have dreamed a dog'.split())"
   ]
  },
  {
   "cell_type": "code",
   "execution_count": 4,
   "metadata": {},
   "outputs": [],
   "source": [
    "def pat_match(pattern, saying):\n",
    "    \"Revise the previous procedure to return the matched variable <A>.\"\n",
    "    \n",
    "    if is_variable(pattern[0]):\n",
    "        return pattern[0], saying[0]\n",
    "    else:\n",
    "        if pattern[0] != saying[0]: return False\n",
    "        else:\n",
    "            return pat_match(pattern[1:], saying[1:])\n"
   ]
  },
  {
   "cell_type": "code",
   "execution_count": 5,
   "metadata": {},
   "outputs": [
    {
     "data": {
      "text/plain": [
       "('?X', 'holiday')"
      ]
     },
     "execution_count": 5,
     "metadata": {},
     "output_type": "execute_result"
    }
   ],
   "source": [
    "pat_match('I want ?X'.split(), 'I want holiday'.split())"
   ]
  },
  {
   "cell_type": "code",
   "execution_count": 6,
   "metadata": {},
   "outputs": [
    {
     "data": {
      "text/plain": [
       "('?X', '2+2')"
      ]
     },
     "execution_count": 6,
     "metadata": {},
     "output_type": "execute_result"
    }
   ],
   "source": [
    "pat_match('?X equals ?X'.split(), '2+2 equals 4'.split())\n",
    "# Note that when we have two pairs matched variables, the procedure only returns the first one"
   ]
  },
  {
   "cell_type": "code",
   "execution_count": 7,
   "metadata": {},
   "outputs": [],
   "source": [
    "def pat_match(pattern, saying):\n",
    "    \"Revise the previous procedure so that we can identify all matched pairs.\"\n",
    "    \n",
    "    if not pattern or not saying: return []\n",
    "    \n",
    "    if is_variable(pattern[0]):\n",
    "        return [(pattern[0], saying[0])] + pat_match(pattern[1:], saying[1:])\n",
    "    else:\n",
    "        if pattern[0] != saying[0]: return []\n",
    "        else:\n",
    "            return pat_match(pattern[1:], saying[1:])\n",
    "        "
   ]
  },
  {
   "cell_type": "code",
   "execution_count": 8,
   "metadata": {},
   "outputs": [
    {
     "data": {
      "text/plain": [
       "[('?X', '3'), ('?Y', '2')]"
      ]
     },
     "execution_count": 8,
     "metadata": {},
     "output_type": "execute_result"
    }
   ],
   "source": [
    "pat_match('?X is greater than ?Y'.split(), '3 is greater than 2'.split())"
   ]
  },
  {
   "cell_type": "code",
   "execution_count": 111,
   "metadata": {},
   "outputs": [],
   "source": [
    "# Now we want to do two more things --- a) define a procedure that translates the matched relations\n",
    "# into a dictionary; and b) define a procedure that can substitute variables given a dictionary\n",
    "def pat_to_dic (patterns):\n",
    "    return{k:v for k, v in patterns}\n",
    "\n",
    "def substitute(pattern, pat_dic):\n",
    "    if not pattern: return []\n",
    "    \n",
    "    return [pat_dic.get(pattern[0], pattern[0])] + substitute(pattern[1:], pat_dic)\n"
   ]
  },
  {
   "cell_type": "code",
   "execution_count": 10,
   "metadata": {},
   "outputs": [],
   "source": [
    "got_patterns = pat_match('I want ?X'.split(), 'I want iPhone'.split())"
   ]
  },
  {
   "cell_type": "code",
   "execution_count": 11,
   "metadata": {},
   "outputs": [
    {
     "data": {
      "text/plain": [
       "[('?X', 'iPhone')]"
      ]
     },
     "execution_count": 11,
     "metadata": {},
     "output_type": "execute_result"
    }
   ],
   "source": [
    "got_patterns"
   ]
  },
  {
   "cell_type": "code",
   "execution_count": 13,
   "metadata": {},
   "outputs": [
    {
     "data": {
      "text/plain": [
       "['What', 'do', 'you', 'do', 'if', 'you', 'got', 'a', 'iPhone']"
      ]
     },
     "execution_count": 13,
     "metadata": {},
     "output_type": "execute_result"
    }
   ],
   "source": [
    "substitute(\"What do you do if you got a ?X\".split(), pat_to_dic(got_patterns))"
   ]
  },
  {
   "cell_type": "code",
   "execution_count": 14,
   "metadata": {},
   "outputs": [
    {
     "data": {
      "text/plain": [
       "'What do you do if you got a iPhone'"
      ]
     },
     "execution_count": 14,
     "metadata": {},
     "output_type": "execute_result"
    }
   ],
   "source": [
    "' '.join(substitute(\"What do you do if you got a ?X\".split(), pat_to_dic(got_patterns)))\n",
    "# join the sentence together"
   ]
  },
  {
   "cell_type": "code",
   "execution_count": 15,
   "metadata": {},
   "outputs": [],
   "source": [
    "# try another example\n",
    "john_pat = pat_match('?P needs ?X'.split(), \"John needs vacation\".split())"
   ]
  },
  {
   "cell_type": "code",
   "execution_count": 17,
   "metadata": {},
   "outputs": [
    {
     "data": {
      "text/plain": [
       "'Why does John need vacation'"
      ]
     },
     "execution_count": 17,
     "metadata": {},
     "output_type": "execute_result"
    }
   ],
   "source": [
    "' '.join(substitute('Why does ?P need ?X'.split(), pat_to_dic(john_pat)))"
   ]
  },
  {
   "cell_type": "code",
   "execution_count": 77,
   "metadata": {},
   "outputs": [
    {
     "data": {
      "text/plain": [
       "['Image you will get ?X soon', 'Why do you need ?X ?']"
      ]
     },
     "execution_count": 77,
     "metadata": {},
     "output_type": "execute_result"
    }
   ],
   "source": [
    "# Now we can define a pattern dictionary\n",
    "defined_patterns = {\n",
    "    \"I need ?X\": [\"Image you will get ?X soon\", \"Why do you need ?X ?\"], \n",
    "    \"My ?X told me something\": [\"Talk about more about your ?X\", \"How do you think about your ?X ?\"]\n",
    "}\n",
    "\n",
    "[key.split() for key in defined_patterns.keys()]\n",
    "defined_patterns.get(\"I need ?X\")"
   ]
  },
  {
   "cell_type": "code",
   "execution_count": 91,
   "metadata": {},
   "outputs": [],
   "source": [
    "import random\n",
    "def get_response(saying, pat_dic):\n",
    "    \"Define a procedure that returns a patterned response based the dictionary supplied\"\n",
    "    \n",
    "    if not saying or not pat_dic: return []\n",
    "    \n",
    "    response_list = []\n",
    "    \n",
    "    for key, value in pat_dic.items():\n",
    "        got_patterns = pat_match(key.split(), saying.split())\n",
    "        if got_patterns:\n",
    "            pat_response = pat_dic.get(key)\n",
    "            for r in pat_response:\n",
    "                response_list.append(' '.join(substitute(r.split(), pat_to_dic(got_patterns))))\n",
    "        else: continue\n",
    "    \n",
    "    if response_list: \n",
    "        return random.choice(response_list)\n",
    "    else: \n",
    "        return \"Sorry, I don't know how to answer.\"\n"
   ]
  },
  {
   "cell_type": "code",
   "execution_count": 95,
   "metadata": {},
   "outputs": [
    {
     "data": {
      "text/plain": [
       "'Talk about more about your mom'"
      ]
     },
     "execution_count": 95,
     "metadata": {},
     "output_type": "execute_result"
    }
   ],
   "source": [
    "get_response('My mom told me something', defined_patterns)"
   ]
  },
  {
   "cell_type": "code",
   "execution_count": 96,
   "metadata": {},
   "outputs": [
    {
     "data": {
      "text/plain": [
       "'Why do you need vacation ?'"
      ]
     },
     "execution_count": 96,
     "metadata": {},
     "output_type": "execute_result"
    }
   ],
   "source": [
    "get_response('I need vacation', defined_patterns)"
   ]
  },
  {
   "cell_type": "markdown",
   "metadata": {},
   "source": [
    "### 2. Segment Match\n",
    "我们上边的这种形式，能够进行一些初级的对话了，但是我们的模式逐字逐句匹配的， \"I need iPhone\" 和 \"I need ?X\" 可以匹配，但是\"I need an iPhone\" 和 \"I need ?X\" 就不匹配了，那怎么办？\n",
    "\n",
    "为了解决这个问题，我们可以新建一个变量类型 \"?\\*X\", 这种类型多了一个星号(\\*),表示匹配多个\n",
    "\n",
    "首先，和前文类似，我们需要定义一个判断是不是匹配多个的variable.\n"
   ]
  },
  {
   "cell_type": "code",
   "execution_count": 9,
   "metadata": {},
   "outputs": [],
   "source": [
    "def is_pattern_segment(pattern):\n",
    "    return pattern.startswith('?*') and all(a.isalpha() for a in pattern[2:])"
   ]
  },
  {
   "cell_type": "code",
   "execution_count": 26,
   "metadata": {},
   "outputs": [
    {
     "data": {
      "text/plain": [
       "True"
      ]
     },
     "execution_count": 26,
     "metadata": {},
     "output_type": "execute_result"
    }
   ],
   "source": [
    "is_pattern_segment('?*PYAMC')"
   ]
  },
  {
   "cell_type": "code",
   "execution_count": 43,
   "metadata": {},
   "outputs": [],
   "source": [
    "from collections import defaultdict\n",
    "\n",
    "fail = [True, None]\n",
    "\n",
    "\n",
    "def pat_match_with_seg(pattern, saying):\n",
    "    \"Revise the previous pat_match in order to match ?*x variable with a segment of texts.\"\n",
    "    \n",
    "    if not pattern or not saying: return []\n",
    "    \n",
    "    pat = pattern[0]\n",
    "    \n",
    "    if is_variable(pat):    # when we have a ?X variable\n",
    "        return [(pat, saying[0])] + pat_match_with_seg(pattern[1:], saying[1:])\n",
    "    elif is_pattern_segment(pat):   # when we have a ?*X variable\n",
    "        if segment_match(pattern, saying) != fail:\n",
    "            match, index = segment_match(pattern, saying)\n",
    "            return [match] + pat_match_with_seg(pattern[1:], saying[index:])\n",
    "        else: \n",
    "            return segment_match(pattern, saying) # when the segment_match returns fail\n",
    "    elif pat == saying[0]:\n",
    "        return pat_match_with_seg(pattern[1:], saying[1:])\n",
    "    else:\n",
    "        return fail\n",
    "    \n",
    "\n",
    "def segment_match(pattern, saying):\n",
    "    \"Find the group of words in saying that matches with the ?*x variable in a given pattern.\"\n",
    "    \n",
    "    seg_pat, rest = pattern[0], pattern[1:]\n",
    "    seg_pat = seg_pat.replace('?*', '?')  # change the ?* prefix into a single ?\n",
    "    \n",
    "    if not rest: return (seg_pat, saying), len(saying) \n",
    "    \n",
    "    for i, token in enumerate(saying):\n",
    "        if rest[0] == token: \n",
    "            return (seg_pat, saying[:i]), i    # note i = len(saying) :)\n",
    "    \n",
    "    return fail # to prevent ?*X matches the whole of saying"
   ]
  },
  {
   "cell_type": "code",
   "execution_count": 44,
   "metadata": {},
   "outputs": [
    {
     "data": {
      "text/plain": [
       "(('?P', ['My', 'dog', 'along', 'with', 'my', 'cat']), 6)"
      ]
     },
     "execution_count": 44,
     "metadata": {},
     "output_type": "execute_result"
    }
   ],
   "source": [
    "segment_match('?*P is very good'.split(), \"My dog along with my cat is very good\".split())"
   ]
  },
  {
   "cell_type": "code",
   "execution_count": 45,
   "metadata": {},
   "outputs": [
    {
     "data": {
      "text/plain": [
       "[('?P', ['My', 'dog']), ('?X', ['my', 'cat', 'is', 'very', 'cute'])]"
      ]
     },
     "execution_count": 45,
     "metadata": {},
     "output_type": "execute_result"
    }
   ],
   "source": [
    "pat_match_with_seg('?*P is very good and ?*X'.split(), \"My dog is very good and my cat is very cute\".split())"
   ]
  },
  {
   "cell_type": "code",
   "execution_count": 46,
   "metadata": {},
   "outputs": [
    {
     "data": {
      "text/plain": [
       "[True, None]"
      ]
     },
     "execution_count": 46,
     "metadata": {},
     "output_type": "execute_result"
    }
   ],
   "source": [
    "pat_match_with_seg('?*P are good'.split(), \"My cat is very cute\".split())"
   ]
  },
  {
   "cell_type": "code",
   "execution_count": 47,
   "metadata": {},
   "outputs": [],
   "source": [
    "# Give some example patterns in order to construct responses\n",
    "response_pair = {\n",
    "    'I need ?X': ['Why do you need ?X'],\n",
    "    \"I don't like my ?X\": [\"What bad things did ?X do for you?\"]\n",
    "}"
   ]
  },
  {
   "cell_type": "code",
   "execution_count": 48,
   "metadata": {},
   "outputs": [
    {
     "data": {
      "text/plain": [
       "[('?X', ['an', 'iPhone'])]"
      ]
     },
     "execution_count": 48,
     "metadata": {},
     "output_type": "execute_result"
    }
   ],
   "source": [
    "pat_match_with_seg('I need ?*X'.split(), \"I need an iPhone\".split())"
   ]
  },
  {
   "cell_type": "code",
   "execution_count": 88,
   "metadata": {},
   "outputs": [
    {
     "data": {
      "text/plain": [
       "['Why', 'do', 'you', 'need', 'an iPhone']"
      ]
     },
     "execution_count": 88,
     "metadata": {},
     "output_type": "execute_result"
    }
   ],
   "source": [
    "got_pattern = pat_match_with_seg('I need ?*X'.split(), \"I need an iPhone\".split())\n",
    "substitute(\"Why do you need ?X\".split(), pat_to_dic(got_pattern))"
   ]
  },
  {
   "cell_type": "code",
   "execution_count": 126,
   "metadata": {},
   "outputs": [],
   "source": [
    "# Revise the pat_to_dic procedure to return a joined phrase for the substituted values of ?X\n",
    "#  instead of broken words!\n",
    "\n",
    "def pat_to_dic(patterns):\n",
    "    return {k: ' '.join(v) if isinstance(v, list) else v for k,v in patterns} \n",
    "# join v if v is a list"
   ]
  },
  {
   "cell_type": "code",
   "execution_count": 89,
   "metadata": {},
   "outputs": [
    {
     "data": {
      "text/plain": [
       "'Why do you need an iPhone'"
      ]
     },
     "execution_count": 89,
     "metadata": {},
     "output_type": "execute_result"
    }
   ],
   "source": [
    "substitute(\"Why do you need ?X\".split(), pat_to_dic(got_pattern))\n",
    "' '.join(substitute(\"Why do you need ?X\".split(), pat_to_dic(got_pattern)))"
   ]
  },
  {
   "cell_type": "code",
   "execution_count": 52,
   "metadata": {},
   "outputs": [
    {
     "data": {
      "text/plain": [
       "[('?X', ['I', 'am', 'mike,'])]"
      ]
     },
     "execution_count": 52,
     "metadata": {},
     "output_type": "execute_result"
    }
   ],
   "source": [
    "# If we have a pattern like this one:\n",
    "\n",
    "(\"?*X hello ?*Y\", \"Hi, how do you do\")\n",
    "pat_match_with_seg('?*X hello ?*Y'.split(), \n",
    "                  \"I am mike, hello \".split())"
   ]
  },
  {
   "cell_type": "code",
   "execution_count": 136,
   "metadata": {},
   "outputs": [
    {
     "data": {
      "text/plain": [
       "['Hi,', 'how', 'do', 'you', 'do?']"
      ]
     },
     "execution_count": 136,
     "metadata": {},
     "output_type": "execute_result"
    }
   ],
   "source": [
    "got_pattern = pat_match_with_seg('?*X hello ?*Y'.split(), \n",
    "                  \"I am mike, hello \".split())\n",
    "substitute(\"Hi, how do you do?\".split(), pat_to_dic(got_pattern))"
   ]
  },
  {
   "cell_type": "code",
   "execution_count": 60,
   "metadata": {},
   "outputs": [],
   "source": [
    "rules = {\n",
    "    \"I was ?*X\": [\"Were you really ?X ?\", \"I already knew you were ?X .\"],\n",
    "    \"?*X hello ?*Y\": [\"Hi, how do you do?\"]\n",
    "}"
   ]
  },
  {
   "cell_type": "markdown",
   "metadata": {},
   "source": [
    "#### 问题 1\n",
    "编写一个程序, get_response(saying, response_rules)输入是一个字符串 + 我们定义的 rules，例如上边我们所写的 pattern， 输出是一个回答。"
   ]
  },
  {
   "cell_type": "code",
   "execution_count": 127,
   "metadata": {},
   "outputs": [],
   "source": [
    "# Now we want to define a procedure, get_response, that does the following things:\n",
    "#  -- takes two inputs, a \"saying\", and a dictionary that specify a set of response rules，\n",
    "#     where each element in the dictionary follows the format \n",
    "#     {<pattern>: [<response1>,<response2>,...]}\n",
    "#  -- it finds a matched pattern within the dictionary supplied for the \"saying\" (pat_match_with_seg)\n",
    "#  -- it finds the key words within the \"saying\" used as substitute and gives a patterned response (substitute, pat_to_dic)\n",
    "#  -- to make the response interesting, it randomly chooses a patterned response for a list of possible responses defined by the rules\n",
    "\n",
    "\n",
    "import random\n",
    "\n",
    "def get_response(saying, pat_dic):\n",
    "    if not saying or not pat_dic: return []\n",
    "    \n",
    "    response_list = []\n",
    "    \n",
    "    for key, value in pat_dic.items():\n",
    "        got_patterns = pat_match_with_seg(key.split(), saying.split())\n",
    "        if got_patterns != fail:\n",
    "            pat_response = pat_dic[key]\n",
    "            for r in pat_response:\n",
    "                response_list.append(' '.join(substitute(r.split(), pat_to_dic(got_patterns))))\n",
    "        else: continue\n",
    "    \n",
    "    if response_list: \n",
    "        return random.choice(response_list)\n",
    "    else: \n",
    "        return \"Sorry, I don't know how to answer.\"\n"
   ]
  },
  {
   "cell_type": "code",
   "execution_count": 131,
   "metadata": {},
   "outputs": [
    {
     "data": {
      "text/plain": [
       "[True, None]"
      ]
     },
     "execution_count": 131,
     "metadata": {},
     "output_type": "execute_result"
    }
   ],
   "source": [
    "pat_match_with_seg(\"?*X hello ?*Y\".split(), \"I was a scientist\".split())"
   ]
  },
  {
   "cell_type": "code",
   "execution_count": 138,
   "metadata": {},
   "outputs": [
    {
     "data": {
      "text/plain": [
       "(('?X', ['I', 'am', 'mike,']), 3)"
      ]
     },
     "execution_count": 138,
     "metadata": {},
     "output_type": "execute_result"
    }
   ],
   "source": [
    "segment_match(\"?*X hello ?*Y\".split(), \"I am mike, hello\".split())"
   ]
  },
  {
   "cell_type": "code",
   "execution_count": 121,
   "metadata": {},
   "outputs": [
    {
     "data": {
      "text/plain": [
       "[('?X', ['a', 'scientist'])]"
      ]
     },
     "execution_count": 121,
     "metadata": {},
     "output_type": "execute_result"
    }
   ],
   "source": [
    "pat_match_with_seg(\"I was ?*X\".split(), \"I was a scientist\".split())"
   ]
  },
  {
   "cell_type": "code",
   "execution_count": 128,
   "metadata": {},
   "outputs": [
    {
     "data": {
      "text/plain": [
       "'Were you really a historian ?'"
      ]
     },
     "execution_count": 128,
     "metadata": {},
     "output_type": "execute_result"
    }
   ],
   "source": [
    "get_response(\"I was a historian\", rules)"
   ]
  },
  {
   "cell_type": "code",
   "execution_count": 129,
   "metadata": {},
   "outputs": [
    {
     "data": {
      "text/plain": [
       "\"Sorry, I don't know how to answer.\""
      ]
     },
     "execution_count": 129,
     "metadata": {},
     "output_type": "execute_result"
    }
   ],
   "source": [
    "get_response(\"Hi, my name is John\", rules)"
   ]
  },
  {
   "cell_type": "code",
   "execution_count": 140,
   "metadata": {},
   "outputs": [
    {
     "data": {
      "text/plain": [
       "'Hi, how do you do?'"
      ]
     },
     "execution_count": 140,
     "metadata": {},
     "output_type": "execute_result"
    }
   ],
   "source": [
    "get_response(\"I am Mike, hello\", rules)"
   ]
  },
  {
   "cell_type": "markdown",
   "metadata": {},
   "source": [
    "#### 问题 2\n",
    "将以上程序改写为能够支持中文输入的模式（提示：jieba分词）"
   ]
  },
  {
   "cell_type": "code",
   "execution_count": 241,
   "metadata": {},
   "outputs": [],
   "source": [
    "import jieba\n",
    "import random\n",
    "from collections import defaultdict\n",
    "\n",
    "fail = [True, None]\n",
    "\n",
    "def is_variable(pat):  \n",
    "    \"Check if the input string is a pattern variable ?x\"\n",
    "    return pat.startswith('?') and all(s.isalpha() for s in pat[1:])\n",
    "\n",
    "def is_pattern_segment(pattern):\n",
    "    \"Check if the input string is a segment pattern variable ?*x\"\n",
    "    return pattern.startswith('?*') and all(a.isalpha() for a in pattern[2:])\n",
    "\n",
    "def pat_to_dic(patterns):\n",
    "    \"Returns a dictionary that maps the pattern variables to key words identified in the sentence\"\n",
    "    return {k: ''.join(v) if isinstance(v, list) else v for k,v in patterns} \n",
    "\n",
    "def substitute(pattern, pat_dic):\n",
    "    \"Returns a response after replacing the pattern variables with the key words\"\n",
    "    if not pattern: return []\n",
    "    return [pat_dic.get(pattern[0], pattern[0])] + substitute(pattern[1:], pat_dic)\n",
    "\n",
    "def pat_match_with_seg(pattern, saying):\n",
    "    \"Match the pattern variables with a segment of texts and return the matched result\"\n",
    "    \n",
    "    if not pattern or not saying: return []\n",
    "    \n",
    "    pat = pattern[0]\n",
    "    \n",
    "    if is_variable(pat):    # when we have a ?X variable\n",
    "        return [(pat, saying[0])] + pat_match_with_seg(pattern[1:], saying[1:])\n",
    "    elif is_pattern_segment(pat):   # when we have a ?*X variable\n",
    "        match, index = segment_match(pattern, saying)\n",
    "        return [match] + pat_match_with_seg(pattern[1:], saying[index:])  \n",
    "    elif pat == saying[0]:\n",
    "        return pat_match_with_seg(pattern[1:], saying[1:])\n",
    "    else:\n",
    "        return fail\n",
    "    \n",
    "def segment_match(pattern, saying):\n",
    "    \"Find the group of words in saying that matches with the ?*x variable in a given pattern.\"\n",
    "    \n",
    "    seg_pat, rest = pattern[0], pattern[1:]\n",
    "    seg_pat = seg_pat.replace('?*', '?')  # change the ?* prefix into a single ?\n",
    "    \n",
    "    if not rest: return (seg_pat, saying), len(saying) \n",
    "    \n",
    "    for i, token in enumerate(saying):\n",
    "        if rest[0] == token: \n",
    "            return (seg_pat, saying[:i]), i # note i = len(saying)\n",
    "    \n",
    "    return fail # modified - to prevent ?*X matches the whole of saying\n",
    "\n",
    "\n",
    "def get_response(saying, pat_dic):\n",
    "    \"\"\"\n",
    "    Define a procedure that does the following things:\n",
    "    - Match the saying with keys in the pattern dictionary supplied;\n",
    "    - Fetch a response from the dictionary;\n",
    "    - Replace the pattern variable with the key words in saying and return a response\n",
    "    \"\"\"\n",
    "    if not saying or not pat_dic: return []\n",
    "    \n",
    "    response_list = []\n",
    "    saying_token = ' '.join(jieba.cut(saying)).split() # split the saying into tokens\n",
    "    \n",
    "    for key, value in pat_dic.items():\n",
    "        key_str = ' '.join(jieba.cut(key)) # output a string with whitespaces\n",
    "        key_str_token = key_str.replace(\"? * x\", \"?*x\").replace(\"? * y\", \"?*y\").replace(\"? * z\", \"?*z\").split()\n",
    "        # remove the whitespaces and split the string into tokens\n",
    "        got_patterns = pat_match_with_seg(key_str_token, saying_token)\n",
    "        \n",
    "        if not None in got_patterns:  # to prevent we get any 'fail' from got_patterns \n",
    "        # (note that this is a strict condition -- pat_match_with_seg may find multiple variables but only one of them fails)\n",
    "            pat_response = pat_dic[key]\n",
    "            for r in pat_response:\n",
    "                r_token = ' '.join(jieba.cut(r)).replace(\"? x\", \"?x\").replace(\"? y\", \"?y\").replace(\"? z\", \"?z\").split()\n",
    "                response_list.append(''.join(substitute(r_token, pat_to_dic(got_patterns))))\n",
    "        else: continue\n",
    "    \n",
    "    if response_list: \n",
    "        return random.choice(response_list)\n",
    "    else: \n",
    "        return \"对不起，我没有明白你的意思，能稍微解释一下吗？\""
   ]
  },
  {
   "cell_type": "code",
   "execution_count": 242,
   "metadata": {
    "scrolled": true
   },
   "outputs": [],
   "source": [
    "rules_dic = {\n",
    "    '?*x机器人?*y': ['你为什么要提机器人的事情？', '你为什么觉得机器人要解决你的问题？'],\n",
    "    '?*x总是?*y': ['你能想到一些其他情况吗?', '例如什么时候?', '你具体是说哪一次？', '真的---总是吗？'],\n",
    "    '?*x和?*y一样?*z': ['你觉得?z有什么问题吗?', '?z会对你有什么影响呢?'],\n",
    "    '?*x我是?*y': ['真的吗？', '?x想告诉你，或许我早就知道你是?y', '你为什么现在才告诉我你是?y'],\n",
    "    '?*x就像?*y': ['你觉得?x和?y有什么相似性？', '?x和?y真的有关系吗？', '怎么说？'],\n",
    "    '?*x如果?*y': ['你真的觉得?y会发生吗？', '你希望?y吗?', '真的吗？如果?y的话', '关于?y你怎么想？']\n",
    "}\n",
    "\n"
   ]
  },
  {
   "cell_type": "code",
   "execution_count": 243,
   "metadata": {},
   "outputs": [
    {
     "data": {
      "text/plain": [
       "'例如什么时候?'"
      ]
     },
     "execution_count": 243,
     "metadata": {},
     "output_type": "execute_result"
    }
   ],
   "source": [
    "get_response(\"你似乎总是这样\", rules_dic)"
   ]
  },
  {
   "cell_type": "code",
   "execution_count": 244,
   "metadata": {},
   "outputs": [
    {
     "data": {
      "text/plain": [
       "'你为什么觉得机器人要解决你的问题？'"
      ]
     },
     "execution_count": 244,
     "metadata": {},
     "output_type": "execute_result"
    }
   ],
   "source": [
    "get_response(\"我昨天看到机器人在博物馆里\", rules_dic)"
   ]
  },
  {
   "cell_type": "code",
   "execution_count": 246,
   "metadata": {},
   "outputs": [
    {
     "data": {
      "text/plain": [
       "'好吃会对你有什么影响呢?'"
      ]
     },
     "execution_count": 246,
     "metadata": {},
     "output_type": "execute_result"
    }
   ],
   "source": [
    "get_response(\"葡萄和草莓一样好吃\", rules_dic)"
   ]
  },
  {
   "cell_type": "code",
   "execution_count": 248,
   "metadata": {},
   "outputs": [
    {
     "data": {
      "text/plain": [
       "'其实想告诉你，或许我早就知道你是外星人'"
      ]
     },
     "execution_count": 248,
     "metadata": {},
     "output_type": "execute_result"
    }
   ],
   "source": [
    "get_response(\"其实我是外星人\", rules_dic)"
   ]
  },
  {
   "cell_type": "code",
   "execution_count": 250,
   "metadata": {},
   "outputs": [
    {
     "data": {
      "text/plain": [
       "'真的吗？如果生活欺骗了你的话'"
      ]
     },
     "execution_count": 250,
     "metadata": {},
     "output_type": "execute_result"
    }
   ],
   "source": [
    "get_response(\"如果生活欺骗了你\", rules_dic)"
   ]
  },
  {
   "cell_type": "code",
   "execution_count": 251,
   "metadata": {},
   "outputs": [
    {
     "data": {
      "text/plain": [
       "'忧愁和一江春水向东流真的有关系吗？'"
      ]
     },
     "execution_count": 251,
     "metadata": {},
     "output_type": "execute_result"
    }
   ],
   "source": [
    "get_response(\"忧愁就像一江春水向东流\", rules_dic)"
   ]
  },
  {
   "cell_type": "code",
   "execution_count": 228,
   "metadata": {},
   "outputs": [
    {
     "data": {
      "text/plain": [
       "True"
      ]
     },
     "execution_count": 228,
     "metadata": {},
     "output_type": "execute_result"
    }
   ],
   "source": [
    "# Test cases!\n",
    "\n",
    "pat_str = ' '.join(jieba.cut(\"?*x总是?*y\")) # output a string with whitespaces\n",
    "pat_list = pat_str.replace(\"? * x\", \"?*x\").replace(\"? * y\", \"?*y\").replace(\"? * z\", \"?*z\").split()\n",
    "pat_list\n",
    "is_pattern_segment(pat_list[0])\n",
    "\n",
    "seg_list = ' '.join(jieba.cut(\"我昨天看到机器人在博物馆里\")).split() # split the string into a list\n",
    "segment_match(pat_list, seg_list)\n",
    "pat_match_with_seg(pat_list, seg_list)\n",
    "\n",
    "\n",
    "#fail in [('?x', []), True, None]\n",
    "#for k,v in got_patterns:\n",
    "#    print({k: ''.join(v) if isinstance(v,list) else v})\n",
    "#substitute('你为什么要提机器人的事情?'.split(), pat_to_dic(pat_match_with_seg(pat_list, seg_list)))"
   ]
  },
  {
   "cell_type": "code",
   "execution_count": 252,
   "metadata": {},
   "outputs": [
    {
     "data": {
      "text/plain": [
       "['?z', '会', '对', '你', '有', '什么', '影响', '呢', '?']"
      ]
     },
     "execution_count": 252,
     "metadata": {},
     "output_type": "execute_result"
    }
   ],
   "source": [
    "# More test cases....\n",
    "\n",
    "pat_str = ' '.join(jieba.cut(\"?*x和?*y一样?*z\")) # output a string with whitespaces\n",
    "pat_list = pat_str.replace(\"? * x\", \"?*x\").replace(\"? * y\", \"?*y\").replace(\"? * z\", \"?*z\").split()\n",
    "pat_list\n",
    "seg_list = ' '.join(jieba.cut(\"葡萄和草莓一样好吃\")).split() # split the string into a list\n",
    "seg_list\n",
    "segment_match(pat_list, seg_list)\n",
    "patterns = pat_match_with_seg(pat_list, seg_list)\n",
    "pat_to_dic(patterns)\n",
    "' '.join(jieba.cut('?z会对你有什么影响呢?')).replace(\"? z\", \"?z\").split()\n",
    "\n"
   ]
  },
  {
   "cell_type": "code",
   "execution_count": null,
   "metadata": {},
   "outputs": [],
   "source": [
    "# Failed experiments for stripping the whitespaces between non-chinese characters after jieba.cut\n",
    "\n",
    "#jieba.suggest_freq(('?*x'), True)\n",
    "#jieba.load_userdict('user_dict.txt')\n",
    "\n",
    "#import re\n",
    "#re.split('(\\?* )x', pat_list)\n",
    "\n",
    "#for i, token in enumerate(pat_list):\n",
    "#    if token.isalpha():\n",
    "#        print (pat_list[ :i+1].replace(\" \", \"\")) # replace whitespaces\n",
    "\n",
    "#\"机器\".isalpha()"
   ]
  },
  {
   "cell_type": "code",
   "execution_count": 100,
   "metadata": {},
   "outputs": [],
   "source": []
  },
  {
   "cell_type": "markdown",
   "metadata": {},
   "source": [
    "#### 问题 3 \n",
    "多设计一些模式，让这个程序变得更好玩，多和大家交流，看看大家有什么好玩的模式\n",
    "\n",
    "【待补 ：）】"
   ]
  },
  {
   "cell_type": "code",
   "execution_count": null,
   "metadata": {},
   "outputs": [],
   "source": []
  },
  {
   "cell_type": "markdown",
   "metadata": {},
   "source": [
    "#### 问题4\n",
    "\n",
    "1. 这样的程序有什么优缺点？你有什么可以改进的方法吗？\n",
    "   + **优点**： 基于规则驱动，搭建过程简单明了；功能有限，容易排错；可以随时添加和修改规则。\n",
    "   + **缺点**： 规则过于僵硬化不够变通，比如用户在输入过程中多加一个空格或标点符号，可能就无法识别了；另外这种识别关键词的算法在pattern match的时候似乎不够有效率（也可能是我写的for-loop的解决方案不够有效率），每次在识别匹配的pattern的时候，需要搜索整个词典（如果词典数据库非常庞大，反应时间就会慢很多）。\n",
    "   + **改进想法**：如果能够基于类似于课上例子语法树的grammar rule来建立规则，可能适用空间和变化范围会广泛一些（比如判断用户输入的是名词、动词、形容词、标点等等，从而组合做出应答）。如果用来存储 pattern:response 的词典能够基于某种规则进行优化（比如任务型分类），或许可以减少搜索时间从而增加应答速度。不清楚目前业界的客服机器人所用的主流的数据存储模式是什么？以及是如何优化机器人的应答速度和应变能力的呢？   \n",
    "   \n",
    "   \n",
    "\n",
    "2. 什么是数据驱动？数据驱动在这个程序里如何体现？\n",
    "   + 联想上课举的例子，通过修改基于规则的语法树来随机产生越来越复杂的语句和算数公式，数据驱动（data-driven）的思维方式是最终需要程序能够针对环境作出调整变化，对于类似但没有见过的情况作出正确的解析和回应。在这个程序里，数据驱动其实是由人为修改程序语句实现的 --- 先以简单的英文语句pattern作为起始点，写出一个对话交互的程序，然后拓展到兼容中文模式；程序的内核没有变（pattern identification ---> pattern match ---> retrieve & complie response）但程序的实现方式由于数据的不同而有改动。\n",
    "\n",
    "\n",
    "3. 数据驱动与AI的关系是什么？\n",
    "   + 一个最终获得人工智能的机器或程序，或者，一个“learning machine”（借用Turing文章里的概念），是能够从数据中习得一种 time invariant rule 来应对数据的变化（Turing给的类比例子是美国的宪法），比如，通过一种自然选择的过程（time invariant rule）来实现程序自身的变化 （time variant operation） ---- 那些运行速度快的程序有更大概率被重复使用，从而淘汰掉运行慢的程序。数据驱动的模式应该是机器习得“智能”的一个必需但非充分条件 --- Turing自己也提到了离散状态的机器（discrete-state machines）所能具有的“状态”是有限度的，无论其是否受存储能力的限制，因为这些“状态”组成的空间是可预测的，而真正的“智能”在于如何将一种随机的、甚至“不可预测（unpredictable）” 的状态赋予机器（类似于自然进化中的基因变异），而这种不可预测的状态恰好给出了机器自身进化中的最优解（基因变异的某些物种反而成为适者生存下来）。"
   ]
  }
 ],
 "metadata": {
  "kernelspec": {
   "display_name": "Python 3",
   "language": "python",
   "name": "python3"
  },
  "language_info": {
   "codemirror_mode": {
    "name": "ipython",
    "version": 3
   },
   "file_extension": ".py",
   "mimetype": "text/x-python",
   "name": "python",
   "nbconvert_exporter": "python",
   "pygments_lexer": "ipython3",
   "version": "3.7.2"
  }
 },
 "nbformat": 4,
 "nbformat_minor": 2
}
