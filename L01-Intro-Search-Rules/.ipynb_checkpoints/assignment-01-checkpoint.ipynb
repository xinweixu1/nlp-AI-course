{
 "cells": [
  {
   "cell_type": "markdown",
   "metadata": {},
   "source": [
    "## Assigment-01\n",
    "\n",
    "### 基于模式匹配的对话机器人\n",
    "\n",
    "\n",
    "### 1. Pattern Match\n",
    "Pattern: (我想要A)     \n",
    "Response:（如果你有A, 对你意味着什么呢？）\n",
    "\n"
   ]
  },
  {
   "cell_type": "code",
   "execution_count": 1,
   "metadata": {},
   "outputs": [],
   "source": [
    "def is_variable(pat):\n",
    "    return pat.startswith('?') and all(s.isalpha() for s in pat[1:])\n",
    "\n",
    "def pat_match(pattern, saying):\n",
    "    \"Define a simple proceture that checks whether the saying matches with the pattern\"\n",
    "    \n",
    "    if is_variable(pattern[0]): return True\n",
    "    else:\n",
    "        if pattern[0] !=saying[0]: return False\n",
    "        else:\n",
    "            return pat_match(pattern[1:], saying[1:])\n",
    "\n",
    "# This isalpha() returns True if all characters in the strings are alphabets and \n",
    "# False if at least one character is not alphabet."
   ]
  },
  {
   "cell_type": "code",
   "execution_count": 2,
   "metadata": {},
   "outputs": [
    {
     "data": {
      "text/plain": [
       "True"
      ]
     },
     "execution_count": 2,
     "metadata": {},
     "output_type": "execute_result"
    }
   ],
   "source": [
    "pat_match('I want ?X'.split(), 'I want holiday'.split())"
   ]
  },
  {
   "cell_type": "code",
   "execution_count": 3,
   "metadata": {},
   "outputs": [
    {
     "data": {
      "text/plain": [
       "False"
      ]
     },
     "execution_count": 3,
     "metadata": {},
     "output_type": "execute_result"
    }
   ],
   "source": [
    "pat_match('I dreamed about ?X'.split(), 'I have dreamed a dog'.split())"
   ]
  },
  {
   "cell_type": "code",
   "execution_count": 4,
   "metadata": {},
   "outputs": [],
   "source": [
    "def pat_match(pattern, saying):\n",
    "    \"Revise the previous procedure to return the matched variable <A>.\"\n",
    "    \n",
    "    if is_variable(pattern[0]):\n",
    "        return pattern[0], saying[0]\n",
    "    else:\n",
    "        if pattern[0] != saying[0]: return False\n",
    "        else:\n",
    "            return pat_match(pattern[1:], saying[1:])\n"
   ]
  },
  {
   "cell_type": "code",
   "execution_count": 5,
   "metadata": {},
   "outputs": [
    {
     "data": {
      "text/plain": [
       "('?X', 'holiday')"
      ]
     },
     "execution_count": 5,
     "metadata": {},
     "output_type": "execute_result"
    }
   ],
   "source": [
    "pat_match('I want ?X'.split(), 'I want holiday'.split())"
   ]
  },
  {
   "cell_type": "code",
   "execution_count": 6,
   "metadata": {},
   "outputs": [
    {
     "data": {
      "text/plain": [
       "('?X', '2+2')"
      ]
     },
     "execution_count": 6,
     "metadata": {},
     "output_type": "execute_result"
    }
   ],
   "source": [
    "pat_match('?X equals ?X'.split(), '2+2 equals 4'.split())\n",
    "# Note that when we have two pairs matched variables, the procedure only returns the first one"
   ]
  },
  {
   "cell_type": "code",
   "execution_count": 7,
   "metadata": {},
   "outputs": [],
   "source": [
    "def pat_match(pattern, saying):\n",
    "    \"Revise the previous procedure so that we can identify all matched pairs.\"\n",
    "    \n",
    "    if not pattern or not saying: return []\n",
    "    \n",
    "    if is_variable(pattern[0]):\n",
    "        return [(pattern[0], saying[0])] + pat_match(pattern[1:], saying[1:])\n",
    "    else:\n",
    "        if pattern[0] != saying[0]: return []\n",
    "        else:\n",
    "            return pat_match(pattern[1:], saying[1:])\n",
    "        "
   ]
  },
  {
   "cell_type": "code",
   "execution_count": 8,
   "metadata": {},
   "outputs": [
    {
     "data": {
      "text/plain": [
       "[('?X', '3'), ('?Y', '2')]"
      ]
     },
     "execution_count": 8,
     "metadata": {},
     "output_type": "execute_result"
    }
   ],
   "source": [
    "pat_match('?X is greater than ?Y'.split(), '3 is greater than 2'.split())"
   ]
  },
  {
   "cell_type": "code",
   "execution_count": 9,
   "metadata": {},
   "outputs": [],
   "source": [
    "# Now we want to do two more things --- a) define a procedure that translates the matched relations\n",
    "# into a dictionary; and b) define a procedure that can substitute variables given a dictionary\n",
    "def pat_to_dic (patterns):\n",
    "    return{k:v for k, v in patterns}\n",
    "\n",
    "def substitute(pattern, pat_dic):\n",
    "    if not pattern: return []\n",
    "    \n",
    "    return [pat_dic.get(pattern[0], pattern[0])] + substitute(pattern[1:], pat_dic)\n"
   ]
  },
  {
   "cell_type": "code",
   "execution_count": 10,
   "metadata": {},
   "outputs": [],
   "source": [
    "got_patterns = pat_match('I want ?X'.split(), 'I want iPhone'.split())"
   ]
  },
  {
   "cell_type": "code",
   "execution_count": 11,
   "metadata": {},
   "outputs": [
    {
     "data": {
      "text/plain": [
       "[('?X', 'iPhone')]"
      ]
     },
     "execution_count": 11,
     "metadata": {},
     "output_type": "execute_result"
    }
   ],
   "source": [
    "got_patterns"
   ]
  },
  {
   "cell_type": "code",
   "execution_count": 13,
   "metadata": {},
   "outputs": [
    {
     "data": {
      "text/plain": [
       "['What', 'do', 'you', 'do', 'if', 'you', 'got', 'a', 'iPhone']"
      ]
     },
     "execution_count": 13,
     "metadata": {},
     "output_type": "execute_result"
    }
   ],
   "source": [
    "substitute(\"What do you do if you got a ?X\".split(), pat_to_dic(got_patterns))"
   ]
  },
  {
   "cell_type": "code",
   "execution_count": 14,
   "metadata": {},
   "outputs": [
    {
     "data": {
      "text/plain": [
       "'What do you do if you got a iPhone'"
      ]
     },
     "execution_count": 14,
     "metadata": {},
     "output_type": "execute_result"
    }
   ],
   "source": [
    "' '.join(substitute(\"What do you do if you got a ?X\".split(), pat_to_dic(got_patterns)))\n",
    "# join the sentence together"
   ]
  },
  {
   "cell_type": "code",
   "execution_count": 15,
   "metadata": {},
   "outputs": [],
   "source": [
    "# try another example\n",
    "john_pat = pat_match('?P needs ?X'.split(), \"John needs vacation\".split())"
   ]
  },
  {
   "cell_type": "code",
   "execution_count": 17,
   "metadata": {},
   "outputs": [
    {
     "data": {
      "text/plain": [
       "'Why does John need vacation'"
      ]
     },
     "execution_count": 17,
     "metadata": {},
     "output_type": "execute_result"
    }
   ],
   "source": [
    "' '.join(substitute('Why does ?P need ?X'.split(), pat_to_dic(john_pat)))"
   ]
  },
  {
   "cell_type": "code",
   "execution_count": 77,
   "metadata": {},
   "outputs": [
    {
     "data": {
      "text/plain": [
       "['Image you will get ?X soon', 'Why do you need ?X ?']"
      ]
     },
     "execution_count": 77,
     "metadata": {},
     "output_type": "execute_result"
    }
   ],
   "source": [
    "# Now we can define a pattern dictionary\n",
    "defined_patterns = {\n",
    "    \"I need ?X\": [\"Image you will get ?X soon\", \"Why do you need ?X ?\"], \n",
    "    \"My ?X told me something\": [\"Talk about more about your ?X\", \"How do you think about your ?X ?\"]\n",
    "}\n",
    "\n",
    "[key.split() for key in defined_patterns.keys()]\n",
    "defined_patterns.get(\"I need ?X\")"
   ]
  },
  {
   "cell_type": "code",
   "execution_count": 91,
   "metadata": {},
   "outputs": [],
   "source": [
    "import random\n",
    "def get_response(saying, pat_dic):\n",
    "    \"Define a procedure that returns a patterned response based the dictionary supplied\"\n",
    "    \n",
    "    if not saying or not pat_dic: return []\n",
    "    \n",
    "    response_list = []\n",
    "    \n",
    "    for key, value in pat_dic.items():\n",
    "        got_patterns = pat_match(key.split(), saying.split())\n",
    "        if got_patterns:\n",
    "            pat_response = pat_dic.get(key)\n",
    "            for r in pat_response:\n",
    "                response_list.append(' '.join(substitute(r.split(), pat_to_dic(got_patterns))))\n",
    "        else: \n",
    "            continue\n",
    "    \n",
    "    if response_list: \n",
    "        return random.choice(response_list)\n",
    "    else: \n",
    "        return \"Sorry, I don't know how to answer.\"\n"
   ]
  },
  {
   "cell_type": "code",
   "execution_count": 95,
   "metadata": {},
   "outputs": [
    {
     "data": {
      "text/plain": [
       "'Talk about more about your mom'"
      ]
     },
     "execution_count": 95,
     "metadata": {},
     "output_type": "execute_result"
    }
   ],
   "source": [
    "get_response('My mom told me something', defined_patterns)"
   ]
  },
  {
   "cell_type": "code",
   "execution_count": 96,
   "metadata": {},
   "outputs": [
    {
     "data": {
      "text/plain": [
       "'Why do you need vacation ?'"
      ]
     },
     "execution_count": 96,
     "metadata": {},
     "output_type": "execute_result"
    }
   ],
   "source": [
    "get_response('I need vacation', defined_patterns)"
   ]
  },
  {
   "cell_type": "code",
   "execution_count": null,
   "metadata": {},
   "outputs": [],
   "source": []
  },
  {
   "cell_type": "markdown",
   "metadata": {},
   "source": [
    "### 2. Segment Match\n"
   ]
  },
  {
   "cell_type": "code",
   "execution_count": null,
   "metadata": {},
   "outputs": [],
   "source": []
  }
 ],
 "metadata": {
  "kernelspec": {
   "display_name": "Python 3",
   "language": "python",
   "name": "python3"
  },
  "language_info": {
   "codemirror_mode": {
    "name": "ipython",
    "version": 3
   },
   "file_extension": ".py",
   "mimetype": "text/x-python",
   "name": "python",
   "nbconvert_exporter": "python",
   "pygments_lexer": "ipython3",
   "version": "3.7.2"
  }
 },
 "nbformat": 4,
 "nbformat_minor": 2
}
