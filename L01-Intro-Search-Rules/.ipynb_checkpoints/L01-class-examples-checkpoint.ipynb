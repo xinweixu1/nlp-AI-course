{
 "cells": [
  {
   "cell_type": "markdown",
   "metadata": {},
   "source": [
    "## 1 Map Search\n",
    "This example illustrates two types of classic search-based algorithms –– breadth-first search (BFS) and depth-first search (DFS)."
   ]
  },
  {
   "cell_type": "code",
   "execution_count": 3,
   "metadata": {},
   "outputs": [],
   "source": [
    "BEIJING, CHANGCHUN, URUMQI, WUHAN, GUANGZHOU, SHENZHEN, BANGKOK, SHANGHAI, NEWYORK = \"\"\"\n",
    "BEIJING CHANGCHUN URUMQI WUHAN GUANGZHOU SHENZHEN BANGKOK SHANGHAI NEWYORK\n",
    "\"\"\".split()\n",
    "# 字符串赋值以检测字符串的输入错误"
   ]
  },
  {
   "cell_type": "code",
   "execution_count": 47,
   "metadata": {},
   "outputs": [],
   "source": [
    "connection = {\n",
    "    CHANGCHUN: [BEIJING],\n",
    "    URUMQI: [BEIJING],\n",
    "    BEIJING: [URUMQI, CHANGCHUN, WUHAN, SHENZHEN, NEWYORK],\n",
    "    SHANGHAI: [NEWYORK, WUHAN],\n",
    "    NEWYORK: [BEIJING, SHANGHAI],\n",
    "    WUHAN: [SHANGHAI, BEIJING, GUANGZHOU],\n",
    "    GUANGZHOU: [WUHAN, BANGKOK],\n",
    "    SHENZHEN: [WUHAN, BANGKOK],\n",
    "    BANGKOK: [SHENZHEN, GUANGZHOU]\n",
    "}\n",
    "# note that \"connection\" is a dictionary"
   ]
  },
  {
   "cell_type": "code",
   "execution_count": 5,
   "metadata": {},
   "outputs": [],
   "source": [
    "import networkx as nx"
   ]
  },
  {
   "cell_type": "code",
   "execution_count": 6,
   "metadata": {},
   "outputs": [],
   "source": [
    "%matplotlib inline"
   ]
  },
  {
   "cell_type": "code",
   "execution_count": 8,
   "metadata": {},
   "outputs": [],
   "source": [
    "graph = connection\n",
    "g = nx.Graph (graph)"
   ]
  },
  {
   "cell_type": "code",
   "execution_count": 14,
   "metadata": {},
   "outputs": [
    {
     "data": {
      "image/png": "[encoded data removed]",
      "text/plain": [
       "<Figure size 432x288 with 1 Axes>"
      ]
     },
     "metadata": {},
     "output_type": "display_data"
    }
   ],
   "source": [
    "pos = nx.spring_layout(g)\n",
    "nx.draw(g,pos)\n",
    "labels=nx.draw_networkx_labels(g,pos)\n",
    "# add city name for easier read of the graph"
   ]
  },
  {
   "cell_type": "code",
   "execution_count": 27,
   "metadata": {},
   "outputs": [],
   "source": [
    "def navigator(start, destination, connection_graph):\n",
    "    \"\"\"Define a procedure that takes three inputs, name of the starting city (string),\n",
    "    name of the destination city (string), and a connection graph (dictionary)\n",
    "    to find the shortest path between two cities\"\"\"\n",
    "    \n",
    "    pathes = [[start]]\n",
    "    seen = set() # define an empty set \n",
    "    \n",
    "    while pathes:\n",
    "        path = pathes.pop(0)\n",
    "        frontier = path[-1]\n",
    "        \n",
    "        if frontier in seen: continue  # avoid travelling back\n",
    "        \n",
    "        successors = connection_graph[frontier]\n",
    "        \n",
    "        for s in successors:\n",
    "            if s == destination:\n",
    "                path.append(s)\n",
    "                return path\n",
    "            else:\n",
    "                pathes.append(path + [s])\n",
    "                \n",
    "        pathes = sorted(pathes, key = len) # least travel steps\n",
    "        seen.add(frontier)"
   ]
  },
  {
   "cell_type": "code",
   "execution_count": 30,
   "metadata": {},
   "outputs": [
    {
     "data": {
      "text/plain": [
       "['URUMQI', 'BEIJING', 'SHENZHEN', 'BANGKOK']"
      ]
     },
     "execution_count": 30,
     "metadata": {},
     "output_type": "execute_result"
    }
   ],
   "source": [
    "navigator(URUMQI, BANGKOK, connection)"
   ]
  },
  {
   "cell_type": "code",
   "execution_count": 56,
   "metadata": {},
   "outputs": [],
   "source": [
    "def navigator_bfs(start, destination, connection_graph):\n",
    "    \"\"\"Define a navigating procedure using the BFS approach\n",
    "    to find all feasible pathes between two cities \"\"\"\n",
    "    \n",
    "    pathes = [start ]\n",
    "    seen = set()\n",
    "    \n",
    "    while pathes:\n",
    "        frontier = pathes.pop(0)\n",
    "        \n",
    "        if frontier in seen: continue\n",
    "        \n",
    "        successors = connection_graph[frontier]\n",
    "        print('standing on {} and looking forward to {}'.format(frontier, successors))\n",
    "        pathes =  pathes + successors\n",
    "\n",
    "        seen.add(frontier)"
   ]
  },
  {
   "cell_type": "code",
   "execution_count": 57,
   "metadata": {},
   "outputs": [
    {
     "name": "stdout",
     "output_type": "stream",
     "text": [
      "standing on CHANGCHUN and looking forward to ['BEIJING']\n",
      "standing on BEIJING and looking forward to ['URUMQI', 'CHANGCHUN', 'WUHAN', 'SHENZHEN', 'NEWYORK']\n",
      "standing on URUMQI and looking forward to ['BEIJING']\n",
      "standing on WUHAN and looking forward to ['SHANGHAI', 'BEIJING', 'GUANGZHOU']\n",
      "standing on SHENZHEN and looking forward to ['WUHAN', 'BANGKOK']\n",
      "standing on NEWYORK and looking forward to ['BEIJING', 'SHANGHAI']\n",
      "standing on SHANGHAI and looking forward to ['NEWYORK', 'WUHAN']\n",
      "standing on GUANGZHOU and looking forward to ['WUHAN', 'BANGKOK']\n",
      "standing on BANGKOK and looking forward to ['SHENZHEN', 'GUANGZHOU']\n"
     ]
    }
   ],
   "source": [
    "navigator_bfs(CHANGCHUN, SHENZHEN, connection)"
   ]
  },
  {
   "cell_type": "code",
   "execution_count": 49,
   "metadata": {},
   "outputs": [],
   "source": [
    "def navigator_dfs(start, destination, connection_graph):\n",
    "    \"\"\"Define a navigating procedure using the DFS approach\n",
    "    to find all feasible pathes between two cities \"\"\"\n",
    "    \n",
    "    pathes = [start ]\n",
    "    seen = set() \n",
    "    \n",
    "    while pathes:\n",
    "        frontier = pathes.pop(0)\n",
    "        \n",
    "        if frontier in seen: continue\n",
    "            \n",
    "        successors = connection_graph[frontier]\n",
    "        print('standing on {} and looking forward to {}'.format(frontier, successors))\n",
    "        pathes = successors + pathes # the key difference between the BFS approach!\n",
    "        \n",
    "        seen.add(frontier)\n",
    "        return pathes"
   ]
  },
  {
   "cell_type": "code",
   "execution_count": 50,
   "metadata": {},
   "outputs": [
    {
     "name": "stdout",
     "output_type": "stream",
     "text": [
      "standing on CHANGCHUN and looking forward to ['BEIJING']\n",
      "standing on BEIJING and looking forward to ['URUMQI', 'CHANGCHUN', 'WUHAN', 'SHENZHEN', 'NEWYORK']\n",
      "standing on URUMQI and looking forward to ['BEIJING']\n",
      "standing on WUHAN and looking forward to ['SHANGHAI', 'BEIJING', 'GUANGZHOU']\n",
      "standing on SHANGHAI and looking forward to ['NEWYORK', 'WUHAN']\n",
      "standing on NEWYORK and looking forward to ['BEIJING', 'SHANGHAI']\n",
      "standing on GUANGZHOU and looking forward to ['WUHAN', 'BANGKOK']\n",
      "standing on BANGKOK and looking forward to ['SHENZHEN', 'GUANGZHOU']\n",
      "standing on SHENZHEN and looking forward to ['WUHAN', 'BANGKOK']\n"
     ]
    }
   ],
   "source": [
    "navigator_dfs(CHANGCHUN, SHENZHEN, connection)"
   ]
  },
  {
   "cell_type": "code",
   "execution_count": 51,
   "metadata": {},
   "outputs": [],
   "source": [
    "def draw_route(routes):\n",
    "    \"Define a function to draw the traveling itinerary\"\n",
    "    print ('-->'.join(routes))"
   ]
  },
  {
   "cell_type": "code",
   "execution_count": 60,
   "metadata": {},
   "outputs": [
    {
     "name": "stdout",
     "output_type": "stream",
     "text": [
      "CHANGCHUN-->BEIJING-->SHENZHEN-->BANGKOK\n"
     ]
    }
   ],
   "source": [
    "draw_route (navigator(CHANGCHUN, BANGKOK, connection))"
   ]
  },
  {
   "cell_type": "code",
   "execution_count": 61,
   "metadata": {},
   "outputs": [],
   "source": [
    "# illustrating the difference between BFS and DFS with a simpler example\n",
    "connection_2 = {\n",
    "    0: [1, 5], \n",
    "    1: [0, 2], \n",
    "    2: [1, 3], \n",
    "    3: [2, 4], \n",
    "    4: [3],\n",
    "    5: [0, 6], \n",
    "    6: [5, 7],\n",
    "    7: [6]\n",
    "}"
   ]
  },
  {
   "cell_type": "code",
   "execution_count": 62,
   "metadata": {},
   "outputs": [
    {
     "data": {
      "image/png": "[encoded data removed]",
      "text/plain": [
       "<Figure size 432x288 with 1 Axes>"
      ]
     },
     "metadata": {},
     "output_type": "display_data"
    }
   ],
   "source": [
    "pos = nx.spring_layout(nx.Graph(connection_2))\n",
    "nx.draw(nx.Graph(connection_2),pos)\n",
    "labels=nx.draw_networkx_labels(nx.Graph(connection_2),pos)"
   ]
  },
  {
   "cell_type": "code",
   "execution_count": 63,
   "metadata": {},
   "outputs": [
    {
     "name": "stdout",
     "output_type": "stream",
     "text": [
      "standing on 0 and looking forward to [1, 5]\n",
      "standing on 1 and looking forward to [0, 2]\n",
      "standing on 5 and looking forward to [0, 6]\n",
      "standing on 2 and looking forward to [1, 3]\n",
      "standing on 6 and looking forward to [5, 7]\n",
      "standing on 3 and looking forward to [2, 4]\n",
      "standing on 7 and looking forward to [6]\n",
      "standing on 4 and looking forward to [3]\n"
     ]
    }
   ],
   "source": [
    "navigator_bfs(0, 7, connection_2)"
   ]
  },
  {
   "cell_type": "code",
   "execution_count": 64,
   "metadata": {},
   "outputs": [
    {
     "name": "stdout",
     "output_type": "stream",
     "text": [
      "standing on 0 and looking forward to [1, 5]\n",
      "standing on 1 and looking forward to [0, 2]\n",
      "standing on 2 and looking forward to [1, 3]\n",
      "standing on 3 and looking forward to [2, 4]\n",
      "standing on 4 and looking forward to [3]\n",
      "standing on 5 and looking forward to [0, 6]\n",
      "standing on 6 and looking forward to [5, 7]\n",
      "standing on 7 and looking forward to [6]\n"
     ]
    }
   ],
   "source": [
    "navigator_dfs(0, 7, connection_2)"
   ]
  },
  {
   "cell_type": "markdown",
   "metadata": {},
   "source": [
    "## 2 Sentence Generation\n",
    "In this example, we define procedures to randomly generate sentences/expressions following a pre-specified grammar. And the grammars defined here follow the Backus-Naur form."
   ]
  },
  {
   "cell_type": "code",
   "execution_count": 65,
   "metadata": {},
   "outputs": [],
   "source": [
    "decimal_grammar = \"\"\"\n",
    "expression = operator op operator\n",
    "operator = num op num\n",
    "num = 0 | 1 | 2 | 3 | 4 | 5 | 6 | 7 | 8 | 9 | num num\n",
    "op = + | - | * | /\n",
    "\"\"\""
   ]
  },
  {
   "cell_type": "code",
   "execution_count": 66,
   "metadata": {},
   "outputs": [],
   "source": [
    "grammar = \"\"\"\n",
    "sentence => noun_phrase verb_phrase \n",
    "noun_phrase => Article Adj* noun\n",
    "Adj* => null | Adj Adj*\n",
    "verb_phrase => verb noun_phrase\n",
    "Article =>  一个 | 这个\n",
    "noun =>   女人 |  篮球 | 桌子 | 小猫\n",
    "verb => 看着   |  坐在 |  听着 | 看见\n",
    "Adj =>   蓝色的 |  好看的 | 小小的\n",
    "\"\"\""
   ]
  },
  {
   "cell_type": "code",
   "execution_count": 67,
   "metadata": {},
   "outputs": [],
   "source": [
    "import random"
   ]
  },
  {
   "cell_type": "code",
   "execution_count": 68,
   "metadata": {},
   "outputs": [],
   "source": [
    "def parse_grammar(grammar_str, sep):\n",
    "    \"\"\"Define a procedure that parses the strings of defined grammar\"\"\"\n",
    "    grammar = {}\n",
    "    for line in grammar_str.split('\\n'):\n",
    "        line = line.strip()\n",
    "        if not line: continue\n",
    "        \n",
    "        target, rules = line.split(sep)\n",
    "        \n",
    "        grammar[target.strip()] = [r.split() for r in rules.split('|')]\n",
    "        \n",
    "    return grammar"
   ]
  },
  {
   "cell_type": "code",
   "execution_count": 70,
   "metadata": {},
   "outputs": [],
   "source": [
    "g = parse_grammar(grammar, '=>')"
   ]
  },
  {
   "cell_type": "code",
   "execution_count": 72,
   "metadata": {},
   "outputs": [
    {
     "data": {
      "text/plain": [
       "{'sentence': [['noun_phrase', 'verb_phrase']],\n",
       " 'noun_phrase': [['Article', 'Adj*', 'noun']],\n",
       " 'Adj*': [['null'], ['Adj', 'Adj*']],\n",
       " 'verb_phrase': [['verb', 'noun_phrase']],\n",
       " 'Article': [['一个'], ['这个']],\n",
       " 'noun': [['女人'], ['篮球'], ['桌子'], ['小猫']],\n",
       " 'verb': [['看着'], ['坐在'], ['听着'], ['看见']],\n",
       " 'Adj': [['蓝色的'], ['好看的'], ['小小的']]}"
      ]
     },
     "execution_count": 72,
     "metadata": {},
     "output_type": "execute_result"
    }
   ],
   "source": [
    "g"
   ]
  },
  {
   "cell_type": "code",
   "execution_count": 73,
   "metadata": {},
   "outputs": [],
   "source": [
    "def generate(grammar_parsed, target):\n",
    "    if target not in grammar_parsed: return target\n",
    "    \n",
    "    rule = random.choice(grammar_parsed[target])\n",
    "    return ''.join(generate(grammar_parsed, target=r) for r in rule if r!='null')"
   ]
  },
  {
   "cell_type": "code",
   "execution_count": 77,
   "metadata": {},
   "outputs": [
    {
     "data": {
      "text/plain": [
       "'一个好看的小猫听着这个蓝色的桌子'"
      ]
     },
     "execution_count": 77,
     "metadata": {},
     "output_type": "execute_result"
    }
   ],
   "source": [
    "generate(g, 'sentence')"
   ]
  },
  {
   "cell_type": "code",
   "execution_count": 81,
   "metadata": {},
   "outputs": [
    {
     "name": "stdout",
     "output_type": "stream",
     "text": [
      "0*57+0-27\n"
     ]
    }
   ],
   "source": [
    "print(generate(parse_grammar(decimal_grammar, '='), target='expression'))"
   ]
  }
 ],
 "metadata": {
  "kernelspec": {
   "display_name": "Python 3",
   "language": "python",
   "name": "python3"
  },
  "language_info": {
   "codemirror_mode": {
    "name": "ipython",
    "version": 3
   },
   "file_extension": ".py",
   "mimetype": "text/x-python",
   "name": "python",
   "nbconvert_exporter": "python",
   "pygments_lexer": "ipython3",
   "version": "3.7.2"
  }
 },
 "nbformat": 4,
 "nbformat_minor": 2
}
