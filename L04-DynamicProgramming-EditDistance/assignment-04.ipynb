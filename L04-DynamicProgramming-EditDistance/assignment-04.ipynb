{
 "cells": [
  {
   "cell_type": "markdown",
   "metadata": {},
   "source": [
    "### Assignment-04"
   ]
  },
  {
   "cell_type": "markdown",
   "metadata": {},
   "source": [
    "#### Part 1-2 Finish the Solution Parse for Edit Distance"
   ]
  },
  {
   "cell_type": "code",
   "execution_count": 2,
   "metadata": {},
   "outputs": [],
   "source": [
    "from functools import lru_cache "
   ]
  },
  {
   "cell_type": "code",
   "execution_count": 3,
   "metadata": {},
   "outputs": [],
   "source": [
    "solution = {}"
   ]
  },
  {
   "cell_type": "code",
   "execution_count": null,
   "metadata": {},
   "outputs": [],
   "source": []
  },
  {
   "cell_type": "code",
   "execution_count": null,
   "metadata": {},
   "outputs": [],
   "source": []
  },
  {
   "cell_type": "markdown",
   "metadata": {},
   "source": [
    "#### Part 3 Review Questions\n",
    "+ Why do we need dynamic programming? What's the difference between dynamic programming and the previous search problem?\n",
    "\n",
    "**Ans:** \n",
    "\n",
    "+ Why do we still need dynamic programming? Why not train a machine learning to fit a function which could get the right answer based on inputs?\n",
    "\n",
    "\n",
    "**Ans:** \n",
    "\n",
    "\n",
    "+ Can you catch up at least 3 problems which could solved by Dynamic Programming?\n",
    "\n",
    "\n",
    "**Ans:** \n",
    "\n",
    "\n",
    "\n",
    "+ Can you catch up at least 3 problems wich could sloved by Edit Distance?\n",
    "\n",
    "\n",
    "**Ans:** \n",
    "\n",
    "\n",
    "+ Please summarize the three main features of Dynamic Programming, and make a concise explain for each feature.\n",
    "\n",
    "\n",
    "**Ans:** \n",
    "\n",
    "\n",
    "\n",
    "+ What's the disadvantages of Dynamic Programming? (You may need search by yourself in Internet)\n",
    "\n",
    "\n",
    "**Ans:** "
   ]
  },
  {
   "cell_type": "code",
   "execution_count": null,
   "metadata": {},
   "outputs": [],
   "source": []
  },
  {
   "cell_type": "markdown",
   "metadata": {},
   "source": [
    "#### (Optional) The k-person-salesman problem"
   ]
  },
  {
   "cell_type": "code",
   "execution_count": 1,
   "metadata": {},
   "outputs": [],
   "source": [
    "import random\n",
    "import matplotlib.pylab as plt"
   ]
  },
  {
   "cell_type": "code",
   "execution_count": null,
   "metadata": {},
   "outputs": [],
   "source": []
  },
  {
   "cell_type": "code",
   "execution_count": null,
   "metadata": {},
   "outputs": [],
   "source": []
  }
 ],
 "metadata": {
  "kernelspec": {
   "display_name": "Python 3",
   "language": "python",
   "name": "python3"
  },
  "language_info": {
   "codemirror_mode": {
    "name": "ipython",
    "version": 3
   },
   "file_extension": ".py",
   "mimetype": "text/x-python",
   "name": "python",
   "nbconvert_exporter": "python",
   "pygments_lexer": "ipython3",
   "version": "3.7.2"
  }
 },
 "nbformat": 4,
 "nbformat_minor": 2
}
