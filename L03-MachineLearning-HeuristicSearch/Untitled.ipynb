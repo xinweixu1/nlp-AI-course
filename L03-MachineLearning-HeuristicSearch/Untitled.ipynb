{
 "cells": [
  {
   "cell_type": "markdown",
   "metadata": {},
   "source": [
    "## Assignment 03 \n",
    "### Part 3 - Finish the Search Problem\n",
    "Implement a search agent that (a) receives two inpus, one is @param start station and the other is @param destination, and (b) returns the optimal route based on Beijing Subway system.\n",
    "\n",
    "Workflow:\n",
    "1. Get data from webpage (using regular expressions and the 'beatifulsoup' package) https://baike.baidu.com/item/%E5%8C%97%E4%BA%AC%E5%9C%B0%E9%93%81/408485.\n",
    "\n",
    "2. Preprocess data from page source  to build a dictionary (e.g., the 'defaultdict') or a network graph of subway stations (using the 'networkx' package).\n",
    "\n",
    "3. Build a search agent with different search strategies.\n",
    ">  possible options for search strategies: (a) shortest path priority(路程最短优先); (b) minimum transfer priority(最少换乘优先); (c) comprehensive priority(综合优先);\n",
    ">  add a by-way option with @param by_way, that specifies the preferred transfer station.\n",
    ">  for example: \n",
    "    1. Input:  start=A,  destination=B, by_way=[C] \n",
    "    Output: [A, … .., C, …. B]\n",
    "    2. Input: start=A, destination=B, by_way=[C, D, E]\n",
    "    Output: [A … C … E … D … B]  \n",
    " \n",
    "\n",
    "\n"
   ]
  },
  {
   "cell_type": "code",
   "execution_count": null,
   "metadata": {},
   "outputs": [],
   "source": [
    "import requests\n",
    "import urllib\n",
    "from bs4 import BeautifulSoup"
   ]
  },
  {
   "cell_type": "markdown",
   "metadata": {},
   "source": [
    "#### Step 1 - Get data from webpage\n",
    "* extract the list of urls for each subway line\n",
    "* extract stations or edgelist for each line"
   ]
  },
  {
   "cell_type": "code",
   "execution_count": 7,
   "metadata": {},
   "outputs": [],
   "source": [
    "# step 1.1 - get the list of urls for all subway lines\n",
    "\n",
    "# get content from the main page\n",
    "url = 'https://baike.baidu.com/item/%E5%8C%97%E4%BA%AC%E5%9C%B0%E9%93%81/408485'\n",
    "page = urllib.request.urlopen(url)\n",
    "soup = BeautifulSoup(page, 'html.parser')"
   ]
  },
  {
   "cell_type": "code",
   "execution_count": 18,
   "metadata": {},
   "outputs": [
    {
     "data": {
      "text/plain": [
       "[<a href=\"http://www.baidu.com/\">百度首页</a>,\n",
       " <a data-href=\"https://www.baidu.com/s?ie=utf-8&amp;fr=bks0000&amp;wd=\" href=\"https://www.baidu.com/\" nslog=\"normal\" nslog-type=\"10600112\">网页</a>,\n",
       " <a data-href=\"http://news.baidu.com/ns?tn=news&amp;cl=2&amp;rn=20&amp;ct=1&amp;fr=bks0000&amp;ie=utf-8&amp;word=\" href=\"http://news.baidu.com/\" nslog=\"normal\" nslog-type=\"10600112\">新闻</a>,\n",
       " <a data-href=\"https://tieba.baidu.com/f?ie=utf-8&amp;fr=bks0000&amp;kw=\" href=\"https://tieba.baidu.com/\" nslog=\"normal\" nslog-type=\"10600112\">贴吧</a>,\n",
       " <a data-href=\"https://zhidao.baidu.com/search?pn=0&amp;&amp;rn=10&amp;lm=0&amp;fr=bks0000&amp;word=\" href=\"https://zhidao.baidu.com/\" nslog=\"normal\" nslog-type=\"10600112\">知道</a>,\n",
       " <a data-href=\"http://music.baidu.com/search?f=ms&amp;ct=134217728&amp;ie=utf-8&amp;rn=&amp;lm=-1&amp;pn=30&amp;fr=bks0000&amp;key=\" href=\"http://music.baidu.com/\" nslog=\"normal\" nslog-type=\"10600112\">音乐</a>,\n",
       " <a data-href=\"http://image.baidu.com/search/index?tn=baiduimage&amp;ct=201326592&amp;lm=-1&amp;cl=2&amp;nc=1&amp;ie=utf-8&amp;word=\" href=\"http://image.baidu.com/\" nslog=\"normal\" nslog-type=\"10600112\">图片</a>,\n",
       " <a data-href=\"http://v.baidu.com/v?ct=301989888&amp;rn=20&amp;pn=0&amp;db=0&amp;s=22&amp;ie=utf-8&amp;fr=bks0000&amp;word=\" href=\"http://v.baidu.com/\" nslog=\"normal\" nslog-type=\"10600112\">视频</a>,\n",
       " <a data-href=\"http://map.baidu.com/m?ie=utf-8&amp;fr=bks0000&amp;word=\" href=\"http://map.baidu.com/\" nslog=\"normal\" nslog-type=\"10600112\">地图</a>,\n",
       " <a data-href=\"https://wenku.baidu.com/search?lm=0&amp;od=0&amp;ie=utf-8&amp;fr=bks0000&amp;word=\" href=\"https://wenku.baidu.com/\" nslog=\"normal\" nslog-type=\"10600112\">文库</a>,\n",
       " <a class=\"logo cmn-inline-block\" href=\"/\" title=\"到百科首页\">\n",
       " <span class=\"cmn-baike-logo\">\n",
       " <em class=\"cmn-icon cmn-icons cmn-icons_logo-bai\"></em>\n",
       " <em class=\"cmn-icon cmn-icons cmn-icons_logo-du\"></em>\n",
       " <em class=\"cmn-icon cmn-icons cmn-icons_logo-baike\"></em>\n",
       " </span>\n",
       " </a>,\n",
       " <a class=\"help\" href=\"/help\" nslog=\"normal\" nslog-type=\"10080010\" target=\"_blank\">帮助</a>,\n",
       " <a class=\"declare-details\" href=\"/common/declaration\" target=\"_blank\">详情&gt;&gt;</a>,\n",
       " <a href=\"/\">首页</a>,\n",
       " <a href=\"/calendar/\" target=\"_blank\">历史上的今天</a>,\n",
       " <a href=\"/vbaike/\" target=\"_blank\">百科冷知识</a>,\n",
       " <a href=\"/vbaike#gallary\" target=\"_blank\">图解百科</a>,\n",
       " <a>分类</a>,\n",
       " <a href=\"/art\" target=\"_blank\">艺术</a>,\n",
       " <a href=\"/science\" target=\"_blank\">科学</a>]"
      ]
     },
     "execution_count": 18,
     "metadata": {},
     "output_type": "execute_result"
    }
   ],
   "source": [
    "# extract content within <a> tags\n",
    "a_tags = soup.find_all('a')\n",
    "a_tags[:20]"
   ]
  },
  {
   "cell_type": "code",
   "execution_count": 91,
   "metadata": {},
   "outputs": [],
   "source": [
    "# extract the urls for each subway line using two filters:\n",
    "# --- the link for each subway line starts with <a href=\"/item/\n",
    "# --- the link also contains strings '北京地铁\\w*线'\n",
    "\n",
    "import re\n",
    "\n",
    "subway_urls = [] # initialize an empty list\n",
    "line_scanned = [] # to avoid duplicates\n",
    "\n",
    "for link in a_tags:\n",
    "    if str(link).startswith('<a href=\"/item/'):\n",
    "        line_name = re.findall('北京地铁\\w*线', str(link)) # subset the line name\n",
    "        \n",
    "        if line_name and line_name not in line_scanned:\n",
    "            http_link = 'https://baike.baidu.com' + str(link.get('href')) # only keeps the url part\n",
    "            subway_urls.append([line_name, http_link])\n",
    "            line_scanned.append(line_name)\n",
    "        else: continue\n",
    "            \n",
    "    else: continue\n",
    "        \n",
    "# note: \n",
    "#  1) a full regular expression for the url link:\n",
    "#'/item/%E5%8C%97%E4%BA%AC%E5%9C%B0%E9%93%81\\w*%E\\d+.?\\w*.?\\w*.?E?\\d*.?\\w*.?\\w*.?\\w*%BA%BF'\n",
    "# 2) see link.get('href') in beautiful soup documentation\n",
    "# https://www.crummy.com/software/BeautifulSoup/bs4/doc/#problems-after-installation"
   ]
  },
  {
   "cell_type": "code",
   "execution_count": 93,
   "metadata": {},
   "outputs": [
    {
     "data": {
      "text/plain": [
       "22"
      ]
     },
     "execution_count": 93,
     "metadata": {},
     "output_type": "execute_result"
    }
   ],
   "source": [
    "len(subway_urls) # 22 lines"
   ]
  },
  {
   "cell_type": "code",
   "execution_count": 94,
   "metadata": {},
   "outputs": [
    {
     "data": {
      "text/plain": [
       "[[['北京地铁1号线'],\n",
       "  'https://baike.baidu.com/item/%E5%8C%97%E4%BA%AC%E5%9C%B0%E9%93%811%E5%8F%B7%E7%BA%BF'],\n",
       " [['北京地铁13号线'],\n",
       "  'https://baike.baidu.com/item/%E5%8C%97%E4%BA%AC%E5%9C%B0%E9%93%8113%E5%8F%B7%E7%BA%BF'],\n",
       " [['北京地铁八通线'],\n",
       "  'https://baike.baidu.com/item/%E5%8C%97%E4%BA%AC%E5%9C%B0%E9%93%81%E5%85%AB%E9%80%9A%E7%BA%BF'],\n",
       " [['北京地铁5号线'],\n",
       "  'https://baike.baidu.com/item/%E5%8C%97%E4%BA%AC%E5%9C%B0%E9%93%815%E5%8F%B7%E7%BA%BF'],\n",
       " [['北京地铁8号线'],\n",
       "  'https://baike.baidu.com/item/%E5%8C%97%E4%BA%AC%E5%9C%B0%E9%93%818%E5%8F%B7%E7%BA%BF'],\n",
       " [['北京地铁10号线'],\n",
       "  'https://baike.baidu.com/item/%E5%8C%97%E4%BA%AC%E5%9C%B0%E9%93%8110%E5%8F%B7%E7%BA%BF'],\n",
       " [['北京地铁机场线'],\n",
       "  'https://baike.baidu.com/item/%E5%8C%97%E4%BA%AC%E5%9C%B0%E9%93%81%E6%9C%BA%E5%9C%BA%E7%BA%BF'],\n",
       " [['北京地铁4号线'],\n",
       "  'https://baike.baidu.com/item/%E5%8C%97%E4%BA%AC%E5%9C%B0%E9%93%814%E5%8F%B7%E7%BA%BF'],\n",
       " [['北京地铁15号线'],\n",
       "  'https://baike.baidu.com/item/%E5%8C%97%E4%BA%AC%E5%9C%B0%E9%93%8115%E5%8F%B7%E7%BA%BF'],\n",
       " [['北京地铁昌平线'],\n",
       "  'https://baike.baidu.com/item/%E5%8C%97%E4%BA%AC%E5%9C%B0%E9%93%81%E6%98%8C%E5%B9%B3%E7%BA%BF'],\n",
       " [['北京地铁大兴线'],\n",
       "  'https://baike.baidu.com/item/%E5%8C%97%E4%BA%AC%E5%9C%B0%E9%93%81%E5%A4%A7%E5%85%B4%E7%BA%BF'],\n",
       " [['北京地铁房山线'],\n",
       "  'https://baike.baidu.com/item/%E5%8C%97%E4%BA%AC%E5%9C%B0%E9%93%81%E6%88%BF%E5%B1%B1%E7%BA%BF'],\n",
       " [['北京地铁亦庄线'],\n",
       "  'https://baike.baidu.com/item/%E5%8C%97%E4%BA%AC%E5%9C%B0%E9%93%81%E4%BA%A6%E5%BA%84%E7%BA%BF'],\n",
       " [['北京地铁9号线'],\n",
       "  'https://baike.baidu.com/item/%E5%8C%97%E4%BA%AC%E5%9C%B0%E9%93%819%E5%8F%B7%E7%BA%BF'],\n",
       " [['北京地铁6号线'],\n",
       "  'https://baike.baidu.com/item/%E5%8C%97%E4%BA%AC%E5%9C%B0%E9%93%816%E5%8F%B7%E7%BA%BF'],\n",
       " [['北京地铁14号线'],\n",
       "  'https://baike.baidu.com/item/%E5%8C%97%E4%BA%AC%E5%9C%B0%E9%93%8114%E5%8F%B7%E7%BA%BF'],\n",
       " [['北京地铁7号线'],\n",
       "  'https://baike.baidu.com/item/%E5%8C%97%E4%BA%AC%E5%9C%B0%E9%93%817%E5%8F%B7%E7%BA%BF'],\n",
       " [['北京地铁16号线'],\n",
       "  'https://baike.baidu.com/item/%E5%8C%97%E4%BA%AC%E5%9C%B0%E9%93%8116%E5%8F%B7%E7%BA%BF'],\n",
       " [['北京地铁西郊线'],\n",
       "  'https://baike.baidu.com/item/%E5%8C%97%E4%BA%AC%E5%9C%B0%E9%93%81%E8%A5%BF%E9%83%8A%E7%BA%BF'],\n",
       " [['北京地铁S1线'],\n",
       "  'https://baike.baidu.com/item/%E5%8C%97%E4%BA%AC%E5%9C%B0%E9%93%81S1%E7%BA%BF'],\n",
       " [['北京地铁燕房线'],\n",
       "  'https://baike.baidu.com/item/%E5%8C%97%E4%BA%AC%E5%9C%B0%E9%93%81%E7%87%95%E6%88%BF%E7%BA%BF'],\n",
       " [['北京地铁2号线'],\n",
       "  'https://baike.baidu.com/item/%E5%8C%97%E4%BA%AC%E5%9C%B0%E9%93%812%E5%8F%B7%E7%BA%BF']]"
      ]
     },
     "execution_count": 94,
     "metadata": {},
     "output_type": "execute_result"
    }
   ],
   "source": [
    "subway_urls"
   ]
  },
  {
   "cell_type": "code",
   "execution_count": null,
   "metadata": {},
   "outputs": [],
   "source": []
  },
  {
   "cell_type": "code",
   "execution_count": 224,
   "metadata": {},
   "outputs": [],
   "source": [
    "# step 1.2 - extract station names for each subway line\n",
    "\n",
    "# examples for the html element:\n",
    "# <a data-lemmaid=\"75170\" href=\"/item/%E5%AE%8B%E5%AE%B6%E5%BA%84%E7%AB%99/75170\" target=\"_blank\">宋家庄站</a>,\n",
    "# <a class=\"lemma-anchor\" name=\"一、积水潭站\"></a>,\n",
    "# <a href=\"/item/%E7%81%AF%E5%B8%82%E5%8F%A3%E7%AB%99\" target=\"_blank\">灯市口站</a>,\n",
    "# <a> tags are too messy... instead, we use <th> tags\n",
    "\n",
    "# the stations names are all embedded in tables, with <th......> </th> tags\n",
    "# examples: \n",
    "# <th align=\"center\" valign=\"middle\">车站名称</th>,\n",
    "# <th align=\"center\" valign=\"middle\">宋家庄</th>\n",
    "# <th align=\"center\" valign=\"middle\">方向</th>,\n",
    "# <th align=\"center\" valign=\"middle\">西直门——大钟寺</th>\n",
    "\n",
    "# try line 13\n",
    "url = 'https://baike.baidu.com/item/%E5%8C%97%E4%BA%AC%E5%9C%B0%E9%93%8113%E5%8F%B7%E7%BA%BF'\n",
    "page = urllib.request.urlopen(url)\n",
    "soup = BeautifulSoup(page, 'html.parser')"
   ]
  },
  {
   "cell_type": "code",
   "execution_count": 225,
   "metadata": {},
   "outputs": [
    {
     "data": {
      "text/plain": [
       "[<th width=\"73\">车站编号</th>,\n",
       " <th width=\"73\">车站名称</th>,\n",
       " <th align=\"center\" valign=\"middle\" width=\"74\">所属区段</th>,\n",
       " <th align=\"center\" valign=\"middle\" width=\"74\">开通日期</th>,\n",
       " <th align=\"center\" colspan=\"2\" height=\"0\" rowspan=\"1\" valign=\"middle\"><div class=\"para\" label-module=\"para\">可换乘线路</div>\n",
       " </th>,\n",
       " <th align=\"center\" valign=\"middle\" width=\"73\">所在行政区</th>,\n",
       " <th align=\"center\" valign=\"middle\">起始/终到车站</th>,\n",
       " <th align=\"center\" valign=\"middle\">区间距离</th>,\n",
       " <th align=\"center\" valign=\"middle\">方向</th>,\n",
       " <th align=\"center\" valign=\"middle\">西直门——大钟寺</th>,\n",
       " <th align=\"center\" valign=\"middle\">大钟寺——知春路</th>,\n",
       " <th align=\"center\" valign=\"middle\">知春路——五道口</th>,\n",
       " <th align=\"center\" valign=\"middle\">五道口——上地</th>,\n",
       " <th align=\"center\" valign=\"middle\">上地——西二旗</th>,\n",
       " <th align=\"center\" valign=\"middle\">西二旗——龙泽</th>,\n",
       " <th align=\"center\" valign=\"middle\">龙泽——回龙观</th>,\n",
       " <th align=\"center\" valign=\"middle\">回龙观——霍营</th>,\n",
       " <th align=\"center\" valign=\"middle\">霍营——立水桥</th>,\n",
       " <th align=\"center\" valign=\"middle\">立水桥——北苑</th>,\n",
       " <th align=\"center\" valign=\"middle\">北苑——望京西</th>,\n",
       " <th align=\"center\" valign=\"middle\">望京西——芍药居</th>,\n",
       " <th align=\"center\" valign=\"middle\">芍药居——光熙门</th>,\n",
       " <th align=\"center\" valign=\"middle\">光熙门——柳芳</th>,\n",
       " <th align=\"center\" valign=\"middle\">柳芳——东直门</th>,\n",
       " <th align=\"center\" height=\"22\" valign=\"middle\">车站名称</th>,\n",
       " <th align=\"center\" colspan=\"2\" height=\"22\" valign=\"middle\">首车时间</th>,\n",
       " <th align=\"center\" colspan=\"2\" height=\"22\" valign=\"middle\">全程末班车时间</th>,\n",
       " <th align=\"center\" colspan=\"2\" height=\"22\" valign=\"middle\">半程末班车时间</th>,\n",
       " <th align=\"center\" valign=\"middle\">车站名称</th>,\n",
       " <th align=\"center\" valign=\"middle\">西直门</th>,\n",
       " <th>明光桥西</th>,\n",
       " <th align=\"center\" valign=\"middle\">大钟寺</th>,\n",
       " <th align=\"center\" valign=\"middle\">知春路</th>,\n",
       " <th align=\"center\" valign=\"middle\">五道口</th>,\n",
       " <th>清华东路西口</th>,\n",
       " <th align=\"center\" valign=\"middle\">上地</th>,\n",
       " <th>清河站</th>,\n",
       " <th align=\"center\" valign=\"middle\">西二旗</th>,\n",
       " <th align=\"center\" valign=\"middle\">龙泽</th>,\n",
       " <th align=\"center\" valign=\"middle\">回龙观</th>,\n",
       " <th align=\"center\" valign=\"middle\">霍营</th>,\n",
       " <th>建材城东路</th>,\n",
       " <th align=\"center\" valign=\"middle\">立水桥</th>,\n",
       " <th align=\"center\" valign=\"middle\">北苑</th>,\n",
       " <th>来广营西</th>,\n",
       " <th align=\"center\" valign=\"middle\">望京西</th>,\n",
       " <th>望和桥</th>,\n",
       " <th align=\"center\" valign=\"middle\">芍药居</th>,\n",
       " <th align=\"center\" valign=\"middle\">光熙门</th>,\n",
       " <th align=\"center\" valign=\"middle\">柳芳</th>,\n",
       " <th align=\"center\" valign=\"middle\">东直门</th>,\n",
       " <th height=\"0\" width=\"79\"><div class=\"para\" label-module=\"para\">车站名称</div>\n",
       " </th>,\n",
       " <th width=\"79\">敷设方式</th>,\n",
       " <th width=\"131\">站厅形式</th>,\n",
       " <th height=\"0\" width=\"131\"><div class=\"para\" label-module=\"para\">站台形式</div>\n",
       " </th>,\n",
       " <th width=\"158\">开门方向</th>,\n",
       " <th width=\"79\">参考资料</th>]"
      ]
     },
     "execution_count": 225,
     "metadata": {},
     "output_type": "execute_result"
    }
   ],
   "source": [
    "# find all elements with <th> tags\n",
    "\n",
    "th_tags = soup.find_all('th')\n",
    "th_tags"
   ]
  },
  {
   "cell_type": "code",
   "execution_count": 226,
   "metadata": {},
   "outputs": [
    {
     "data": {
      "text/plain": [
       "[<th align=\"center\" valign=\"middle\">西直门——大钟寺</th>,\n",
       " <th align=\"center\" valign=\"middle\">大钟寺——知春路</th>,\n",
       " <th align=\"center\" valign=\"middle\">知春路——五道口</th>,\n",
       " <th align=\"center\" valign=\"middle\">五道口——上地</th>,\n",
       " <th align=\"center\" valign=\"middle\">上地——西二旗</th>,\n",
       " <th align=\"center\" valign=\"middle\">西二旗——龙泽</th>,\n",
       " <th align=\"center\" valign=\"middle\">龙泽——回龙观</th>,\n",
       " <th align=\"center\" valign=\"middle\">回龙观——霍营</th>,\n",
       " <th align=\"center\" valign=\"middle\">霍营——立水桥</th>,\n",
       " <th align=\"center\" valign=\"middle\">立水桥——北苑</th>,\n",
       " <th align=\"center\" valign=\"middle\">北苑——望京西</th>,\n",
       " <th align=\"center\" valign=\"middle\">望京西——芍药居</th>,\n",
       " <th align=\"center\" valign=\"middle\">芍药居——光熙门</th>,\n",
       " <th align=\"center\" valign=\"middle\">光熙门——柳芳</th>,\n",
       " <th align=\"center\" valign=\"middle\">柳芳——东直门</th>]"
      ]
     },
     "execution_count": 226,
     "metadata": {},
     "output_type": "execute_result"
    }
   ],
   "source": [
    "# find the positions where the station edgelist starts and ends\n",
    "\n",
    "start_index = [i for i, th_string in enumerate(th_tags) if '方向' in th_string] # a list object!\n",
    "start_i = start_index[0]\n",
    "\n",
    "# now find all lines with the format 东单——崇文门:\n",
    "\n",
    "target_th_tags = []\n",
    "\n",
    "for line in th_tags[start_i:]:\n",
    "    if str(line).find('——') > 0:\n",
    "        target_th_tags.append(line)\n",
    "        \n",
    "target_th_tags\n",
    "\n",
    "\n",
    "# notes:\n",
    "# there are two options available to find station names:\n",
    "#  1) subset lines after '方向' and contains '——', which gives a list of edges\n",
    "#   e.g., <th align=\"center\" valign=\"middle\">东单——崇文门</th>,  \n",
    "# 2) subset lines in between '车站名称' which only gives station names\n",
    "#  e.g., <th align=\"center\" valign=\"middle\">张自忠路</th>\n",
    "\n",
    "# here we opt for 1) since '车站名称' is not a unique identifier"
   ]
  },
  {
   "cell_type": "code",
   "execution_count": 254,
   "metadata": {},
   "outputs": [
    {
     "name": "stdout",
     "output_type": "stream",
     "text": [
      "<generator object <genexpr> at 0x11b369408>\n"
     ]
    }
   ],
   "source": [
    "# change the target th-tags into networkx-readable edgelist format\n",
    "\n",
    "edge_list = []\n",
    "\n",
    "for line in target_th_tags:\n",
    "    edge = ''.join(e for e in re.findall('>.{1,15}<', str(line)))\n",
    "    edge = ''.join(c for c in edge if c not in '><') # remove '>' and '<'\n",
    "    edge = edge.replace('——', ' ')\n",
    "    edge_list.append(edge)\n",
    "\n",
    "# import networkx as nx\n",
    "# graph = nx.parse_edgelist(edge_list, nodetype=str)\n",
    "# https://networkx.github.io/documentation/networkx-1.10/reference/generated/networkx.readwrite.edgelist.parse_edgelist.html"
   ]
  },
  {
   "cell_type": "code",
   "execution_count": 279,
   "metadata": {},
   "outputs": [],
   "source": [
    "# put everything together and wrap in functions\n",
    "\n",
    "def parse_th_tags(url):\n",
    "    \"\"\"\n",
    "    Get the page content from the url and parse into a list of <th> tags\n",
    "    using the html parser from beautiful soup\n",
    "    \"\"\"\n",
    "    page = urllib.request.urlopen(url)\n",
    "    soup = BeautifulSoup(page, 'html.parser')\n",
    "    return soup.find_all('th')\n",
    "\n",
    "\n",
    "def get_target_th_tags(parsed_th_tags):\n",
    "    \"\"\"\n",
    "    Get the target content from a list of parsed <th> tags:\n",
    "    lines after '方向' and lines contain '——'\n",
    "    \"\"\"\n",
    "    target_th_tags = []\n",
    "    \n",
    "    start_index = [i for i, th_string in enumerate(parsed_th_tags) if '方向' in th_string] \n",
    "    \n",
    "    if start_index:\n",
    "        start_i = start_index[0]\n",
    "        \n",
    "        for line in parsed_th_tags[start_i:]:\n",
    "            if str(line).find('——') > 0: \n",
    "                target_th_tags.append(line)\n",
    "            else: continue\n",
    "        return target_th_tags\n",
    "    \n",
    "    else: return []  # return an empty list if we couldn't find '方向' on the page\n",
    "\n",
    "\n",
    "\n",
    "def find_edgelist(th_tags):\n",
    "    \"Find station edgelists from the target <th> tags\"\n",
    "    edge_list = []\n",
    "    \n",
    "    if th_tags:\n",
    "        for line in th_tags:\n",
    "            edge = ''.join(e for e in re.findall('>.{1,15}<', str(line)))\n",
    "            edge = ''.join(c for c in edge if c not in '><') # remove '>' and '<'\n",
    "            edge = edge.replace('——', ' ')\n",
    "            edge_list.append(edge)\n",
    "        return edge_list\n",
    "    else: return [] # return an empty list if the input th_tags are empty\n"
   ]
  },
  {
   "cell_type": "code",
   "execution_count": 280,
   "metadata": {},
   "outputs": [
    {
     "name": "stdout",
     "output_type": "stream",
     "text": [
      "extracting edgelist for ['北京地铁1号线']\n",
      "extracting edgelist finished for ['北京地铁1号线']: \n",
      "苹果园 古城-->古城 八角游乐园-->八角游乐园 八宝山-->八宝山 玉泉路-->玉泉路 五棵松-->五棵松 万寿路-->万寿路 公主坟-->公主坟 军事博物馆-->军事博物馆 木樨地-->木樨地 南礼士路-->南礼士路 复兴门-->复兴门 西单-->西单 天安门西-->天安门西 天安门东-->天安门东 王府井-->王府井 东单-->东单 建国门-->建国门 永安里-->永安里 国贸-->国贸 大望路-->大望路 四惠-->四惠 四惠东\n",
      "extracting edgelist for ['北京地铁13号线']\n",
      "extracting edgelist finished for ['北京地铁13号线']: \n",
      "西直门 大钟寺-->大钟寺 知春路-->知春路 五道口-->五道口 上地-->上地 西二旗-->西二旗 龙泽-->龙泽 回龙观-->回龙观 霍营-->霍营 立水桥-->立水桥 北苑-->北苑 望京西-->望京西 芍药居-->芍药居 光熙门-->光熙门 柳芳-->柳芳 东直门\n",
      "extracting edgelist for ['北京地铁八通线']\n",
      "extracting edgelist finished for ['北京地铁八通线']: \n",
      "四惠 四惠东-->四惠东 高碑店-->高碑店 传媒大学-->传媒大学 双桥-->双桥 管庄-->管庄 八里桥-->八里桥 通州北苑-->通州北苑 果园-->果园 九棵树-->九棵树 梨园-->梨园 临河里-->临河里 土桥\n",
      "extracting edgelist for ['北京地铁5号线']\n",
      "extracting edgelist finished for ['北京地铁5号线']: \n",
      "天通苑北 天通苑-->天通苑 天通苑南-->天通苑南 立水桥-->立水桥 立水桥南-->立水桥南 北苑路北-->北苑路北 大屯路东-->大屯路东 惠新西街北口-->惠新西街北口 惠新西街南口-->惠新西街南口 和平西桥-->和平西桥 和平里北街-->和平里北街 雍和宫-->雍和宫 北新桥-->北新桥 张自忠路-->张自忠路 东四-->东四 灯市口-->灯市口 东单-->东单 崇文门-->崇文门 磁器口-->磁器口 天坛东门-->天坛东门 蒲黄榆-->蒲黄榆 刘家窑-->刘家窑 宋家庄\n",
      "extracting edgelist for ['北京地铁8号线']\n",
      "extracting edgelist finished for ['北京地铁8号线']: \n",
      "朱辛庄 育知路-->育知路 平西府-->平西府 回龙观东大街-->回龙观东大街 霍营-->霍营 育新-->育新 西小口-->西小口 永泰庄-->永泰庄 林萃桥-->林萃桥 森林公园南门-->森林公园南门 奥林匹克公园-->奥林匹克公园 奥体中心-->奥体中心 北土城-->北土城 安华桥-->安华桥 安德里北街-->安德里北街 鼓楼大街-->鼓楼大街 什刹海-->什刹海 南锣鼓巷\n",
      "extracting edgelist for ['北京地铁10号线']\n",
      "extracting edgelist finished for ['北京地铁10号线']: \n",
      "巴沟 苏州街-->苏州街 海淀黄庄-->海淀黄庄 知春里-->知春里 知春路-->知春路 西土城-->西土城 牡丹园-->牡丹园 健德门-->健德门 北土城-->北土城 安贞门-->安贞门 惠新西街南口-->惠新西街南口 芍药居-->芍药居 太阳宫-->太阳宫 三元桥-->三元桥 亮马桥-->亮马桥 农业展览馆-->农业展览馆 团结湖-->团结湖 呼家楼-->呼家楼 金台夕照-->金台夕照 国贸-->国贸 双井-->双井 劲松-->劲松 潘家园-->潘家园 十里河-->十里河 分钟寺-->分钟寺 成寿寺-->成寿寺 宋家庄-->宋家庄 石榴庄-->石榴庄 大红门-->大红门 角门东-->角门东 角门西-->角门西 草桥-->草桥 纪家庙-->纪家庙 首经贸-->首经贸 丰台站-->丰台站 泥洼-->泥洼 西局-->西局 六里桥-->六里桥 莲花桥-->莲花桥 公主坟-->公主坟 西钓鱼台-->西钓鱼台 慈寿寺-->慈寿寺 车道沟-->车道沟 长春桥-->长春桥 火器营-->火器营 巴沟\n",
      "extracting edgelist for ['北京地铁机场线']\n",
      "extracting edgelist failed for ['北京地铁机场线']: \n",
      "extracting edgelist for ['北京地铁4号线']\n",
      "extracting edgelist finished for ['北京地铁4号线']: \n",
      "安河桥北 北宫门-->北宫门 西苑-->西苑 圆明园-->圆明园 北京大学东门-->北京大学东门 中关村-->中关村 海淀黄庄-->海淀黄庄 人民大学-->人民大学 魏公村-->魏公村 国家图书馆-->国家图书馆 动物园-->动物园 西直门-->西直门 新街口-->新街口 平安里-->平安里 西四-->西四 灵境胡同-->灵境胡同 西单-->西单 宣武门-->宣武门 菜市口-->菜市口 陶然亭-->陶然亭 北京南站-->北京南站 马家堡-->马家堡 角门西-->角门西 公益西桥\n",
      "extracting edgelist for ['北京地铁15号线']\n",
      "extracting edgelist finished for ['北京地铁15号线']: \n",
      "清华东路西口 六道口-->六道口 北沙滩-->北沙滩 奥林匹克公园-->奥林匹克公园 安立路-->安立路 大屯路东-->大屯路东 关庄-->关庄 望京西-->望京西 望京-->望京 望京东-->望京东 崔各庄-->崔各庄 马泉营-->马泉营 孙河-->孙河 国展-->国展 花梨坎-->花梨坎 后沙峪-->后沙峪 南法信-->南法信 石门-->石门 顺义-->顺义 俸伯\n",
      "extracting edgelist for ['北京地铁昌平线']\n",
      "extracting edgelist finished for ['北京地铁昌平线']: \n",
      "昌平西山口 十三陵景区-->十三陵景区 昌平-->昌平 昌平东关-->昌平东关 北邵洼-->北邵洼 南邵-->南邵 沙河高教园-->沙河高教园 沙河-->沙河 巩华城-->巩华城 朱辛庄-->朱辛庄 生命科学园-->生命科学园 西二旗\n",
      "extracting edgelist for ['北京地铁大兴线']\n",
      "extracting edgelist finished for ['北京地铁大兴线']: \n",
      "公益西桥 新宫-->新宫 西红门-->西红门 高米店北-->高米店北 高米店南-->高米店南 枣园-->枣园 清源路-->清源路 黄村西大街-->黄村西大街 黄村火车站-->黄村火车站 义和庄-->义和庄 生物医药基地-->生物医药基地 天宫院\n",
      "extracting edgelist for ['北京地铁房山线']\n",
      "extracting edgelist finished for ['北京地铁房山线']: \n",
      "郭公庄 大葆台-->大葆台 稻田-->稻田 长阳-->长阳 篱笆房-->篱笆房 广阳城-->广阳城 良乡大学城北-->良乡大学城北 良乡大学城-->良乡大学城 良乡大学城西-->良乡大学城西 良乡南关-->良乡南关 苏庄-->苏庄 阎村东\n",
      "extracting edgelist for ['北京地铁亦庄线']\n",
      "extracting edgelist failed for ['北京地铁亦庄线']: \n",
      "extracting edgelist for ['北京地铁9号线']\n",
      "extracting edgelist failed for ['北京地铁9号线']: \n",
      "extracting edgelist for ['北京地铁6号线']\n",
      "extracting edgelist finished for ['北京地铁6号线']: \n",
      "海淀五路居 慈寿寺-->慈寿寺 花园桥-->花园桥 白石桥南-->白石桥南 车公庄西-->车公庄西 车公庄-->车公庄 平安里-->平安里 北海北-->北海北 南锣鼓巷-->南锣鼓巷 东四-->东四 朝阳门-->朝阳门 东大桥-->东大桥 呼家楼-->呼家楼 金台路-->金台路 十里堡-->十里堡 青年路-->青年路 褡裢坡-->褡裢坡 黄渠-->黄渠 常营-->常营 草房-->草房 物资学院路-->物资学院路 通州北关-->通州北关 通运门-->通运门 北运河西-->北运河西 北运河东-->北运河东 郝家府-->郝家府 东夏园-->东夏园 潞城\n",
      "extracting edgelist for ['北京地铁14号线']\n",
      "extracting edgelist finished for ['北京地铁14号线']: \n",
      "张郭庄 园博园-->园博园 大瓦窑-->大瓦窑 郭庄子-->郭庄子 大井-->大井 七里庄-->七里庄 西局-->北京南站 陶然桥-->陶然桥 永定门外-->永定门外 景泰-->景泰 蒲黄榆-->蒲黄榆 方庄-->方庄 十里河-->十里河 南八里庄-->南八里庄 北工大西门-->北工大西门 平乐园-->平乐园 九龙山-->九龙山 大望路-->大望路 红庙-->红庙 金台路-->金台路 朝阳公园-->朝阳公园 枣营-->枣营 东风北桥-->东风北桥 将台-->将台 高家园-->高家园 望京南-->望京南 阜通-->阜通 望京-->望京 东湖渠-->东湖渠 来广营-->来广营 善各庄\n",
      "extracting edgelist for ['北京地铁7号线']\n",
      "extracting edgelist finished for ['北京地铁7号线']: \n",
      "北京西站 湾子-->湾子 达官营-->达官营 广安门内-->广安门内 菜市口-->菜市口 虎坊桥-->虎坊桥 珠市口-->珠市口 桥湾-->桥湾 磁器口-->磁器口 广渠门内-->广渠门内 广渠门外-->广渠门外 双井-->双井 九龙山-->九龙山 大郊亭-->大郊亭 百子湾-->百子湾 化工-->化工 南楼梓庄-->南楼梓庄 欢乐谷景区-->欢乐谷景区 垡头-->垡头 双合-->双合 焦化厂\n",
      "extracting edgelist for ['北京地铁16号线']\n",
      "extracting edgelist failed for ['北京地铁16号线']: \n",
      "extracting edgelist for ['北京地铁西郊线']\n",
      "extracting edgelist failed for ['北京地铁西郊线']: \n",
      "extracting edgelist for ['北京地铁S1线']\n",
      "extracting edgelist failed for ['北京地铁S1线']: \n",
      "extracting edgelist for ['北京地铁燕房线']\n",
      "extracting edgelist failed for ['北京地铁燕房线']: \n",
      "extracting edgelist for ['北京地铁2号线']\n",
      "extracting edgelist finished for ['北京地铁2号线']: \n",
      "西直门 车公庄-->车公庄 阜成门-->阜成门 复兴门-->复兴门 长椿街-->长椿街 宣武门-->宣武门 和平门-->和平门 前门-->前门 崇文门-->崇文门 北京站-->北京站 建国门-->建国门 朝阳门-->朝阳门 东四十条-->东四十条 东直门-->东直门 雍和宫-->雍和宫 安定门-->安定门 鼓楼大街-->鼓楼大街 积水潭-->积水潭 西直门\n"
     ]
    }
   ],
   "source": [
    "# now we are ready to extract edgelist for all subway lines!\n",
    "\n",
    "line_edgelist_dic = {}\n",
    "network_edgelist = [] # append all edges to be imported using networkx\n",
    "\n",
    "for line, url in subway_urls:\n",
    "    print('extracting edgelist for {}'.format(line))\n",
    "    \n",
    "    line_edgelist = find_edgelist(get_target_th_tags(parse_th_tags(url)))\n",
    "    \n",
    "    if line_edgelist:\n",
    "        line_edgelist_dic[''.join(line)] = line_edgelist # note the key has to be a string\n",
    "        network_edgelist = network_edgelist + line_edgelist\n",
    "        print('extracting edgelist finished for {}: '.format(line))\n",
    "        print(*line_edgelist, sep = \"-->\")  \n",
    "    else:\n",
    "        print('extracting edgelist failed for {}'.format(line))\n",
    "\n"
   ]
  },
  {
   "cell_type": "code",
   "execution_count": null,
   "metadata": {},
   "outputs": [],
   "source": []
  },
  {
   "cell_type": "markdown",
   "metadata": {},
   "source": [
    "#### Step 2 - Build a network graph"
   ]
  },
  {
   "cell_type": "code",
   "execution_count": 281,
   "metadata": {},
   "outputs": [],
   "source": [
    "# since we have the network_edgelist from the last step\n",
    "# we can directly import it using networkx\n",
    "\n",
    "import networkx as nx\n",
    "subway_graph = nx.parse_edgelist(network_edgelist, nodetype=str)"
   ]
  },
  {
   "cell_type": "code",
   "execution_count": 284,
   "metadata": {},
   "outputs": [
    {
     "data": {
      "text/plain": [
       "269"
      ]
     },
     "execution_count": 284,
     "metadata": {},
     "output_type": "execute_result"
    }
   ],
   "source": [
    "subway_graph.number_of_nodes() # 269 stations"
   ]
  },
  {
   "cell_type": "code",
   "execution_count": 286,
   "metadata": {},
   "outputs": [
    {
     "data": {
      "text/plain": [
       "302"
      ]
     },
     "execution_count": 286,
     "metadata": {},
     "output_type": "execute_result"
    }
   ],
   "source": [
    "subway_graph.number_of_edges() # 302 edges"
   ]
  },
  {
   "cell_type": "code",
   "execution_count": 290,
   "metadata": {},
   "outputs": [
    {
     "data": {
      "text/plain": [
       "AtlasView({'苏州街': {}, '知春里': {}, '中关村': {}, '人民大学': {}})"
      ]
     },
     "execution_count": 290,
     "metadata": {},
     "output_type": "execute_result"
    }
   ],
   "source": [
    "subway_graph['海淀黄庄']"
   ]
  },
  {
   "cell_type": "code",
   "execution_count": 291,
   "metadata": {},
   "outputs": [
    {
     "name": "stderr",
     "output_type": "stream",
     "text": [
      "/usr/local/lib/python3.7/site-packages/networkx/drawing/nx_pylab.py:611: MatplotlibDeprecationWarning: isinstance(..., numbers.Number)\n",
      "  if cb.is_numlike(alpha):\n"
     ]
    },
    {
     "data": {
      "image/png": "[encoded data removed]",
      "text/plain": [
       "<Figure size 432x288 with 1 Axes>"
      ]
     },
     "metadata": {},
     "output_type": "display_data"
    }
   ],
   "source": [
    "nx.draw(subway_graph, with_label=True, node_size=15)"
   ]
  },
  {
   "cell_type": "code",
   "execution_count": null,
   "metadata": {},
   "outputs": [],
   "source": []
  },
  {
   "cell_type": "code",
   "execution_count": null,
   "metadata": {},
   "outputs": [],
   "source": []
  },
  {
   "cell_type": "code",
   "execution_count": null,
   "metadata": {},
   "outputs": [],
   "source": []
  },
  {
   "cell_type": "code",
   "execution_count": null,
   "metadata": {},
   "outputs": [],
   "source": []
  }
 ],
 "metadata": {
  "kernelspec": {
   "display_name": "Python 3",
   "language": "python",
   "name": "python3"
  },
  "language_info": {
   "codemirror_mode": {
    "name": "ipython",
    "version": 3
   },
   "file_extension": ".py",
   "mimetype": "text/x-python",
   "name": "python",
   "nbconvert_exporter": "python",
   "pygments_lexer": "ipython3",
   "version": "3.7.2"
  }
 },
 "nbformat": 4,
 "nbformat_minor": 2
}
