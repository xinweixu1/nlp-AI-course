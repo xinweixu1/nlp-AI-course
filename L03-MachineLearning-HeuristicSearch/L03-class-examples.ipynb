{
 "cells": [
  {
   "cell_type": "markdown",
   "metadata": {},
   "source": [
    "## Lecture 03 - Machine Learning and Heuristic Search\n",
    "Outline:\n",
    "* implementing a simple machine learning model using the Titanic data\n",
    "* implementing a heuristic map search with the geo coordinates of main cities in China"
   ]
  },
  {
   "cell_type": "markdown",
   "metadata": {},
   "source": [
    "### 1. The Titanic Data Example"
   ]
  },
  {
   "cell_type": "code",
   "execution_count": 1,
   "metadata": {},
   "outputs": [],
   "source": [
    "titanic_frame = '/Users/xinweixu/Dropbox/learn/Comp_Prog/nlp/data/titanic/train.csv'"
   ]
  },
  {
   "cell_type": "code",
   "execution_count": 2,
   "metadata": {},
   "outputs": [],
   "source": [
    "import pandas as pd\n",
    "\n",
    "train_data = pd.read_csv(titanic_frame)"
   ]
  },
  {
   "cell_type": "code",
   "execution_count": 3,
   "metadata": {},
   "outputs": [
    {
     "data": {
      "text/html": [
       "<div>\n",
       "<style scoped>\n",
       "    .dataframe tbody tr th:only-of-type {\n",
       "        vertical-align: middle;\n",
       "    }\n",
       "\n",
       "    .dataframe tbody tr th {\n",
       "        vertical-align: top;\n",
       "    }\n",
       "\n",
       "    .dataframe thead th {\n",
       "        text-align: right;\n",
       "    }\n",
       "</style>\n",
       "<table border=\"1\" class=\"dataframe\">\n",
       "  <thead>\n",
       "    <tr style=\"text-align: right;\">\n",
       "      <th></th>\n",
       "      <th>PassengerId</th>\n",
       "      <th>Survived</th>\n",
       "      <th>Pclass</th>\n",
       "      <th>Name</th>\n",
       "      <th>Sex</th>\n",
       "      <th>Age</th>\n",
       "      <th>SibSp</th>\n",
       "      <th>Parch</th>\n",
       "      <th>Ticket</th>\n",
       "      <th>Fare</th>\n",
       "      <th>Cabin</th>\n",
       "      <th>Embarked</th>\n",
       "    </tr>\n",
       "  </thead>\n",
       "  <tbody>\n",
       "    <tr>\n",
       "      <th>0</th>\n",
       "      <td>1</td>\n",
       "      <td>0</td>\n",
       "      <td>3</td>\n",
       "      <td>Braund, Mr. Owen Harris</td>\n",
       "      <td>male</td>\n",
       "      <td>22.0</td>\n",
       "      <td>1</td>\n",
       "      <td>0</td>\n",
       "      <td>A/5 21171</td>\n",
       "      <td>7.2500</td>\n",
       "      <td>NaN</td>\n",
       "      <td>S</td>\n",
       "    </tr>\n",
       "    <tr>\n",
       "      <th>1</th>\n",
       "      <td>2</td>\n",
       "      <td>1</td>\n",
       "      <td>1</td>\n",
       "      <td>Cumings, Mrs. John Bradley (Florence Briggs Th...</td>\n",
       "      <td>female</td>\n",
       "      <td>38.0</td>\n",
       "      <td>1</td>\n",
       "      <td>0</td>\n",
       "      <td>PC 17599</td>\n",
       "      <td>71.2833</td>\n",
       "      <td>C85</td>\n",
       "      <td>C</td>\n",
       "    </tr>\n",
       "    <tr>\n",
       "      <th>2</th>\n",
       "      <td>3</td>\n",
       "      <td>1</td>\n",
       "      <td>3</td>\n",
       "      <td>Heikkinen, Miss. Laina</td>\n",
       "      <td>female</td>\n",
       "      <td>26.0</td>\n",
       "      <td>0</td>\n",
       "      <td>0</td>\n",
       "      <td>STON/O2. 3101282</td>\n",
       "      <td>7.9250</td>\n",
       "      <td>NaN</td>\n",
       "      <td>S</td>\n",
       "    </tr>\n",
       "    <tr>\n",
       "      <th>3</th>\n",
       "      <td>4</td>\n",
       "      <td>1</td>\n",
       "      <td>1</td>\n",
       "      <td>Futrelle, Mrs. Jacques Heath (Lily May Peel)</td>\n",
       "      <td>female</td>\n",
       "      <td>35.0</td>\n",
       "      <td>1</td>\n",
       "      <td>0</td>\n",
       "      <td>113803</td>\n",
       "      <td>53.1000</td>\n",
       "      <td>C123</td>\n",
       "      <td>S</td>\n",
       "    </tr>\n",
       "    <tr>\n",
       "      <th>4</th>\n",
       "      <td>5</td>\n",
       "      <td>0</td>\n",
       "      <td>3</td>\n",
       "      <td>Allen, Mr. William Henry</td>\n",
       "      <td>male</td>\n",
       "      <td>35.0</td>\n",
       "      <td>0</td>\n",
       "      <td>0</td>\n",
       "      <td>373450</td>\n",
       "      <td>8.0500</td>\n",
       "      <td>NaN</td>\n",
       "      <td>S</td>\n",
       "    </tr>\n",
       "  </tbody>\n",
       "</table>\n",
       "</div>"
      ],
      "text/plain": [
       "   PassengerId  Survived  Pclass  \\\n",
       "0            1         0       3   \n",
       "1            2         1       1   \n",
       "2            3         1       3   \n",
       "3            4         1       1   \n",
       "4            5         0       3   \n",
       "\n",
       "                                                Name     Sex   Age  SibSp  \\\n",
       "0                            Braund, Mr. Owen Harris    male  22.0      1   \n",
       "1  Cumings, Mrs. John Bradley (Florence Briggs Th...  female  38.0      1   \n",
       "2                             Heikkinen, Miss. Laina  female  26.0      0   \n",
       "3       Futrelle, Mrs. Jacques Heath (Lily May Peel)  female  35.0      1   \n",
       "4                           Allen, Mr. William Henry    male  35.0      0   \n",
       "\n",
       "   Parch            Ticket     Fare Cabin Embarked  \n",
       "0      0         A/5 21171   7.2500   NaN        S  \n",
       "1      0          PC 17599  71.2833   C85        C  \n",
       "2      0  STON/O2. 3101282   7.9250   NaN        S  \n",
       "3      0            113803  53.1000  C123        S  \n",
       "4      0            373450   8.0500   NaN        S  "
      ]
     },
     "execution_count": 3,
     "metadata": {},
     "output_type": "execute_result"
    }
   ],
   "source": [
    "train_data.head()"
   ]
  },
  {
   "cell_type": "code",
   "execution_count": 4,
   "metadata": {},
   "outputs": [],
   "source": [
    "train_data = train_data.dropna() # remove NA values from the data set"
   ]
  },
  {
   "cell_type": "code",
   "execution_count": 8,
   "metadata": {},
   "outputs": [
    {
     "data": {
      "text/plain": [
       "<matplotlib.collections.PathCollection at 0x120c0cb00>"
      ]
     },
     "execution_count": 8,
     "metadata": {},
     "output_type": "execute_result"
    },
    {
     "data": {
      "image/png": "[encoded data removed]",
      "text/plain": [
       "<Figure size 432x288 with 1 Axes>"
      ]
     },
     "metadata": {
      "needs_background": "light"
     },
     "output_type": "display_data"
    }
   ],
   "source": [
    "# suppose we want to model the relationship between 'age' and 'fare'\n",
    "\n",
    "import matplotlib.pyplot as plt\n",
    "%matplotlib inline\n",
    "\n",
    "fares = train_data['Fare'].tolist()\n",
    "ages = train_data['Age'].tolist()\n",
    "\n",
    "plt.scatter(ages,fares)"
   ]
  },
  {
   "cell_type": "code",
   "execution_count": 9,
   "metadata": {},
   "outputs": [],
   "source": [
    "# subset the data -- only considering age > 22 and 130 < fare < 400\n",
    "\n",
    "subset_data = train_data[\n",
    "    (train_data['Age'] > 22) & (train_data['Fare'] < 400) & (train_data['Fare'] > 130)\n",
    "]"
   ]
  },
  {
   "cell_type": "code",
   "execution_count": 10,
   "metadata": {},
   "outputs": [
    {
     "data": {
      "text/html": [
       "<div>\n",
       "<style scoped>\n",
       "    .dataframe tbody tr th:only-of-type {\n",
       "        vertical-align: middle;\n",
       "    }\n",
       "\n",
       "    .dataframe tbody tr th {\n",
       "        vertical-align: top;\n",
       "    }\n",
       "\n",
       "    .dataframe thead th {\n",
       "        text-align: right;\n",
       "    }\n",
       "</style>\n",
       "<table border=\"1\" class=\"dataframe\">\n",
       "  <thead>\n",
       "    <tr style=\"text-align: right;\">\n",
       "      <th></th>\n",
       "      <th>PassengerId</th>\n",
       "      <th>Survived</th>\n",
       "      <th>Pclass</th>\n",
       "      <th>Name</th>\n",
       "      <th>Sex</th>\n",
       "      <th>Age</th>\n",
       "      <th>SibSp</th>\n",
       "      <th>Parch</th>\n",
       "      <th>Ticket</th>\n",
       "      <th>Fare</th>\n",
       "      <th>Cabin</th>\n",
       "      <th>Embarked</th>\n",
       "    </tr>\n",
       "  </thead>\n",
       "  <tbody>\n",
       "    <tr>\n",
       "      <th>88</th>\n",
       "      <td>89</td>\n",
       "      <td>1</td>\n",
       "      <td>1</td>\n",
       "      <td>Fortune, Miss. Mabel Helen</td>\n",
       "      <td>female</td>\n",
       "      <td>23.0</td>\n",
       "      <td>3</td>\n",
       "      <td>2</td>\n",
       "      <td>19950</td>\n",
       "      <td>263.0000</td>\n",
       "      <td>C23 C25 C27</td>\n",
       "      <td>S</td>\n",
       "    </tr>\n",
       "    <tr>\n",
       "      <th>118</th>\n",
       "      <td>119</td>\n",
       "      <td>0</td>\n",
       "      <td>1</td>\n",
       "      <td>Baxter, Mr. Quigg Edmond</td>\n",
       "      <td>male</td>\n",
       "      <td>24.0</td>\n",
       "      <td>0</td>\n",
       "      <td>1</td>\n",
       "      <td>PC 17558</td>\n",
       "      <td>247.5208</td>\n",
       "      <td>B58 B60</td>\n",
       "      <td>C</td>\n",
       "    </tr>\n",
       "    <tr>\n",
       "      <th>195</th>\n",
       "      <td>196</td>\n",
       "      <td>1</td>\n",
       "      <td>1</td>\n",
       "      <td>Lurette, Miss. Elise</td>\n",
       "      <td>female</td>\n",
       "      <td>58.0</td>\n",
       "      <td>0</td>\n",
       "      <td>0</td>\n",
       "      <td>PC 17569</td>\n",
       "      <td>146.5208</td>\n",
       "      <td>B80</td>\n",
       "      <td>C</td>\n",
       "    </tr>\n",
       "    <tr>\n",
       "      <th>268</th>\n",
       "      <td>269</td>\n",
       "      <td>1</td>\n",
       "      <td>1</td>\n",
       "      <td>Graham, Mrs. William Thompson (Edith Junkins)</td>\n",
       "      <td>female</td>\n",
       "      <td>58.0</td>\n",
       "      <td>0</td>\n",
       "      <td>1</td>\n",
       "      <td>PC 17582</td>\n",
       "      <td>153.4625</td>\n",
       "      <td>C125</td>\n",
       "      <td>S</td>\n",
       "    </tr>\n",
       "    <tr>\n",
       "      <th>269</th>\n",
       "      <td>270</td>\n",
       "      <td>1</td>\n",
       "      <td>1</td>\n",
       "      <td>Bissette, Miss. Amelia</td>\n",
       "      <td>female</td>\n",
       "      <td>35.0</td>\n",
       "      <td>0</td>\n",
       "      <td>0</td>\n",
       "      <td>PC 17760</td>\n",
       "      <td>135.6333</td>\n",
       "      <td>C99</td>\n",
       "      <td>S</td>\n",
       "    </tr>\n",
       "  </tbody>\n",
       "</table>\n",
       "</div>"
      ],
      "text/plain": [
       "     PassengerId  Survived  Pclass  \\\n",
       "88            89         1       1   \n",
       "118          119         0       1   \n",
       "195          196         1       1   \n",
       "268          269         1       1   \n",
       "269          270         1       1   \n",
       "\n",
       "                                              Name     Sex   Age  SibSp  \\\n",
       "88                      Fortune, Miss. Mabel Helen  female  23.0      3   \n",
       "118                       Baxter, Mr. Quigg Edmond    male  24.0      0   \n",
       "195                           Lurette, Miss. Elise  female  58.0      0   \n",
       "268  Graham, Mrs. William Thompson (Edith Junkins)  female  58.0      0   \n",
       "269                         Bissette, Miss. Amelia  female  35.0      0   \n",
       "\n",
       "     Parch    Ticket      Fare        Cabin Embarked  \n",
       "88       2     19950  263.0000  C23 C25 C27        S  \n",
       "118      1  PC 17558  247.5208      B58 B60        C  \n",
       "195      0  PC 17569  146.5208          B80        C  \n",
       "268      1  PC 17582  153.4625         C125        S  \n",
       "269      0  PC 17760  135.6333          C99        S  "
      ]
     },
     "execution_count": 10,
     "metadata": {},
     "output_type": "execute_result"
    }
   ],
   "source": [
    "subset_data.head()"
   ]
  },
  {
   "cell_type": "code",
   "execution_count": 12,
   "metadata": {},
   "outputs": [
    {
     "data": {
      "text/plain": [
       "<matplotlib.collections.PathCollection at 0x1187d5d30>"
      ]
     },
     "execution_count": 12,
     "metadata": {},
     "output_type": "execute_result"
    },
    {
     "data": {
      "image/png": "[encoded data removed]",
      "text/plain": [
       "<Figure size 432x288 with 1 Axes>"
      ]
     },
     "metadata": {
      "needs_background": "light"
     },
     "output_type": "display_data"
    }
   ],
   "source": [
    "sub_fare = subset_data['Fare'].tolist()\n",
    "sub_age = subset_data['Age'].tolist()\n",
    "plt.scatter(sub_age, sub_fare)"
   ]
  },
  {
   "cell_type": "code",
   "execution_count": 47,
   "metadata": {},
   "outputs": [
    {
     "data": {
      "text/html": [
       "<div>\n",
       "<style scoped>\n",
       "    .dataframe tbody tr th:only-of-type {\n",
       "        vertical-align: middle;\n",
       "    }\n",
       "\n",
       "    .dataframe tbody tr th {\n",
       "        vertical-align: top;\n",
       "    }\n",
       "\n",
       "    .dataframe thead th {\n",
       "        text-align: right;\n",
       "    }\n",
       "</style>\n",
       "<table border=\"1\" class=\"dataframe\">\n",
       "  <thead>\n",
       "    <tr style=\"text-align: right;\">\n",
       "      <th></th>\n",
       "      <th>Age</th>\n",
       "      <th>Fare</th>\n",
       "    </tr>\n",
       "  </thead>\n",
       "  <tbody>\n",
       "    <tr>\n",
       "      <th>0</th>\n",
       "      <td>(21, 30]</td>\n",
       "      <td>263.0000</td>\n",
       "    </tr>\n",
       "    <tr>\n",
       "      <th>1</th>\n",
       "      <td>(21, 30]</td>\n",
       "      <td>247.5208</td>\n",
       "    </tr>\n",
       "    <tr>\n",
       "      <th>2</th>\n",
       "      <td>(51, 60]</td>\n",
       "      <td>146.5208</td>\n",
       "    </tr>\n",
       "    <tr>\n",
       "      <th>3</th>\n",
       "      <td>(51, 60]</td>\n",
       "      <td>153.4625</td>\n",
       "    </tr>\n",
       "    <tr>\n",
       "      <th>4</th>\n",
       "      <td>(31, 40]</td>\n",
       "      <td>135.6333</td>\n",
       "    </tr>\n",
       "  </tbody>\n",
       "</table>\n",
       "</div>"
      ],
      "text/plain": [
       "        Age      Fare\n",
       "0  (21, 30]  263.0000\n",
       "1  (21, 30]  247.5208\n",
       "2  (51, 60]  146.5208\n",
       "3  (51, 60]  153.4625\n",
       "4  (31, 40]  135.6333"
      ]
     },
     "execution_count": 47,
     "metadata": {},
     "output_type": "execute_result"
    }
   ],
   "source": [
    "# now we try to cut age into bins and calculate the average fare for each bin\n",
    "\n",
    "bins = pd.IntervalIndex.from_tuples([(0, 20), (21, 30), (31, 40), (41,50), (51, 60), (61, 70)])\n",
    "sub_age_bins = pd.cut(sub_age , bins)\n",
    "\n",
    "# combine the age bins and fares into a data frame\n",
    "sub_age_fare_df = pd.DataFrame(\n",
    "    {'Age': sub_age_bins,\n",
    "     'Fare': sub_fare})\n",
    "                               \n",
    "sub_age_fare_df.head()"
   ]
  },
  {
   "cell_type": "code",
   "execution_count": 48,
   "metadata": {},
   "outputs": [
    {
     "data": {
      "text/html": [
       "<div>\n",
       "<style scoped>\n",
       "    .dataframe tbody tr th:only-of-type {\n",
       "        vertical-align: middle;\n",
       "    }\n",
       "\n",
       "    .dataframe tbody tr th {\n",
       "        vertical-align: top;\n",
       "    }\n",
       "\n",
       "    .dataframe thead th {\n",
       "        text-align: right;\n",
       "    }\n",
       "</style>\n",
       "<table border=\"1\" class=\"dataframe\">\n",
       "  <thead>\n",
       "    <tr style=\"text-align: right;\">\n",
       "      <th></th>\n",
       "      <th>Fare</th>\n",
       "    </tr>\n",
       "    <tr>\n",
       "      <th>Age</th>\n",
       "      <th></th>\n",
       "    </tr>\n",
       "  </thead>\n",
       "  <tbody>\n",
       "    <tr>\n",
       "      <th>(21, 30]</th>\n",
       "      <td>224.651383</td>\n",
       "    </tr>\n",
       "    <tr>\n",
       "      <th>(31, 40]</th>\n",
       "      <td>156.702767</td>\n",
       "    </tr>\n",
       "    <tr>\n",
       "      <th>(41, 50]</th>\n",
       "      <td>229.429150</td>\n",
       "    </tr>\n",
       "    <tr>\n",
       "      <th>(51, 60]</th>\n",
       "      <td>149.991650</td>\n",
       "    </tr>\n",
       "    <tr>\n",
       "      <th>(61, 70]</th>\n",
       "      <td>263.000000</td>\n",
       "    </tr>\n",
       "  </tbody>\n",
       "</table>\n",
       "</div>"
      ],
      "text/plain": [
       "                Fare\n",
       "Age                 \n",
       "(21, 30]  224.651383\n",
       "(31, 40]  156.702767\n",
       "(41, 50]  229.429150\n",
       "(51, 60]  149.991650\n",
       "(61, 70]  263.000000"
      ]
     },
     "execution_count": 48,
     "metadata": {},
     "output_type": "execute_result"
    }
   ],
   "source": [
    "average_fare = sub_age_fare_df.groupby(['Age']).mean()\n",
    "average_fare.head()\n",
    "average_fare[1:6] # note that the first bin, (0, 20], contains nothing..."
   ]
  },
  {
   "cell_type": "code",
   "execution_count": 52,
   "metadata": {},
   "outputs": [
    {
     "data": {
      "text/plain": [
       "<matplotlib.axes._subplots.AxesSubplot at 0x12a04f828>"
      ]
     },
     "execution_count": 52,
     "metadata": {},
     "output_type": "execute_result"
    },
    {
     "data": {
      "image/png": "[encoded data removed]",
      "text/plain": [
       "<Figure size 432x288 with 1 Axes>"
      ]
     },
     "metadata": {
      "needs_background": "light"
     },
     "output_type": "display_data"
    }
   ],
   "source": [
    "average_fare[1:6].plot.bar()\n",
    "\n",
    "# note:\n",
    "# see plotting from a pandas.DataFrame in documentation:\n",
    "# https://pandas.pydata.org/pandas-docs/version/0.23.4/generated/pandas.DataFrame.plot.bar.html"
   ]
  },
  {
   "cell_type": "code",
   "execution_count": null,
   "metadata": {},
   "outputs": [],
   "source": [
    "# see L03-titanic-example.py for implementing a basic machine learning model"
   ]
  },
  {
   "cell_type": "code",
   "execution_count": null,
   "metadata": {},
   "outputs": [],
   "source": []
  },
  {
   "cell_type": "markdown",
   "metadata": {},
   "source": [
    "### 2.  An Example for Best First Search with Map Data"
   ]
  },
  {
   "cell_type": "code",
   "execution_count": 56,
   "metadata": {},
   "outputs": [
    {
     "name": "stdout",
     "output_type": "stream",
     "text": [
      "['/usr/local/lib/python3.7/site-packages/matplotlib']\n"
     ]
    }
   ],
   "source": [
    "# set up the font .ttf file so 'networkx' can recognize chinese characters\n",
    "\n",
    "import matplotlib\n",
    "print(matplotlib.__path__)\n",
    "\n",
    "# $cd '/usr/local/lib/python3.7/site-packages/matplotlib/mpl-data/fonts/ttf'\n",
    "# $mv SimHei.ttf DejaVuSans.ttf\n",
    "# replace the DejaVuSans.ttf using SimHei.ttf"
   ]
  },
  {
   "cell_type": "code",
   "execution_count": 1,
   "metadata": {},
   "outputs": [],
   "source": [
    "coordinations_chinese = \"\"\"\n",
    "{name:'兰州', geoCoord:[103.73, 36.03]},\n",
    "{name:'嘉峪关', geoCoord:[98.17, 39.47]},\n",
    "{name:'西宁', geoCoord:[101.74, 36.56]},\n",
    "{name:'成都', geoCoord:[104.06, 30.67]},\n",
    "{name:'石家庄', geoCoord:[114.48, 38.03]},\n",
    "{name:'拉萨', geoCoord:[102.73, 25.04]},\n",
    "{name:'贵阳', geoCoord:[106.71, 26.57]},\n",
    "{name:'武汉', geoCoord:[114.31, 30.52]},\n",
    "{name:'郑州', geoCoord:[113.65, 34.76]},\n",
    "{name:'济南', geoCoord:[117, 36.65]},\n",
    "{name:'南京', geoCoord:[118.78, 32.04]},\n",
    "{name:'合肥', geoCoord:[117.27, 31.86]},\n",
    "{name:'杭州', geoCoord:[120.19, 30.26]},\n",
    "{name:'南昌', geoCoord:[115.89, 28.68]},\n",
    "{name:'福州', geoCoord:[119.3, 26.08]},\n",
    "{name:'广州', geoCoord:[113.23, 23.16]},\n",
    "{name:'长沙', geoCoord:[113, 28.21]},\n",
    "//{name:'海口', geoCoord:[110.35, 20.02]},\n",
    "{name:'沈阳', geoCoord:[123.38, 41.8]},\n",
    "{name:'长春', geoCoord:[125.35, 43.88]},\n",
    "{name:'哈尔滨', geoCoord:[126.63, 45.75]},\n",
    "{name:'太原', geoCoord:[112.53, 37.87]},\n",
    "{name:'西安', geoCoord:[108.95, 34.27]},\n",
    "//{name:'台湾', geoCoord:[121.30, 25.03]},\n",
    "{name:'北京', geoCoord:[116.46, 39.92]},\n",
    "{name:'上海', geoCoord:[121.48, 31.22]},\n",
    "{name:'重庆', geoCoord:[106.54, 29.59]},\n",
    "{name:'天津', geoCoord:[117.2, 39.13]},\n",
    "{name:'呼和浩特', geoCoord:[111.65, 40.82]},\n",
    "{name:'南宁', geoCoord:[108.33, 22.84]},\n",
    "//{name:'西藏', geoCoord:[91.11, 29.97]},\n",
    "{name:'银川', geoCoord:[106.27, 38.47]},\n",
    "{name:'乌鲁木齐', geoCoord:[87.68, 43.77]},\n",
    "{name:'香港', geoCoord:[114.17, 22.28]},\n",
    "{name:'澳门', geoCoord:[113.54, 22.19]}\n",
    "\"\"\""
   ]
  },
  {
   "cell_type": "code",
   "execution_count": 2,
   "metadata": {},
   "outputs": [
    {
     "name": "stdout",
     "output_type": "stream",
     "text": [
      "兰州 (103.73, 36.03)\n",
      "嘉峪关 (98.17, 39.47)\n",
      "西宁 (101.74, 36.56)\n",
      "成都 (104.06, 30.67)\n",
      "石家庄 (114.48, 38.03)\n",
      "拉萨 (102.73, 25.04)\n",
      "贵阳 (106.71, 26.57)\n",
      "武汉 (114.31, 30.52)\n",
      "郑州 (113.65, 34.76)\n",
      "济南 (117.0, 36.65)\n",
      "南京 (118.78, 32.04)\n",
      "合肥 (117.27, 31.86)\n",
      "杭州 (120.19, 30.26)\n",
      "南昌 (115.89, 28.68)\n",
      "福州 (119.3, 26.08)\n",
      "广州 (113.23, 23.16)\n",
      "长沙 (113.0, 28.21)\n",
      "沈阳 (123.38, 41.8)\n",
      "长春 (125.35, 43.88)\n",
      "哈尔滨 (126.63, 45.75)\n",
      "太原 (112.53, 37.87)\n",
      "西安 (108.95, 34.27)\n",
      "北京 (116.46, 39.92)\n",
      "上海 (121.48, 31.22)\n",
      "重庆 (106.54, 29.59)\n",
      "天津 (117.2, 39.13)\n",
      "呼和浩特 (111.65, 40.82)\n",
      "南宁 (108.33, 22.84)\n",
      "银川 (106.27, 38.47)\n",
      "乌鲁木齐 (87.68, 43.77)\n",
      "香港 (114.17, 22.28)\n",
      "澳门 (113.54, 22.19)\n"
     ]
    }
   ],
   "source": [
    "# now we parse info for the city geo-coordinates\n",
    "\n",
    "import re\n",
    "city_location = {} # deine an empty dictionary\n",
    "\n",
    "for line in coordinations_chinese.split('\\n'):\n",
    "    if line.startswith('//'): continue # leave out cities not in mainland\n",
    "    if line.strip() == '': continue\n",
    "    \n",
    "    city = re.findall(\"name:'(\\w+)'\", line)[0]\n",
    "\n",
    "    x_y = re.findall(\"Coord:\\[(\\d+.\\d+),\\s(\\d+.\\d+)\\]\", line)[0]\n",
    "    x_y = tuple(map(float, x_y)) # change geo-coord into floats\n",
    "    city_location[city] = x_y\n",
    "    print(city, x_y)\n",
    "\n",
    "# notes:\n",
    "# 1) python re referenes: https://docs.python.org/3/library/re.html\n",
    "# 2) the map() function -- it applies a function to all the items in an input_list\n",
    "#    map(function_to_apply, list_of_inputs)\n",
    "# see http://book.pythontips.com/en/latest/map_filter.html\n"
   ]
  },
  {
   "cell_type": "code",
   "execution_count": 3,
   "metadata": {},
   "outputs": [],
   "source": [
    "import math\n",
    "\n",
    "def geo_distance(origin, destination):\n",
    "    \"\"\"\n",
    "    Calculate the Haversine distance.\n",
    "\n",
    "    Parameters\n",
    "    ----------\n",
    "    origin : tuple of float\n",
    "        (lat, long)\n",
    "    destination : tuple of float\n",
    "        (lat, long)\n",
    "\n",
    "    Returns\n",
    "    -------\n",
    "    distance_in_km : float\n",
    "\n",
    "    Examples\n",
    "    --------\n",
    "    >>> origin = (48.1372, 11.5756)  # Munich\n",
    "    >>> destination = (52.5186, 13.4083)  # Berlin\n",
    "    >>> round(distance(origin, destination), 1)\n",
    "    504.2\n",
    "    \"\"\"\n",
    "    lat1, lon1 = origin\n",
    "    lat2, lon2 = destination\n",
    "    radius = 6371  # kilometers\n",
    "    \n",
    "    dlat = math.radians(lat2 - lat1)\n",
    "    dlon = math.radians(lon2 - lon1)\n",
    "    a = (math.sin(dlat / 2) * math.sin(dlat / 2) +\n",
    "         math.cos(math.radians(lat1)) * math.cos(math.radians(lat2)) *\n",
    "         math.sin(dlon / 2) * math.sin(dlon / 2))\n",
    "    c = 2 * math.atan2(math.sqrt(a), math.sqrt(1 - a))\n",
    "    d = radius * c\n",
    "\n",
    "    return d\n",
    "    \n",
    "    "
   ]
  },
  {
   "cell_type": "code",
   "execution_count": 4,
   "metadata": {},
   "outputs": [],
   "source": [
    "def get_city_distance(city1, city2):\n",
    "    \"\"\"\n",
    "    Define a procedure that returns the Haversine distance between two cities,\n",
    "    where the geo-coords of these two cities are defined in a dictionary\n",
    "    \"\"\"\n",
    "    return geo_distance(city_location[city1], city_location[city2])\n",
    "    "
   ]
  },
  {
   "cell_type": "code",
   "execution_count": 5,
   "metadata": {},
   "outputs": [
    {
     "data": {
      "text/plain": [
       "153.5185697155768"
      ]
     },
     "execution_count": 5,
     "metadata": {},
     "output_type": "execute_result"
    }
   ],
   "source": [
    "# test case\n",
    "get_city_distance('杭州', '上海')"
   ]
  },
  {
   "cell_type": "code",
   "execution_count": 6,
   "metadata": {},
   "outputs": [],
   "source": [
    "import networkx as nx\n",
    "\n",
    "# create a network graph using city names as nodes\n",
    "cities = list(city_location.keys())\n",
    "city_graph = nx.Graph()\n",
    "city_graph.add_nodes_from(cities)"
   ]
  },
  {
   "cell_type": "code",
   "execution_count": 8,
   "metadata": {},
   "outputs": [
    {
     "data": {
      "image/png": "[encoded data removed]",
      "text/plain": [
       "<Figure size 432x288 with 1 Axes>"
      ]
     },
     "metadata": {},
     "output_type": "display_data"
    }
   ],
   "source": [
    "# draw the graph, where the location of nodes correspond to their geo-coords\n",
    "\n",
    "nx.draw(city_graph, city_location, with_labels=True, node_size=10) "
   ]
  },
  {
   "cell_type": "code",
   "execution_count": 10,
   "metadata": {},
   "outputs": [],
   "source": [
    "# now we want to add connections to the network graph\n",
    "\n",
    "threshold = 700 # a cutoff threshold for determining whether two cities are connected in the graph\n",
    "\n",
    "from collections import defaultdict\n",
    "\n",
    "cities_connection = defaultdict(list) # set up a dictionary to store connections\n",
    "\n",
    "# loop over each city to create the connection list\n",
    "for c1 in cities:\n",
    "    for c2 in cities:\n",
    "        if c1 == c2: continue\n",
    "        \n",
    "        elif get_city_distance(c1, c2) < threshold:\n",
    "            cities_connection[c1].append(c2)\n",
    "\n",
    "##########       \n",
    "# notes:\n",
    "# 1) defaultdict - dict subclass that calls a factory function to supply missing values\n",
    "# see documentation: https://docs.python.org/3/library/collections.html\n",
    "# 2) defaultdict means that if a key is not found in the dictionary, then instead of \n",
    "# a KeyError being returned, a new entry is created. \n",
    "# The type of this new entry is given by the argument of defaultdict.\n",
    "# see https://stackoverflow.com/questions/5900578/how-does-collections-defaultdict-work"
   ]
  },
  {
   "cell_type": "code",
   "execution_count": 11,
   "metadata": {},
   "outputs": [
    {
     "data": {
      "text/plain": [
       "['嘉峪关', '西宁', '成都', '拉萨', '贵阳', '西安', '重庆', '南宁', '银川']"
      ]
     },
     "execution_count": 11,
     "metadata": {},
     "output_type": "execute_result"
    }
   ],
   "source": [
    "cities_connection['兰州']"
   ]
  },
  {
   "cell_type": "code",
   "execution_count": 12,
   "metadata": {},
   "outputs": [],
   "source": [
    "# create a network graph using the connection list\n",
    "\n",
    "cities_connection_graph = nx.Graph(cities_connection)"
   ]
  },
  {
   "cell_type": "code",
   "execution_count": 14,
   "metadata": {},
   "outputs": [
    {
     "name": "stderr",
     "output_type": "stream",
     "text": [
      "/usr/local/lib/python3.7/site-packages/networkx/drawing/nx_pylab.py:611: MatplotlibDeprecationWarning: isinstance(..., numbers.Number)\n",
      "  if cb.is_numlike(alpha):\n"
     ]
    },
    {
     "data": {
      "image/png": "[encoded data removed]",
      "text/plain": [
       "<Figure size 432x288 with 1 Axes>"
      ]
     },
     "metadata": {},
     "output_type": "display_data"
    }
   ],
   "source": [
    "nx.draw(cities_connection_graph, city_location, with_labels=True, node_size=15)"
   ]
  },
  {
   "cell_type": "code",
   "execution_count": 42,
   "metadata": {},
   "outputs": [],
   "source": [
    "# now we can implement the search procedure with three possible search strategies:\n",
    "# --- find the shortest path between two cities\n",
    "# --- find the path with the least steps we need to travel between two cities\n",
    "# --- find the path that saturates the map as much as possible (i.e., the most steps)\n",
    "\n",
    "# the procedure should do the following things:\n",
    "#  --- 1) take four inputs: a city graph, the start location, destination, and search strategy\n",
    "#  --- 2) search the graph to find the next city (the successor); ***\n",
    "#  --- 3) check if the destination has been reached;\n",
    "#  --- 4) return pathes that satisfy the search strategy\n",
    "\n",
    "#  *** the key difference between different search strategies is to determine \n",
    "#      the criteria used for choosing which city as the successor\n",
    "\n",
    "\n",
    "# we start with a simple search using BFS (reviewing lecture 01)\n",
    "def search_bfs(start, destination, connection_graph):\n",
    "    pathes = [[start]]\n",
    "    seen = set()\n",
    "    \n",
    "    while pathes:\n",
    "        path = pathes.pop(0) \n",
    "        frontier = path[-1] # get the current standing position\n",
    "        \n",
    "        if frontier in seen: continue\n",
    "            \n",
    "        successors = connection_graph[frontier] # get the nodes linked with frontier\n",
    "        \n",
    "        for city in successors: # check if we have reached the destination\n",
    "            if city in path: continue\n",
    "            \n",
    "            new_path = path + [city]\n",
    "            \n",
    "            pathes.append(new_path)\n",
    "            \n",
    "            if city == destination: return new_path\n",
    "        \n",
    "        seen.add(frontier)"
   ]
  },
  {
   "cell_type": "code",
   "execution_count": 43,
   "metadata": {},
   "outputs": [
    {
     "data": {
      "text/plain": [
       "['兰州', '西安', '石家庄', '济南', '上海']"
      ]
     },
     "execution_count": 43,
     "metadata": {},
     "output_type": "execute_result"
    }
   ],
   "source": [
    "search_bfs('兰州', '上海', cities_connection)"
   ]
  },
  {
   "cell_type": "code",
   "execution_count": null,
   "metadata": {},
   "outputs": [],
   "source": []
  },
  {
   "cell_type": "code",
   "execution_count": 44,
   "metadata": {},
   "outputs": [],
   "source": [
    "# now we want to add two things to search_bfs:\n",
    "# --- change the control statement, if city == destination, into a function, is_goal\n",
    "# --- add search strategy\n",
    "\n",
    "def is_goal(current_path, desitination):\n",
    "    \"Define a procedure that checks if the destination has been reached with the current path.\"\n",
    "    return current_path[-1] == desitination"
   ]
  },
  {
   "cell_type": "code",
   "execution_count": 45,
   "metadata": {},
   "outputs": [
    {
     "data": {
      "text/plain": [
       "False"
      ]
     },
     "execution_count": 45,
     "metadata": {},
     "output_type": "execute_result"
    }
   ],
   "source": [
    "# test case 1\n",
    "is_goal(['西安', '兰州', '上海'], '兰州')"
   ]
  },
  {
   "cell_type": "code",
   "execution_count": 51,
   "metadata": {},
   "outputs": [
    {
     "data": {
      "text/plain": [
       "True"
      ]
     },
     "execution_count": 51,
     "metadata": {},
     "output_type": "execute_result"
    }
   ],
   "source": [
    "# test case 2\n",
    "is_goal(['西安', '上海', '兰州'], '兰州')"
   ]
  },
  {
   "cell_type": "code",
   "execution_count": 63,
   "metadata": {},
   "outputs": [],
   "source": [
    "# modify is_goal function\n",
    "\n",
    "def is_goal(destination):\n",
    "    \"Define a procedure that checks if the destination has been reached with the current path.\"\n",
    "    def _wrap(current_path):\n",
    "        return current_path[-1] == destination\n",
    "    return _wrap"
   ]
  },
  {
   "cell_type": "raw",
   "metadata": {},
   "source": []
  },
  {
   "cell_type": "code",
   "execution_count": 65,
   "metadata": {},
   "outputs": [],
   "source": [
    "# add is_goal to the search procedure\n",
    "\n",
    "def search_with_goal(connection_graph, start, is_goal):\n",
    "    pathes = [[start]]\n",
    "    seen = set()\n",
    "    \n",
    "    while pathes:\n",
    "        path = pathes.pop(0) \n",
    "        frontier = path[-1] # get the current standing position\n",
    "        \n",
    "        if frontier in seen: continue\n",
    "            \n",
    "        successors = connection_graph[frontier] # get the nodes linked with frontier\n",
    "        \n",
    "        for city in successors: # check if we have reached the destination\n",
    "            if city in path: continue\n",
    "            \n",
    "            new_path = path + [city]\n",
    "            \n",
    "            pathes.append(new_path)\n",
    "            \n",
    "            if is_goal(new_path): return new_path # change the control statement into a function\n",
    "        \n",
    "        seen.add(frontier)"
   ]
  },
  {
   "cell_type": "code",
   "execution_count": 66,
   "metadata": {},
   "outputs": [
    {
     "data": {
      "text/plain": [
       "['西安', '石家庄', '济南', '上海']"
      ]
     },
     "execution_count": 66,
     "metadata": {},
     "output_type": "execute_result"
    }
   ],
   "source": [
    "search_with_goal(cities_connection, start='西安', is_goal=is_goal('上海'))"
   ]
  },
  {
   "cell_type": "code",
   "execution_count": 67,
   "metadata": {},
   "outputs": [],
   "source": [
    "# now we add the search strategy part\n",
    "#  --- first, we need a set of functions that calculate evaluation metrics for all the feasible pathes \n",
    "#  --- second, we need a sort function to find the best one among all feasible pathes using the metric\n",
    "\n",
    "def sort_path(cmp_func, beam=-1):\n",
    "    def _sorted(pathes):\n",
    "        return sorted(pathes, key=cmp_func)[:beam]\n",
    "    return _sorted\n",
    "\n",
    "# functions for different evaluation metrics\n",
    "def get_path_distance(path):\n",
    "    distance = 0\n",
    "    \n",
    "    for i, c in enumerate(path[:-1]):\n",
    "        distance += get_city_distance(c, path[i+1])\n",
    "        \n",
    "    return distance\n",
    "\n",
    "def get_total_station(path):\n",
    "    return len(path)\n",
    "\n",
    "def get_comprehensive_path(path):\n",
    "    return get_path_distance(path) + get_total_station(path)\n",
    "\n",
    "def get_as_much_path(path): # reversing the order of path distance\n",
    "    return -1 * len(path)\n"
   ]
  },
  {
   "cell_type": "code",
   "execution_count": 69,
   "metadata": {},
   "outputs": [
    {
     "data": {
      "text/plain": [
       "665.2271362574077"
      ]
     },
     "execution_count": 69,
     "metadata": {},
     "output_type": "execute_result"
    }
   ],
   "source": [
    "get_path_distance(['北京', '长沙'])"
   ]
  },
  {
   "cell_type": "code",
   "execution_count": 70,
   "metadata": {},
   "outputs": [],
   "source": [
    "# add search strategy to the main search function\n",
    "\n",
    "def search(graph, start, is_goal, search_strategy):\n",
    "    \"\"\"\n",
    "    Given a graph, a search strategy, a start location, and a destination,\n",
    "    this procedure returns the path between two cities that satisfy the search strategy\n",
    "    \n",
    "    \"\"\"\n",
    "    pathes = [[start]] # initialize the path list\n",
    "    seen = set() # an empty set to store the cities already searched\n",
    "    \n",
    "    while pathes:\n",
    "        path = pathes.pop(0)\n",
    "        frontier = path[-1]\n",
    "        \n",
    "        if frontier in seen: continue\n",
    "            \n",
    "        successors = graph[frontier]\n",
    "        \n",
    "        for city in successors:\n",
    "            if city in path: continue\n",
    "            \n",
    "            new_path = path+[city]\n",
    "            \n",
    "            pathes.append(new_path)\n",
    "            \n",
    "            if is_goal(new_path): return new_path\n",
    "        \n",
    "        seen.add(frontier)\n",
    "        pathes = search_strategy(pathes)\n",
    "               "
   ]
  },
  {
   "cell_type": "code",
   "execution_count": 71,
   "metadata": {},
   "outputs": [
    {
     "data": {
      "text/plain": [
       "['北京', '长沙', '南宁', '拉萨']"
      ]
     },
     "execution_count": 71,
     "metadata": {},
     "output_type": "execute_result"
    }
   ],
   "source": [
    "search(cities_connection, '北京', is_goal('拉萨'), search_strategy=lambda n:n)\n",
    "\n",
    "# lambda n:n means that we didn't specify any search strategy"
   ]
  },
  {
   "cell_type": "code",
   "execution_count": 74,
   "metadata": {},
   "outputs": [
    {
     "data": {
      "text/plain": [
       "['北京', '呼和浩特', '银川', '拉萨']"
      ]
     },
     "execution_count": 74,
     "metadata": {},
     "output_type": "execute_result"
    }
   ],
   "source": [
    "# get path with the shortest distance\n",
    "\n",
    "search(cities_connection, start='北京', is_goal=is_goal('拉萨'), search_strategy=sort_path(get_path_distance))"
   ]
  },
  {
   "cell_type": "code",
   "execution_count": 78,
   "metadata": {},
   "outputs": [
    {
     "data": {
      "text/plain": [
       "['北京', '长沙', '南宁', '拉萨']"
      ]
     },
     "execution_count": 78,
     "metadata": {},
     "output_type": "execute_result"
    }
   ],
   "source": [
    "# get path with the least number of total stations\n",
    "\n",
    "search(cities_connection, start='北京', is_goal=is_goal('拉萨'), search_strategy=sort_path(get_total_station))"
   ]
  },
  {
   "cell_type": "code",
   "execution_count": 80,
   "metadata": {},
   "outputs": [
    {
     "data": {
      "text/plain": [
       "['杭州', '武汉', '广州', '南宁', '拉萨']"
      ]
     },
     "execution_count": 80,
     "metadata": {},
     "output_type": "execute_result"
    }
   ],
   "source": [
    "# get path with the least number of total stations\n",
    "\n",
    "search(cities_connection, start='杭州', is_goal=is_goal('拉萨'), search_strategy=sort_path(get_total_station))"
   ]
  },
  {
   "cell_type": "code",
   "execution_count": 81,
   "metadata": {},
   "outputs": [
    {
     "data": {
      "text/plain": [
       "['杭州', '南昌', '长沙', '南宁', '拉萨']"
      ]
     },
     "execution_count": 81,
     "metadata": {},
     "output_type": "execute_result"
    }
   ],
   "source": [
    "# get the most comprehensive path\n",
    "\n",
    "search(cities_connection, start='杭州', is_goal=is_goal('拉萨'), search_strategy=sort_path(get_comprehensive_path))"
   ]
  },
  {
   "cell_type": "code",
   "execution_count": 82,
   "metadata": {},
   "outputs": [
    {
     "data": {
      "text/plain": [
       "['北京',\n",
       " '石家庄',\n",
       " '武汉',\n",
       " '郑州',\n",
       " '济南',\n",
       " '南京',\n",
       " '合肥',\n",
       " '杭州',\n",
       " '南昌',\n",
       " '福州',\n",
       " '广州',\n",
       " '长沙',\n",
       " '太原',\n",
       " '西安',\n",
       " '兰州',\n",
       " '拉萨']"
      ]
     },
     "execution_count": 82,
     "metadata": {},
     "output_type": "execute_result"
    }
   ],
   "source": [
    "# get the longest distance path\n",
    "\n",
    "search(cities_connection, start='北京', is_goal=is_goal('拉萨'), search_strategy=sort_path(get_as_much_path))"
   ]
  },
  {
   "cell_type": "code",
   "execution_count": null,
   "metadata": {},
   "outputs": [],
   "source": []
  },
  {
   "cell_type": "code",
   "execution_count": null,
   "metadata": {},
   "outputs": [],
   "source": []
  },
  {
   "cell_type": "code",
   "execution_count": null,
   "metadata": {},
   "outputs": [],
   "source": []
  }
 ],
 "metadata": {
  "kernelspec": {
   "display_name": "Python 3",
   "language": "python",
   "name": "python3"
  },
  "language_info": {
   "codemirror_mode": {
    "name": "ipython",
    "version": 3
   },
   "file_extension": ".py",
   "mimetype": "text/x-python",
   "name": "python",
   "nbconvert_exporter": "python",
   "pygments_lexer": "ipython3",
   "version": "3.7.2"
  }
 },
 "nbformat": 4,
 "nbformat_minor": 2
}
