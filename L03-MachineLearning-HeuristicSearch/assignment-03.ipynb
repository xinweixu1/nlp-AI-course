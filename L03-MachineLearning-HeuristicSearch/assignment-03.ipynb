{
 "cells": [
  {
   "cell_type": "markdown",
   "metadata": {},
   "source": [
    "## Assignment 03 \n",
    "### Part 3 - Finish the Search Problem\n",
    "Implement a search agent that (a) receives two inpus, one is @param start station and the other is @param destination, and (b) returns the optimal route based on Beijing Subway system.\n",
    "\n",
    "Workflow:\n",
    "1. Get data from webpage (using regular expressions and the 'beatifulsoup' package) https://baike.baidu.com/item/%E5%8C%97%E4%BA%AC%E5%9C%B0%E9%93%81/408485.\n",
    "\n",
    "2. Preprocess data from page source  to build a dictionary (e.g., the 'defaultdict') or a network graph of subway stations (using the 'networkx' package).\n",
    "\n",
    "3. Build a search agent with different search strategies.\n",
    ">  possible options for search strategies: (a) shortest path priority(路程最短优先); (b) minimum transfer priority(最少换乘优先); (c) comprehensive priority(综合优先);\n",
    ">  add a by-way option with @param by_way, that specifies the preferred transfer station.\n",
    ">  for example: \n",
    "    1. Input:  start=A,  destination=B, by_way=[C] \n",
    "    Output: [A, … .., C, …. B]\n",
    "    2. Input: start=A, destination=B, by_way=[C, D, E]\n",
    "    Output: [A … C … E … D … B]  \n",
    " \n",
    "\n",
    "\n"
   ]
  },
  {
   "cell_type": "code",
   "execution_count": 2,
   "metadata": {},
   "outputs": [],
   "source": [
    "import requests\n",
    "import urllib\n",
    "from bs4 import BeautifulSoup"
   ]
  },
  {
   "cell_type": "markdown",
   "metadata": {},
   "source": [
    "#### Step 1 - Get data from webpage\n",
    "* extract the list of urls for each subway line\n",
    "* extract stations or edgelist for each line"
   ]
  },
  {
   "cell_type": "code",
   "execution_count": 3,
   "metadata": {},
   "outputs": [],
   "source": [
    "# step 1.1 - get the list of urls for all subway lines\n",
    "\n",
    "# get content from the main page\n",
    "url = 'https://baike.baidu.com/item/%E5%8C%97%E4%BA%AC%E5%9C%B0%E9%93%81/408485'\n",
    "page = urllib.request.urlopen(url)\n",
    "soup = BeautifulSoup(page, 'html.parser')"
   ]
  },
  {
   "cell_type": "code",
   "execution_count": 4,
   "metadata": {},
   "outputs": [
    {
     "data": {
      "text/plain": [
       "[<a href=\"http://www.baidu.com/\">百度首页</a>,\n",
       " <a data-href=\"https://www.baidu.com/s?ie=utf-8&amp;fr=bks0000&amp;wd=\" href=\"https://www.baidu.com/\" nslog=\"normal\" nslog-type=\"10600112\">网页</a>,\n",
       " <a data-href=\"http://news.baidu.com/ns?tn=news&amp;cl=2&amp;rn=20&amp;ct=1&amp;fr=bks0000&amp;ie=utf-8&amp;word=\" href=\"http://news.baidu.com/\" nslog=\"normal\" nslog-type=\"10600112\">新闻</a>,\n",
       " <a data-href=\"https://tieba.baidu.com/f?ie=utf-8&amp;fr=bks0000&amp;kw=\" href=\"https://tieba.baidu.com/\" nslog=\"normal\" nslog-type=\"10600112\">贴吧</a>,\n",
       " <a data-href=\"https://zhidao.baidu.com/search?pn=0&amp;&amp;rn=10&amp;lm=0&amp;fr=bks0000&amp;word=\" href=\"https://zhidao.baidu.com/\" nslog=\"normal\" nslog-type=\"10600112\">知道</a>,\n",
       " <a data-href=\"http://music.baidu.com/search?f=ms&amp;ct=134217728&amp;ie=utf-8&amp;rn=&amp;lm=-1&amp;pn=30&amp;fr=bks0000&amp;key=\" href=\"http://music.baidu.com/\" nslog=\"normal\" nslog-type=\"10600112\">音乐</a>,\n",
       " <a data-href=\"http://image.baidu.com/search/index?tn=baiduimage&amp;ct=201326592&amp;lm=-1&amp;cl=2&amp;nc=1&amp;ie=utf-8&amp;word=\" href=\"http://image.baidu.com/\" nslog=\"normal\" nslog-type=\"10600112\">图片</a>,\n",
       " <a data-href=\"http://v.baidu.com/v?ct=301989888&amp;rn=20&amp;pn=0&amp;db=0&amp;s=22&amp;ie=utf-8&amp;fr=bks0000&amp;word=\" href=\"http://v.baidu.com/\" nslog=\"normal\" nslog-type=\"10600112\">视频</a>,\n",
       " <a data-href=\"http://map.baidu.com/m?ie=utf-8&amp;fr=bks0000&amp;word=\" href=\"http://map.baidu.com/\" nslog=\"normal\" nslog-type=\"10600112\">地图</a>,\n",
       " <a data-href=\"https://wenku.baidu.com/search?lm=0&amp;od=0&amp;ie=utf-8&amp;fr=bks0000&amp;word=\" href=\"https://wenku.baidu.com/\" nslog=\"normal\" nslog-type=\"10600112\">文库</a>,\n",
       " <a class=\"logo cmn-inline-block\" href=\"/\" title=\"到百科首页\">\n",
       " <span class=\"cmn-baike-logo\">\n",
       " <em class=\"cmn-icon cmn-icons cmn-icons_logo-bai\"></em>\n",
       " <em class=\"cmn-icon cmn-icons cmn-icons_logo-du\"></em>\n",
       " <em class=\"cmn-icon cmn-icons cmn-icons_logo-baike\"></em>\n",
       " </span>\n",
       " </a>,\n",
       " <a class=\"help\" href=\"/help\" nslog=\"normal\" nslog-type=\"10080010\" target=\"_blank\">帮助</a>,\n",
       " <a class=\"declare-details\" href=\"/common/declaration\" target=\"_blank\">详情&gt;&gt;</a>,\n",
       " <a href=\"/\">首页</a>,\n",
       " <a href=\"/calendar/\" target=\"_blank\">历史上的今天</a>,\n",
       " <a href=\"/vbaike/\" target=\"_blank\">百科冷知识</a>,\n",
       " <a href=\"/vbaike#gallary\" target=\"_blank\">图解百科</a>,\n",
       " <a>分类</a>,\n",
       " <a href=\"/art\" target=\"_blank\">艺术</a>,\n",
       " <a href=\"/science\" target=\"_blank\">科学</a>]"
      ]
     },
     "execution_count": 4,
     "metadata": {},
     "output_type": "execute_result"
    }
   ],
   "source": [
    "# extract content within <a> tags\n",
    "a_tags = soup.find_all('a')\n",
    "a_tags[:20]"
   ]
  },
  {
   "cell_type": "code",
   "execution_count": 5,
   "metadata": {},
   "outputs": [],
   "source": [
    "# extract the urls for each subway line using two filters:\n",
    "# --- the link for each subway line starts with <a href=\"/item/\n",
    "# --- the link also contains strings '北京地铁\\w*线'\n",
    "\n",
    "import re\n",
    "\n",
    "subway_urls = [] # initialize an empty list\n",
    "line_scanned = [] # to avoid duplicates\n",
    "\n",
    "for link in a_tags:\n",
    "    if str(link).startswith('<a href=\"/item/'):\n",
    "        line_name = re.findall('北京地铁\\w*线', str(link)) # subset the line name\n",
    "        \n",
    "        if line_name and line_name not in line_scanned:\n",
    "            http_link = 'https://baike.baidu.com' + str(link.get('href')) # only keeps the url part\n",
    "            subway_urls.append([line_name, http_link])\n",
    "            line_scanned.append(line_name)\n",
    "        else: continue\n",
    "            \n",
    "    else: continue\n",
    "        \n",
    "# note: \n",
    "#  1) a full regular expression for the url link:\n",
    "#'/item/%E5%8C%97%E4%BA%AC%E5%9C%B0%E9%93%81\\w*%E\\d+.?\\w*.?\\w*.?E?\\d*.?\\w*.?\\w*.?\\w*%BA%BF'\n",
    "# 2) see link.get('href') in beautiful soup documentation\n",
    "# https://www.crummy.com/software/BeautifulSoup/bs4/doc/#problems-after-installation"
   ]
  },
  {
   "cell_type": "code",
   "execution_count": 6,
   "metadata": {},
   "outputs": [
    {
     "data": {
      "text/plain": [
       "22"
      ]
     },
     "execution_count": 6,
     "metadata": {},
     "output_type": "execute_result"
    }
   ],
   "source": [
    "len(subway_urls) # 22 lines"
   ]
  },
  {
   "cell_type": "code",
   "execution_count": 7,
   "metadata": {},
   "outputs": [
    {
     "data": {
      "text/plain": [
       "[[['北京地铁1号线'],\n",
       "  'https://baike.baidu.com/item/%E5%8C%97%E4%BA%AC%E5%9C%B0%E9%93%811%E5%8F%B7%E7%BA%BF'],\n",
       " [['北京地铁13号线'],\n",
       "  'https://baike.baidu.com/item/%E5%8C%97%E4%BA%AC%E5%9C%B0%E9%93%8113%E5%8F%B7%E7%BA%BF'],\n",
       " [['北京地铁八通线'],\n",
       "  'https://baike.baidu.com/item/%E5%8C%97%E4%BA%AC%E5%9C%B0%E9%93%81%E5%85%AB%E9%80%9A%E7%BA%BF'],\n",
       " [['北京地铁5号线'],\n",
       "  'https://baike.baidu.com/item/%E5%8C%97%E4%BA%AC%E5%9C%B0%E9%93%815%E5%8F%B7%E7%BA%BF'],\n",
       " [['北京地铁8号线'],\n",
       "  'https://baike.baidu.com/item/%E5%8C%97%E4%BA%AC%E5%9C%B0%E9%93%818%E5%8F%B7%E7%BA%BF'],\n",
       " [['北京地铁10号线'],\n",
       "  'https://baike.baidu.com/item/%E5%8C%97%E4%BA%AC%E5%9C%B0%E9%93%8110%E5%8F%B7%E7%BA%BF'],\n",
       " [['北京地铁机场线'],\n",
       "  'https://baike.baidu.com/item/%E5%8C%97%E4%BA%AC%E5%9C%B0%E9%93%81%E6%9C%BA%E5%9C%BA%E7%BA%BF'],\n",
       " [['北京地铁4号线'],\n",
       "  'https://baike.baidu.com/item/%E5%8C%97%E4%BA%AC%E5%9C%B0%E9%93%814%E5%8F%B7%E7%BA%BF'],\n",
       " [['北京地铁15号线'],\n",
       "  'https://baike.baidu.com/item/%E5%8C%97%E4%BA%AC%E5%9C%B0%E9%93%8115%E5%8F%B7%E7%BA%BF'],\n",
       " [['北京地铁昌平线'],\n",
       "  'https://baike.baidu.com/item/%E5%8C%97%E4%BA%AC%E5%9C%B0%E9%93%81%E6%98%8C%E5%B9%B3%E7%BA%BF'],\n",
       " [['北京地铁大兴线'],\n",
       "  'https://baike.baidu.com/item/%E5%8C%97%E4%BA%AC%E5%9C%B0%E9%93%81%E5%A4%A7%E5%85%B4%E7%BA%BF'],\n",
       " [['北京地铁房山线'],\n",
       "  'https://baike.baidu.com/item/%E5%8C%97%E4%BA%AC%E5%9C%B0%E9%93%81%E6%88%BF%E5%B1%B1%E7%BA%BF'],\n",
       " [['北京地铁亦庄线'],\n",
       "  'https://baike.baidu.com/item/%E5%8C%97%E4%BA%AC%E5%9C%B0%E9%93%81%E4%BA%A6%E5%BA%84%E7%BA%BF'],\n",
       " [['北京地铁9号线'],\n",
       "  'https://baike.baidu.com/item/%E5%8C%97%E4%BA%AC%E5%9C%B0%E9%93%819%E5%8F%B7%E7%BA%BF'],\n",
       " [['北京地铁6号线'],\n",
       "  'https://baike.baidu.com/item/%E5%8C%97%E4%BA%AC%E5%9C%B0%E9%93%816%E5%8F%B7%E7%BA%BF'],\n",
       " [['北京地铁14号线'],\n",
       "  'https://baike.baidu.com/item/%E5%8C%97%E4%BA%AC%E5%9C%B0%E9%93%8114%E5%8F%B7%E7%BA%BF'],\n",
       " [['北京地铁7号线'],\n",
       "  'https://baike.baidu.com/item/%E5%8C%97%E4%BA%AC%E5%9C%B0%E9%93%817%E5%8F%B7%E7%BA%BF'],\n",
       " [['北京地铁16号线'],\n",
       "  'https://baike.baidu.com/item/%E5%8C%97%E4%BA%AC%E5%9C%B0%E9%93%8116%E5%8F%B7%E7%BA%BF'],\n",
       " [['北京地铁西郊线'],\n",
       "  'https://baike.baidu.com/item/%E5%8C%97%E4%BA%AC%E5%9C%B0%E9%93%81%E8%A5%BF%E9%83%8A%E7%BA%BF'],\n",
       " [['北京地铁S1线'],\n",
       "  'https://baike.baidu.com/item/%E5%8C%97%E4%BA%AC%E5%9C%B0%E9%93%81S1%E7%BA%BF'],\n",
       " [['北京地铁燕房线'],\n",
       "  'https://baike.baidu.com/item/%E5%8C%97%E4%BA%AC%E5%9C%B0%E9%93%81%E7%87%95%E6%88%BF%E7%BA%BF'],\n",
       " [['北京地铁2号线'],\n",
       "  'https://baike.baidu.com/item/%E5%8C%97%E4%BA%AC%E5%9C%B0%E9%93%812%E5%8F%B7%E7%BA%BF']]"
      ]
     },
     "execution_count": 7,
     "metadata": {},
     "output_type": "execute_result"
    }
   ],
   "source": [
    "subway_urls"
   ]
  },
  {
   "cell_type": "code",
   "execution_count": null,
   "metadata": {},
   "outputs": [],
   "source": []
  },
  {
   "cell_type": "code",
   "execution_count": 23,
   "metadata": {},
   "outputs": [],
   "source": [
    "# step 1.2 - extract station names for each subway line\n",
    "\n",
    "# examples for the html element:\n",
    "# <a data-lemmaid=\"75170\" href=\"/item/%E5%AE%8B%E5%AE%B6%E5%BA%84%E7%AB%99/75170\" target=\"_blank\">宋家庄站</a>,\n",
    "# <a class=\"lemma-anchor\" name=\"一、积水潭站\"></a>,\n",
    "# <a href=\"/item/%E7%81%AF%E5%B8%82%E5%8F%A3%E7%AB%99\" target=\"_blank\">灯市口站</a>,\n",
    "# <a> tags are too messy... instead, we use <th> tags\n",
    "\n",
    "# the stations names are all embedded in tables, with <th......> </th> tags\n",
    "# examples: \n",
    "# <th align=\"center\" valign=\"middle\">车站名称</th>,\n",
    "# <th align=\"center\" valign=\"middle\">宋家庄</th>\n",
    "# <th align=\"center\" valign=\"middle\">方向</th>,\n",
    "# <th align=\"center\" valign=\"middle\">西直门——大钟寺</th>\n",
    "\n",
    "# try line 13\n",
    "url = 'https://baike.baidu.com/item/%E5%8C%97%E4%BA%AC%E5%9C%B0%E9%93%8113%E5%8F%B7%E7%BA%BF'\n",
    "page = urllib.request.urlopen(url)\n",
    "soup = BeautifulSoup(page, 'html.parser')"
   ]
  },
  {
   "cell_type": "code",
   "execution_count": 24,
   "metadata": {},
   "outputs": [
    {
     "data": {
      "text/plain": [
       "[<th width=\"73\">车站编号</th>,\n",
       " <th width=\"73\">车站名称</th>,\n",
       " <th align=\"center\" valign=\"middle\" width=\"74\">所属区段</th>,\n",
       " <th align=\"center\" valign=\"middle\" width=\"74\">开通日期</th>,\n",
       " <th align=\"center\" colspan=\"2\" height=\"0\" rowspan=\"1\" valign=\"middle\"><div class=\"para\" label-module=\"para\">可换乘线路</div>\n",
       " </th>,\n",
       " <th align=\"center\" valign=\"middle\" width=\"73\">所在行政区</th>,\n",
       " <th align=\"center\" valign=\"middle\">起始/终到车站</th>,\n",
       " <th align=\"center\" valign=\"middle\">区间距离</th>,\n",
       " <th align=\"center\" valign=\"middle\">方向</th>,\n",
       " <th align=\"center\" valign=\"middle\">西直门——大钟寺</th>,\n",
       " <th align=\"center\" valign=\"middle\">大钟寺——知春路</th>,\n",
       " <th align=\"center\" valign=\"middle\">知春路——五道口</th>,\n",
       " <th align=\"center\" valign=\"middle\">五道口——上地</th>,\n",
       " <th align=\"center\" valign=\"middle\">上地——西二旗</th>,\n",
       " <th align=\"center\" valign=\"middle\">西二旗——龙泽</th>,\n",
       " <th align=\"center\" valign=\"middle\">龙泽——回龙观</th>,\n",
       " <th align=\"center\" valign=\"middle\">回龙观——霍营</th>,\n",
       " <th align=\"center\" valign=\"middle\">霍营——立水桥</th>,\n",
       " <th align=\"center\" valign=\"middle\">立水桥——北苑</th>,\n",
       " <th align=\"center\" valign=\"middle\">北苑——望京西</th>,\n",
       " <th align=\"center\" valign=\"middle\">望京西——芍药居</th>,\n",
       " <th align=\"center\" valign=\"middle\">芍药居——光熙门</th>,\n",
       " <th align=\"center\" valign=\"middle\">光熙门——柳芳</th>,\n",
       " <th align=\"center\" valign=\"middle\">柳芳——东直门</th>,\n",
       " <th align=\"center\" height=\"22\" valign=\"middle\">车站名称</th>,\n",
       " <th align=\"center\" colspan=\"2\" height=\"22\" valign=\"middle\">首车时间</th>,\n",
       " <th align=\"center\" colspan=\"2\" height=\"22\" valign=\"middle\">全程末班车时间</th>,\n",
       " <th align=\"center\" colspan=\"2\" height=\"22\" valign=\"middle\">半程末班车时间</th>,\n",
       " <th align=\"center\" valign=\"middle\">车站名称</th>,\n",
       " <th align=\"center\" valign=\"middle\">西直门</th>,\n",
       " <th>明光桥西</th>,\n",
       " <th align=\"center\" valign=\"middle\">大钟寺</th>,\n",
       " <th align=\"center\" valign=\"middle\">知春路</th>,\n",
       " <th align=\"center\" valign=\"middle\">五道口</th>,\n",
       " <th>清华东路西口</th>,\n",
       " <th align=\"center\" valign=\"middle\">上地</th>,\n",
       " <th>清河站</th>,\n",
       " <th align=\"center\" valign=\"middle\">西二旗</th>,\n",
       " <th align=\"center\" valign=\"middle\">龙泽</th>,\n",
       " <th align=\"center\" valign=\"middle\">回龙观</th>,\n",
       " <th align=\"center\" valign=\"middle\">霍营</th>,\n",
       " <th>建材城东路</th>,\n",
       " <th align=\"center\" valign=\"middle\">立水桥</th>,\n",
       " <th align=\"center\" valign=\"middle\">北苑</th>,\n",
       " <th>来广营西</th>,\n",
       " <th align=\"center\" valign=\"middle\">望京西</th>,\n",
       " <th>望和桥</th>,\n",
       " <th align=\"center\" valign=\"middle\">芍药居</th>,\n",
       " <th align=\"center\" valign=\"middle\">光熙门</th>,\n",
       " <th align=\"center\" valign=\"middle\">柳芳</th>,\n",
       " <th align=\"center\" valign=\"middle\">东直门</th>,\n",
       " <th height=\"0\" width=\"79\"><div class=\"para\" label-module=\"para\">车站名称</div>\n",
       " </th>,\n",
       " <th width=\"79\">敷设方式</th>,\n",
       " <th width=\"131\">站厅形式</th>,\n",
       " <th height=\"0\" width=\"131\"><div class=\"para\" label-module=\"para\">站台形式</div>\n",
       " </th>,\n",
       " <th width=\"158\">开门方向</th>,\n",
       " <th width=\"79\">参考资料</th>]"
      ]
     },
     "execution_count": 24,
     "metadata": {},
     "output_type": "execute_result"
    }
   ],
   "source": [
    "# find all elements with <th> tags\n",
    "\n",
    "th_tags = soup.find_all('th')\n",
    "th_tags"
   ]
  },
  {
   "cell_type": "code",
   "execution_count": 25,
   "metadata": {},
   "outputs": [
    {
     "data": {
      "text/plain": [
       "[<th align=\"center\" valign=\"middle\">西直门——大钟寺</th>,\n",
       " <th align=\"center\" valign=\"middle\">大钟寺——知春路</th>,\n",
       " <th align=\"center\" valign=\"middle\">知春路——五道口</th>,\n",
       " <th align=\"center\" valign=\"middle\">五道口——上地</th>,\n",
       " <th align=\"center\" valign=\"middle\">上地——西二旗</th>,\n",
       " <th align=\"center\" valign=\"middle\">西二旗——龙泽</th>,\n",
       " <th align=\"center\" valign=\"middle\">龙泽——回龙观</th>,\n",
       " <th align=\"center\" valign=\"middle\">回龙观——霍营</th>,\n",
       " <th align=\"center\" valign=\"middle\">霍营——立水桥</th>,\n",
       " <th align=\"center\" valign=\"middle\">立水桥——北苑</th>,\n",
       " <th align=\"center\" valign=\"middle\">北苑——望京西</th>,\n",
       " <th align=\"center\" valign=\"middle\">望京西——芍药居</th>,\n",
       " <th align=\"center\" valign=\"middle\">芍药居——光熙门</th>,\n",
       " <th align=\"center\" valign=\"middle\">光熙门——柳芳</th>,\n",
       " <th align=\"center\" valign=\"middle\">柳芳——东直门</th>]"
      ]
     },
     "execution_count": 25,
     "metadata": {},
     "output_type": "execute_result"
    }
   ],
   "source": [
    "# find the positions where the station edgelist starts and ends\n",
    "\n",
    "start_index = [i for i, th_string in enumerate(th_tags) if '方向' in th_string] # a list object!\n",
    "start_i = start_index[0]\n",
    "\n",
    "# now find all lines with the format 东单——崇文门:\n",
    "\n",
    "target_th_tags = []\n",
    "\n",
    "for line in th_tags[start_i:]:\n",
    "    if str(line).find('——') > 0:\n",
    "        target_th_tags.append(line)\n",
    "        \n",
    "target_th_tags\n",
    "\n",
    "\n",
    "# notes:\n",
    "# there are two options available to find station names:\n",
    "#  1) subset lines after '方向' and contains '——', which gives a list of edges\n",
    "#   e.g., <th align=\"center\" valign=\"middle\">东单——崇文门</th>,  \n",
    "# 2) subset lines in between '车站名称' which only gives station names\n",
    "#  e.g., <th align=\"center\" valign=\"middle\">张自忠路</th>\n",
    "\n",
    "# here we opt for 1) since '车站名称' is not a unique identifier"
   ]
  },
  {
   "cell_type": "code",
   "execution_count": 27,
   "metadata": {},
   "outputs": [],
   "source": [
    "# change the target th-tags into networkx-readable edgelist format\n",
    "\n",
    "edge_list = []\n",
    "\n",
    "for line in target_th_tags:\n",
    "    edge = ''.join(e for e in re.findall('>.{1,15}<', str(line)))\n",
    "    edge = ''.join(c for c in edge if c not in '><') # remove '>' and '<'\n",
    "    edge = edge.replace('——', ' ')\n",
    "    edge_list.append(edge)\n",
    "\n",
    "# import networkx as nx\n",
    "# graph = nx.parse_edgelist(edge_list, nodetype=str)\n",
    "# https://networkx.github.io/documentation/networkx-1.10/reference/generated/networkx.readwrite.edgelist.parse_edgelist.html"
   ]
  },
  {
   "cell_type": "code",
   "execution_count": 28,
   "metadata": {},
   "outputs": [
    {
     "data": {
      "text/plain": [
       "['西直门 大钟寺',\n",
       " '大钟寺 知春路',\n",
       " '知春路 五道口',\n",
       " '五道口 上地',\n",
       " '上地 西二旗',\n",
       " '西二旗 龙泽',\n",
       " '龙泽 回龙观',\n",
       " '回龙观 霍营',\n",
       " '霍营 立水桥',\n",
       " '立水桥 北苑',\n",
       " '北苑 望京西',\n",
       " '望京西 芍药居',\n",
       " '芍药居 光熙门',\n",
       " '光熙门 柳芳',\n",
       " '柳芳 东直门']"
      ]
     },
     "execution_count": 28,
     "metadata": {},
     "output_type": "execute_result"
    }
   ],
   "source": [
    "edge_list"
   ]
  },
  {
   "cell_type": "code",
   "execution_count": 61,
   "metadata": {},
   "outputs": [],
   "source": [
    "# parse edgelist into nodes\n",
    "nodes = []\n",
    "nodes = [e.split(' ')[0] for e in edge_list]"
   ]
  },
  {
   "cell_type": "code",
   "execution_count": 62,
   "metadata": {},
   "outputs": [
    {
     "data": {
      "text/plain": [
       "['西直门',\n",
       " '大钟寺',\n",
       " '知春路',\n",
       " '五道口',\n",
       " '上地',\n",
       " '西二旗',\n",
       " '龙泽',\n",
       " '回龙观',\n",
       " '霍营',\n",
       " '立水桥',\n",
       " '北苑',\n",
       " '望京西',\n",
       " '芍药居',\n",
       " '光熙门',\n",
       " '柳芳']"
      ]
     },
     "execution_count": 62,
     "metadata": {},
     "output_type": "execute_result"
    }
   ],
   "source": [
    "nodes"
   ]
  },
  {
   "cell_type": "code",
   "execution_count": null,
   "metadata": {},
   "outputs": [],
   "source": []
  },
  {
   "cell_type": "code",
   "execution_count": 12,
   "metadata": {},
   "outputs": [],
   "source": [
    "# put everything together and wrap in functions\n",
    "\n",
    "def parse_th_tags(url):\n",
    "    \"\"\"\n",
    "    Get the page content from the url and parse into a list of <th> tags\n",
    "    using the html parser from beautiful soup\n",
    "    \"\"\"\n",
    "    page = urllib.request.urlopen(url)\n",
    "    soup = BeautifulSoup(page, 'html.parser')\n",
    "    return soup.find_all('th')\n",
    "\n",
    "\n",
    "def get_target_th_tags(parsed_th_tags):\n",
    "    \"\"\"\n",
    "    Get the target content from a list of parsed <th> tags:\n",
    "    lines after '方向' and lines contain '——'\n",
    "    \"\"\"\n",
    "    target_th_tags = []\n",
    "    \n",
    "    start_index = [i for i, th_string in enumerate(parsed_th_tags) if '方向' in th_string] \n",
    "    \n",
    "    if start_index:\n",
    "        start_i = start_index[0]\n",
    "        \n",
    "        for line in parsed_th_tags[start_i:]:\n",
    "            if str(line).find('——') > 0: \n",
    "                target_th_tags.append(line)\n",
    "            else: continue\n",
    "        return target_th_tags\n",
    "    \n",
    "    else: return []  # return an empty list if we couldn't find '方向' on the page\n",
    "\n",
    "\n",
    "\n",
    "def find_edgelist(th_tags):\n",
    "    \"Find station edgelists from the target <th> tags\"\n",
    "    edge_list = []\n",
    "    \n",
    "    if th_tags:\n",
    "        for line in th_tags:\n",
    "            edge = ''.join(e for e in re.findall('>.{1,15}<', str(line)))\n",
    "            edge = ''.join(c for c in edge if c not in '><') # remove '>' and '<'\n",
    "            edge = edge.replace('——', ' ')\n",
    "            edge_list.append(edge)\n",
    "        return edge_list\n",
    "    else: return [] # return an empty list if the input th_tags are empty\n"
   ]
  },
  {
   "cell_type": "code",
   "execution_count": 63,
   "metadata": {},
   "outputs": [
    {
     "name": "stdout",
     "output_type": "stream",
     "text": [
      "extracting edgelist for ['北京地铁1号线']\n",
      "extracting edgelist finished for ['北京地铁1号线']: \n",
      "苹果园-->古城-->八角游乐园-->八宝山-->玉泉路-->五棵松-->万寿路-->公主坟-->军事博物馆-->木樨地-->南礼士路-->复兴门-->西单-->天安门西-->天安门东-->王府井-->东单-->建国门-->永安里-->国贸-->大望路-->四惠\n",
      "extracting edgelist for ['北京地铁13号线']\n",
      "extracting edgelist finished for ['北京地铁13号线']: \n",
      "西直门-->大钟寺-->知春路-->五道口-->上地-->西二旗-->龙泽-->回龙观-->霍营-->立水桥-->北苑-->望京西-->芍药居-->光熙门-->柳芳\n",
      "extracting edgelist for ['北京地铁八通线']\n",
      "extracting edgelist finished for ['北京地铁八通线']: \n",
      "四惠-->四惠东-->高碑店-->传媒大学-->双桥-->管庄-->八里桥-->通州北苑-->果园-->九棵树-->梨园-->临河里\n",
      "extracting edgelist for ['北京地铁5号线']\n",
      "extracting edgelist finished for ['北京地铁5号线']: \n",
      "天通苑北-->天通苑-->天通苑南-->立水桥-->立水桥南-->北苑路北-->大屯路东-->惠新西街北口-->惠新西街南口-->和平西桥-->和平里北街-->雍和宫-->北新桥-->张自忠路-->东四-->灯市口-->东单-->崇文门-->磁器口-->天坛东门-->蒲黄榆-->刘家窑\n",
      "extracting edgelist for ['北京地铁8号线']\n",
      "extracting edgelist finished for ['北京地铁8号线']: \n",
      "朱辛庄-->育知路-->平西府-->回龙观东大街-->霍营-->育新-->西小口-->永泰庄-->林萃桥-->森林公园南门-->奥林匹克公园-->奥体中心-->北土城-->安华桥-->安德里北街-->鼓楼大街-->什刹海\n",
      "extracting edgelist for ['北京地铁10号线']\n",
      "extracting edgelist finished for ['北京地铁10号线']: \n",
      "巴沟-->苏州街-->海淀黄庄-->知春里-->知春路-->西土城-->牡丹园-->健德门-->北土城-->安贞门-->惠新西街南口-->芍药居-->太阳宫-->三元桥-->亮马桥-->农业展览馆-->团结湖-->呼家楼-->金台夕照-->国贸-->双井-->劲松-->潘家园-->十里河-->分钟寺-->成寿寺-->宋家庄-->石榴庄-->大红门-->角门东-->角门西-->草桥-->纪家庙-->首经贸-->丰台站-->泥洼-->西局-->六里桥-->莲花桥-->公主坟-->西钓鱼台-->慈寿寺-->车道沟-->长春桥-->火器营\n",
      "extracting edgelist for ['北京地铁机场线']\n",
      "extracting edgelist failed for ['北京地铁机场线']\n",
      "extracting edgelist for ['北京地铁4号线']\n",
      "extracting edgelist finished for ['北京地铁4号线']: \n",
      "安河桥北-->北宫门-->西苑-->圆明园-->北京大学东门-->中关村-->海淀黄庄-->人民大学-->魏公村-->国家图书馆-->动物园-->西直门-->新街口-->平安里-->西四-->灵境胡同-->西单-->宣武门-->菜市口-->陶然亭-->北京南站-->马家堡-->角门西\n",
      "extracting edgelist for ['北京地铁15号线']\n",
      "extracting edgelist finished for ['北京地铁15号线']: \n",
      "清华东路西口-->六道口-->北沙滩-->奥林匹克公园-->安立路-->大屯路东-->关庄-->望京西-->望京-->望京东-->崔各庄-->马泉营-->孙河-->国展-->花梨坎-->后沙峪-->南法信-->石门-->顺义\n",
      "extracting edgelist for ['北京地铁昌平线']\n",
      "extracting edgelist finished for ['北京地铁昌平线']: \n",
      "昌平西山口-->十三陵景区-->昌平-->昌平东关-->北邵洼-->南邵-->沙河高教园-->沙河-->巩华城-->朱辛庄-->生命科学园\n",
      "extracting edgelist for ['北京地铁大兴线']\n",
      "extracting edgelist finished for ['北京地铁大兴线']: \n",
      "公益西桥-->新宫-->西红门-->高米店北-->高米店南-->枣园-->清源路-->黄村西大街-->黄村火车站-->义和庄-->生物医药基地\n",
      "extracting edgelist for ['北京地铁房山线']\n",
      "extracting edgelist finished for ['北京地铁房山线']: \n",
      "郭公庄-->大葆台-->稻田-->长阳-->篱笆房-->广阳城-->良乡大学城北-->良乡大学城-->良乡大学城西-->良乡南关-->苏庄\n",
      "extracting edgelist for ['北京地铁亦庄线']\n",
      "extracting edgelist failed for ['北京地铁亦庄线']\n",
      "extracting edgelist for ['北京地铁9号线']\n",
      "extracting edgelist failed for ['北京地铁9号线']\n",
      "extracting edgelist for ['北京地铁6号线']\n",
      "extracting edgelist finished for ['北京地铁6号线']: \n",
      "海淀五路居-->慈寿寺-->花园桥-->白石桥南-->车公庄西-->车公庄-->平安里-->北海北-->南锣鼓巷-->东四-->朝阳门-->东大桥-->呼家楼-->金台路-->十里堡-->青年路-->褡裢坡-->黄渠-->常营-->草房-->物资学院路-->通州北关-->通运门-->北运河西-->北运河东-->郝家府-->东夏园\n",
      "extracting edgelist for ['北京地铁14号线']\n",
      "extracting edgelist finished for ['北京地铁14号线']: \n",
      "张郭庄-->园博园-->大瓦窑-->郭庄子-->大井-->七里庄-->北京南站-->陶然桥-->永定门外-->景泰-->蒲黄榆-->方庄-->十里河-->南八里庄-->北工大西门-->平乐园-->九龙山-->大望路-->红庙-->金台路-->朝阳公园-->枣营-->东风北桥-->将台-->高家园-->望京南-->阜通-->望京-->东湖渠-->来广营\n",
      "extracting edgelist for ['北京地铁7号线']\n",
      "extracting edgelist finished for ['北京地铁7号线']: \n",
      "北京西站-->湾子-->达官营-->广安门内-->菜市口-->虎坊桥-->珠市口-->桥湾-->磁器口-->广渠门内-->广渠门外-->双井-->九龙山-->大郊亭-->百子湾-->化工-->南楼梓庄-->欢乐谷景区-->垡头-->双合\n",
      "extracting edgelist for ['北京地铁16号线']\n",
      "extracting edgelist failed for ['北京地铁16号线']\n",
      "extracting edgelist for ['北京地铁西郊线']\n",
      "extracting edgelist failed for ['北京地铁西郊线']\n",
      "extracting edgelist for ['北京地铁S1线']\n",
      "extracting edgelist failed for ['北京地铁S1线']\n",
      "extracting edgelist for ['北京地铁燕房线']\n",
      "extracting edgelist failed for ['北京地铁燕房线']\n",
      "extracting edgelist for ['北京地铁2号线']\n",
      "extracting edgelist finished for ['北京地铁2号线']: \n",
      "西直门-->车公庄-->阜成门-->复兴门-->长椿街-->宣武门-->和平门-->前门-->崇文门-->北京站-->建国门-->朝阳门-->东四十条-->东直门-->雍和宫-->安定门-->鼓楼大街-->积水潭\n"
     ]
    }
   ],
   "source": [
    "# now we are ready to extract edgelist for all subway lines!\n",
    "\n",
    "line_edgelist_dic = {}\n",
    "line_nodes_dic = {}\n",
    "network_edgelist = [] # append all edges to be imported using networkx\n",
    "\n",
    "for line, url in subway_urls:\n",
    "    print('extracting edgelist for {}'.format(line))\n",
    "    \n",
    "    line_edgelist = find_edgelist(get_target_th_tags(parse_th_tags(url)))\n",
    "    \n",
    "    if line_edgelist:\n",
    "        line_edgelist_dic[''.join(line)] = line_edgelist # note the key has to be a string\n",
    "        network_edgelist = network_edgelist + line_edgelist # append the edgelist for all lines\n",
    "        \n",
    "        line_nodes = [e.split(' ')[0] for e in line_edgelist] # parse edgelist into nodes\n",
    "        line_nodes_dic[''.join(line)] = line_nodes\n",
    "        \n",
    "        print('extracting edgelist finished for {}: '.format(line))\n",
    "        print(*line_nodes, sep = \"-->\")  \n",
    "    else:\n",
    "        print('extracting edgelist failed for {}'.format(line))\n",
    "\n"
   ]
  },
  {
   "cell_type": "markdown",
   "metadata": {},
   "source": [
    "**Note:**\n",
    "\n",
    "\n",
    "Extracting the edgelist is a \"good-enough\" solution for now, given the messy html structure on baike.baidu.com, but this is not a perfect one, since we failed to get data for 7 out of 22 lines."
   ]
  },
  {
   "cell_type": "markdown",
   "metadata": {},
   "source": [
    "#### Step 2 - Build a network graph"
   ]
  },
  {
   "cell_type": "code",
   "execution_count": 14,
   "metadata": {},
   "outputs": [],
   "source": [
    "# since we have the network_edgelist from the last step\n",
    "# we can directly import it using networkx\n",
    "\n",
    "import networkx as nx\n",
    "subway_graph = nx.parse_edgelist(network_edgelist, nodetype=str)"
   ]
  },
  {
   "cell_type": "code",
   "execution_count": 15,
   "metadata": {},
   "outputs": [
    {
     "data": {
      "text/plain": [
       "269"
      ]
     },
     "execution_count": 15,
     "metadata": {},
     "output_type": "execute_result"
    }
   ],
   "source": [
    "subway_graph.number_of_nodes() # 269 stations"
   ]
  },
  {
   "cell_type": "code",
   "execution_count": 16,
   "metadata": {},
   "outputs": [
    {
     "data": {
      "text/plain": [
       "302"
      ]
     },
     "execution_count": 16,
     "metadata": {},
     "output_type": "execute_result"
    }
   ],
   "source": [
    "subway_graph.number_of_edges() # 302 edges"
   ]
  },
  {
   "cell_type": "code",
   "execution_count": 18,
   "metadata": {},
   "outputs": [
    {
     "data": {
      "text/plain": [
       "AtlasView({'苏州街': {}, '知春里': {}, '中关村': {}, '人民大学': {}})"
      ]
     },
     "execution_count": 18,
     "metadata": {},
     "output_type": "execute_result"
    }
   ],
   "source": [
    "# test case 1\n",
    "subway_graph['海淀黄庄']\n",
    "\n",
    "# note we didn't assign any weight to the edges"
   ]
  },
  {
   "cell_type": "code",
   "execution_count": 19,
   "metadata": {},
   "outputs": [
    {
     "data": {
      "text/plain": [
       "AtlasView({'车公庄': {}, '复兴门': {}})"
      ]
     },
     "execution_count": 19,
     "metadata": {},
     "output_type": "execute_result"
    }
   ],
   "source": [
    "# test case 2\n",
    "subway_graph['阜成门']"
   ]
  },
  {
   "cell_type": "code",
   "execution_count": 66,
   "metadata": {},
   "outputs": [
    {
     "name": "stderr",
     "output_type": "stream",
     "text": [
      "/usr/local/lib/python3.7/site-packages/networkx/drawing/nx_pylab.py:611: MatplotlibDeprecationWarning: isinstance(..., numbers.Number)\n",
      "  if cb.is_numlike(alpha):\n"
     ]
    },
    {
     "data": {
      "image/png": "[encoded data removed]",
      "text/plain": [
       "<Figure size 432x288 with 1 Axes>"
      ]
     },
     "metadata": {},
     "output_type": "display_data"
    }
   ],
   "source": [
    "nx.draw(subway_graph, with_labels=True, node_size=100)"
   ]
  },
  {
   "cell_type": "code",
   "execution_count": 67,
   "metadata": {},
   "outputs": [
    {
     "data": {
      "image/png": "[encoded data removed]",
      "text/plain": [
       "<Figure size 432x288 with 1 Axes>"
      ]
     },
     "metadata": {},
     "output_type": "display_data"
    }
   ],
   "source": [
    "nx.draw(subway_graph, node_size=100)"
   ]
  },
  {
   "cell_type": "markdown",
   "metadata": {},
   "source": [
    "#### Step 3 - Build a search agent"
   ]
  },
  {
   "cell_type": "code",
   "execution_count": 68,
   "metadata": {},
   "outputs": [],
   "source": [
    "# check if we have reached the destination through the current path.\n",
    "# with a by_way paramater specifying the preferred station to be passed through\n",
    "\n",
    "def is_goal(destination, by_way=[]):\n",
    "    def _wrap(current_path):\n",
    "        for s in by_way:\n",
    "            if s not in current_path:\n",
    "                return False\n",
    "        return current_path[-1] == destination\n",
    "    return _wrap\n",
    "\n",
    "# define the sort function to find the optimal path based on \n",
    "# the specified ranking criteria, cmp_func\n",
    "\n",
    "def sort_path(cmp_func, beam=-1):\n",
    "    def _sorted(pathes):\n",
    "        return sorted(pathes, key=cmp_func)[:beam]\n",
    "    return _sorted\n"
   ]
  },
  {
   "cell_type": "code",
   "execution_count": null,
   "metadata": {},
   "outputs": [],
   "source": [
    "# find the inverse mapping of line_node_dic for an easier look up\n",
    "\n",
    "node_line_dic = {}\n",
    "for line, stations in line_nodes_dic.items():\n",
    "    for s in stations:\n",
    "        if s not in node_line_dic.keys():\n",
    "            node_line_dic[s] = [line]\n",
    "        else:\n",
    "            node_line_dic[s].append(line)"
   ]
  },
  {
   "cell_type": "code",
   "execution_count": 84,
   "metadata": {},
   "outputs": [
    {
     "data": {
      "text/plain": [
       "True"
      ]
     },
     "execution_count": 84,
     "metadata": {},
     "output_type": "execute_result"
    }
   ],
   "source": [
    "# note:\n",
    "# check if a certain value is in a dictionary, where the dictionary value is a list of items\n",
    "'北京南站'in [s for stations in line_nodes_dic.values() for s in stations]"
   ]
  },
  {
   "cell_type": "code",
   "execution_count": 83,
   "metadata": {},
   "outputs": [
    {
     "data": {
      "text/plain": [
       "{'苹果园': ['北京地铁1号线'],\n",
       " '古城': ['北京地铁1号线'],\n",
       " '八角游乐园': ['北京地铁1号线'],\n",
       " '八宝山': ['北京地铁1号线'],\n",
       " '玉泉路': ['北京地铁1号线'],\n",
       " '五棵松': ['北京地铁1号线'],\n",
       " '万寿路': ['北京地铁1号线'],\n",
       " '公主坟': ['北京地铁1号线', '北京地铁10号线'],\n",
       " '军事博物馆': ['北京地铁1号线'],\n",
       " '木樨地': ['北京地铁1号线'],\n",
       " '南礼士路': ['北京地铁1号线'],\n",
       " '复兴门': ['北京地铁1号线', '北京地铁2号线'],\n",
       " '西单': ['北京地铁1号线', '北京地铁4号线'],\n",
       " '天安门西': ['北京地铁1号线'],\n",
       " '天安门东': ['北京地铁1号线'],\n",
       " '王府井': ['北京地铁1号线'],\n",
       " '东单': ['北京地铁1号线', '北京地铁5号线'],\n",
       " '建国门': ['北京地铁1号线', '北京地铁2号线'],\n",
       " '永安里': ['北京地铁1号线'],\n",
       " '国贸': ['北京地铁1号线', '北京地铁10号线'],\n",
       " '大望路': ['北京地铁1号线', '北京地铁14号线'],\n",
       " '四惠': ['北京地铁1号线', '北京地铁八通线'],\n",
       " '西直门': ['北京地铁13号线', '北京地铁4号线', '北京地铁2号线'],\n",
       " '大钟寺': ['北京地铁13号线'],\n",
       " '知春路': ['北京地铁13号线', '北京地铁10号线'],\n",
       " '五道口': ['北京地铁13号线'],\n",
       " '上地': ['北京地铁13号线'],\n",
       " '西二旗': ['北京地铁13号线'],\n",
       " '龙泽': ['北京地铁13号线'],\n",
       " '回龙观': ['北京地铁13号线'],\n",
       " '霍营': ['北京地铁13号线', '北京地铁8号线'],\n",
       " '立水桥': ['北京地铁13号线', '北京地铁5号线'],\n",
       " '北苑': ['北京地铁13号线'],\n",
       " '望京西': ['北京地铁13号线', '北京地铁15号线'],\n",
       " '芍药居': ['北京地铁13号线', '北京地铁10号线'],\n",
       " '光熙门': ['北京地铁13号线'],\n",
       " '柳芳': ['北京地铁13号线'],\n",
       " '四惠东': ['北京地铁八通线'],\n",
       " '高碑店': ['北京地铁八通线'],\n",
       " '传媒大学': ['北京地铁八通线'],\n",
       " '双桥': ['北京地铁八通线'],\n",
       " '管庄': ['北京地铁八通线'],\n",
       " '八里桥': ['北京地铁八通线'],\n",
       " '通州北苑': ['北京地铁八通线'],\n",
       " '果园': ['北京地铁八通线'],\n",
       " '九棵树': ['北京地铁八通线'],\n",
       " '梨园': ['北京地铁八通线'],\n",
       " '临河里': ['北京地铁八通线'],\n",
       " '天通苑北': ['北京地铁5号线'],\n",
       " '天通苑': ['北京地铁5号线'],\n",
       " '天通苑南': ['北京地铁5号线'],\n",
       " '立水桥南': ['北京地铁5号线'],\n",
       " '北苑路北': ['北京地铁5号线'],\n",
       " '大屯路东': ['北京地铁5号线', '北京地铁15号线'],\n",
       " '惠新西街北口': ['北京地铁5号线'],\n",
       " '惠新西街南口': ['北京地铁5号线', '北京地铁10号线'],\n",
       " '和平西桥': ['北京地铁5号线'],\n",
       " '和平里北街': ['北京地铁5号线'],\n",
       " '雍和宫': ['北京地铁5号线', '北京地铁2号线'],\n",
       " '北新桥': ['北京地铁5号线'],\n",
       " '张自忠路': ['北京地铁5号线'],\n",
       " '东四': ['北京地铁5号线', '北京地铁6号线'],\n",
       " '灯市口': ['北京地铁5号线'],\n",
       " '崇文门': ['北京地铁5号线', '北京地铁2号线'],\n",
       " '磁器口': ['北京地铁5号线', '北京地铁7号线'],\n",
       " '天坛东门': ['北京地铁5号线'],\n",
       " '蒲黄榆': ['北京地铁5号线', '北京地铁14号线'],\n",
       " '刘家窑': ['北京地铁5号线'],\n",
       " '朱辛庄': ['北京地铁8号线', '北京地铁昌平线'],\n",
       " '育知路': ['北京地铁8号线'],\n",
       " '平西府': ['北京地铁8号线'],\n",
       " '回龙观东大街': ['北京地铁8号线'],\n",
       " '育新': ['北京地铁8号线'],\n",
       " '西小口': ['北京地铁8号线'],\n",
       " '永泰庄': ['北京地铁8号线'],\n",
       " '林萃桥': ['北京地铁8号线'],\n",
       " '森林公园南门': ['北京地铁8号线'],\n",
       " '奥林匹克公园': ['北京地铁8号线', '北京地铁15号线'],\n",
       " '奥体中心': ['北京地铁8号线'],\n",
       " '北土城': ['北京地铁8号线', '北京地铁10号线'],\n",
       " '安华桥': ['北京地铁8号线'],\n",
       " '安德里北街': ['北京地铁8号线'],\n",
       " '鼓楼大街': ['北京地铁8号线', '北京地铁2号线'],\n",
       " '什刹海': ['北京地铁8号线'],\n",
       " '巴沟': ['北京地铁10号线'],\n",
       " '苏州街': ['北京地铁10号线'],\n",
       " '海淀黄庄': ['北京地铁10号线', '北京地铁4号线'],\n",
       " '知春里': ['北京地铁10号线'],\n",
       " '西土城': ['北京地铁10号线'],\n",
       " '牡丹园': ['北京地铁10号线'],\n",
       " '健德门': ['北京地铁10号线'],\n",
       " '安贞门': ['北京地铁10号线'],\n",
       " '太阳宫': ['北京地铁10号线'],\n",
       " '三元桥': ['北京地铁10号线'],\n",
       " '亮马桥': ['北京地铁10号线'],\n",
       " '农业展览馆': ['北京地铁10号线'],\n",
       " '团结湖': ['北京地铁10号线'],\n",
       " '呼家楼': ['北京地铁10号线', '北京地铁6号线'],\n",
       " '金台夕照': ['北京地铁10号线'],\n",
       " '双井': ['北京地铁10号线', '北京地铁7号线'],\n",
       " '劲松': ['北京地铁10号线'],\n",
       " '潘家园': ['北京地铁10号线'],\n",
       " '十里河': ['北京地铁10号线', '北京地铁14号线'],\n",
       " '分钟寺': ['北京地铁10号线'],\n",
       " '成寿寺': ['北京地铁10号线'],\n",
       " '宋家庄': ['北京地铁10号线'],\n",
       " '石榴庄': ['北京地铁10号线'],\n",
       " '大红门': ['北京地铁10号线'],\n",
       " '角门东': ['北京地铁10号线'],\n",
       " '角门西': ['北京地铁10号线', '北京地铁4号线'],\n",
       " '草桥': ['北京地铁10号线'],\n",
       " '纪家庙': ['北京地铁10号线'],\n",
       " '首经贸': ['北京地铁10号线'],\n",
       " '丰台站': ['北京地铁10号线'],\n",
       " '泥洼': ['北京地铁10号线'],\n",
       " '西局': ['北京地铁10号线'],\n",
       " '六里桥': ['北京地铁10号线'],\n",
       " '莲花桥': ['北京地铁10号线'],\n",
       " '西钓鱼台': ['北京地铁10号线'],\n",
       " '慈寿寺': ['北京地铁10号线', '北京地铁6号线'],\n",
       " '车道沟': ['北京地铁10号线'],\n",
       " '长春桥': ['北京地铁10号线'],\n",
       " '火器营': ['北京地铁10号线'],\n",
       " '安河桥北': ['北京地铁4号线'],\n",
       " '北宫门': ['北京地铁4号线'],\n",
       " '西苑': ['北京地铁4号线'],\n",
       " '圆明园': ['北京地铁4号线'],\n",
       " '北京大学东门': ['北京地铁4号线'],\n",
       " '中关村': ['北京地铁4号线'],\n",
       " '人民大学': ['北京地铁4号线'],\n",
       " '魏公村': ['北京地铁4号线'],\n",
       " '国家图书馆': ['北京地铁4号线'],\n",
       " '动物园': ['北京地铁4号线'],\n",
       " '新街口': ['北京地铁4号线'],\n",
       " '平安里': ['北京地铁4号线', '北京地铁6号线'],\n",
       " '西四': ['北京地铁4号线'],\n",
       " '灵境胡同': ['北京地铁4号线'],\n",
       " '宣武门': ['北京地铁4号线', '北京地铁2号线'],\n",
       " '菜市口': ['北京地铁4号线', '北京地铁7号线'],\n",
       " '陶然亭': ['北京地铁4号线'],\n",
       " '北京南站': ['北京地铁4号线', '北京地铁14号线'],\n",
       " '马家堡': ['北京地铁4号线'],\n",
       " '清华东路西口': ['北京地铁15号线'],\n",
       " '六道口': ['北京地铁15号线'],\n",
       " '北沙滩': ['北京地铁15号线'],\n",
       " '安立路': ['北京地铁15号线'],\n",
       " '关庄': ['北京地铁15号线'],\n",
       " '望京': ['北京地铁15号线', '北京地铁14号线'],\n",
       " '望京东': ['北京地铁15号线'],\n",
       " '崔各庄': ['北京地铁15号线'],\n",
       " '马泉营': ['北京地铁15号线'],\n",
       " '孙河': ['北京地铁15号线'],\n",
       " '国展': ['北京地铁15号线'],\n",
       " '花梨坎': ['北京地铁15号线'],\n",
       " '后沙峪': ['北京地铁15号线'],\n",
       " '南法信': ['北京地铁15号线'],\n",
       " '石门': ['北京地铁15号线'],\n",
       " '顺义': ['北京地铁15号线'],\n",
       " '昌平西山口': ['北京地铁昌平线'],\n",
       " '十三陵景区': ['北京地铁昌平线'],\n",
       " '昌平': ['北京地铁昌平线'],\n",
       " '昌平东关': ['北京地铁昌平线'],\n",
       " '北邵洼': ['北京地铁昌平线'],\n",
       " '南邵': ['北京地铁昌平线'],\n",
       " '沙河高教园': ['北京地铁昌平线'],\n",
       " '沙河': ['北京地铁昌平线'],\n",
       " '巩华城': ['北京地铁昌平线'],\n",
       " '生命科学园': ['北京地铁昌平线'],\n",
       " '公益西桥': ['北京地铁大兴线'],\n",
       " '新宫': ['北京地铁大兴线'],\n",
       " '西红门': ['北京地铁大兴线'],\n",
       " '高米店北': ['北京地铁大兴线'],\n",
       " '高米店南': ['北京地铁大兴线'],\n",
       " '枣园': ['北京地铁大兴线'],\n",
       " '清源路': ['北京地铁大兴线'],\n",
       " '黄村西大街': ['北京地铁大兴线'],\n",
       " '黄村火车站': ['北京地铁大兴线'],\n",
       " '义和庄': ['北京地铁大兴线'],\n",
       " '生物医药基地': ['北京地铁大兴线'],\n",
       " '郭公庄': ['北京地铁房山线'],\n",
       " '大葆台': ['北京地铁房山线'],\n",
       " '稻田': ['北京地铁房山线'],\n",
       " '长阳': ['北京地铁房山线'],\n",
       " '篱笆房': ['北京地铁房山线'],\n",
       " '广阳城': ['北京地铁房山线'],\n",
       " '良乡大学城北': ['北京地铁房山线'],\n",
       " '良乡大学城': ['北京地铁房山线'],\n",
       " '良乡大学城西': ['北京地铁房山线'],\n",
       " '良乡南关': ['北京地铁房山线'],\n",
       " '苏庄': ['北京地铁房山线'],\n",
       " '海淀五路居': ['北京地铁6号线'],\n",
       " '花园桥': ['北京地铁6号线'],\n",
       " '白石桥南': ['北京地铁6号线'],\n",
       " '车公庄西': ['北京地铁6号线'],\n",
       " '车公庄': ['北京地铁6号线', '北京地铁2号线'],\n",
       " '北海北': ['北京地铁6号线'],\n",
       " '南锣鼓巷': ['北京地铁6号线'],\n",
       " '朝阳门': ['北京地铁6号线', '北京地铁2号线'],\n",
       " '东大桥': ['北京地铁6号线'],\n",
       " '金台路': ['北京地铁6号线', '北京地铁14号线'],\n",
       " '十里堡': ['北京地铁6号线'],\n",
       " '青年路': ['北京地铁6号线'],\n",
       " '褡裢坡': ['北京地铁6号线'],\n",
       " '黄渠': ['北京地铁6号线'],\n",
       " '常营': ['北京地铁6号线'],\n",
       " '草房': ['北京地铁6号线'],\n",
       " '物资学院路': ['北京地铁6号线'],\n",
       " '通州北关': ['北京地铁6号线'],\n",
       " '通运门': ['北京地铁6号线'],\n",
       " '北运河西': ['北京地铁6号线'],\n",
       " '北运河东': ['北京地铁6号线'],\n",
       " '郝家府': ['北京地铁6号线'],\n",
       " '东夏园': ['北京地铁6号线'],\n",
       " '张郭庄': ['北京地铁14号线'],\n",
       " '园博园': ['北京地铁14号线'],\n",
       " '大瓦窑': ['北京地铁14号线'],\n",
       " '郭庄子': ['北京地铁14号线'],\n",
       " '大井': ['北京地铁14号线'],\n",
       " '七里庄': ['北京地铁14号线'],\n",
       " '陶然桥': ['北京地铁14号线'],\n",
       " '永定门外': ['北京地铁14号线'],\n",
       " '景泰': ['北京地铁14号线'],\n",
       " '方庄': ['北京地铁14号线'],\n",
       " '南八里庄': ['北京地铁14号线'],\n",
       " '北工大西门': ['北京地铁14号线'],\n",
       " '平乐园': ['北京地铁14号线'],\n",
       " '九龙山': ['北京地铁14号线', '北京地铁7号线'],\n",
       " '红庙': ['北京地铁14号线'],\n",
       " '朝阳公园': ['北京地铁14号线'],\n",
       " '枣营': ['北京地铁14号线'],\n",
       " '东风北桥': ['北京地铁14号线'],\n",
       " '将台': ['北京地铁14号线'],\n",
       " '高家园': ['北京地铁14号线'],\n",
       " '望京南': ['北京地铁14号线'],\n",
       " '阜通': ['北京地铁14号线'],\n",
       " '东湖渠': ['北京地铁14号线'],\n",
       " '来广营': ['北京地铁14号线'],\n",
       " '北京西站': ['北京地铁7号线'],\n",
       " '湾子': ['北京地铁7号线'],\n",
       " '达官营': ['北京地铁7号线'],\n",
       " '广安门内': ['北京地铁7号线'],\n",
       " '虎坊桥': ['北京地铁7号线'],\n",
       " '珠市口': ['北京地铁7号线'],\n",
       " '桥湾': ['北京地铁7号线'],\n",
       " '广渠门内': ['北京地铁7号线'],\n",
       " '广渠门外': ['北京地铁7号线'],\n",
       " '大郊亭': ['北京地铁7号线'],\n",
       " '百子湾': ['北京地铁7号线'],\n",
       " '化工': ['北京地铁7号线'],\n",
       " '南楼梓庄': ['北京地铁7号线'],\n",
       " '欢乐谷景区': ['北京地铁7号线'],\n",
       " '垡头': ['北京地铁7号线'],\n",
       " '双合': ['北京地铁7号线'],\n",
       " '阜成门': ['北京地铁2号线'],\n",
       " '长椿街': ['北京地铁2号线'],\n",
       " '和平门': ['北京地铁2号线'],\n",
       " '前门': ['北京地铁2号线'],\n",
       " '北京站': ['北京地铁2号线'],\n",
       " '东四十条': ['北京地铁2号线'],\n",
       " '东直门': ['北京地铁2号线'],\n",
       " '安定门': ['北京地铁2号线'],\n",
       " '积水潭': ['北京地铁2号线']}"
      ]
     },
     "execution_count": 83,
     "metadata": {},
     "output_type": "execute_result"
    }
   ],
   "source": [
    "node_line_dic"
   ]
  },
  {
   "cell_type": "code",
   "execution_count": 96,
   "metadata": {},
   "outputs": [],
   "source": [
    "# next define different search strategy functions\n",
    "# --- 1) counting the total number of stations passing through;\n",
    "# --- 2) reverse weighting the total number of stations passing through\n",
    "#        (i.e., favoring paths with more stations)\n",
    "# --- 3) counting the number of transfers needed \n",
    "#        (i.e., the total number of subway lines - 1)\n",
    "# --- 4) comprehensive\n",
    "\n",
    "\n",
    "def get_total_station(path):\n",
    "    return len(path)\n",
    "\n",
    "\n",
    "def get_as_much_path(path): \n",
    "    return -1 * len(path)\n",
    "\n",
    "\n",
    "def get_total_transfer(path):\n",
    "    \n",
    "    if len(path) < 2: return 0\n",
    "    \n",
    "    line_passed = list(set(node_line_dic[path[0]]) & set(node_line_dic[path[1]]))\n",
    "    # take the intersection of the subway lines passing the first two stations\n",
    "    s1 = path[1]\n",
    "    for s2 in path[2:]:\n",
    "        line_next = list(set(node_line_dic[s1]) & set(node_line_dic[s2]))\n",
    "        line_passed += line_next # keep a record of all the lines passed\n",
    "        s1 = s2\n",
    "    \n",
    "    #return set(line_passed) # set(list) returns the unique values in a list\n",
    "    \n",
    "    return len(set(line_passed)) - 1  # N of transfer = total N of lines - 1\n",
    "    \n",
    "\n",
    "\n",
    "def get_comprehensive_path(path):\n",
    "    return get_total_station(path) + get_total_transfer(path)"
   ]
  },
  {
   "cell_type": "code",
   "execution_count": 101,
   "metadata": {},
   "outputs": [
    {
     "data": {
      "text/plain": [
       "({'北京地铁13号线', '北京地铁4号线'}, 1)"
      ]
     },
     "execution_count": 101,
     "metadata": {},
     "output_type": "execute_result"
    }
   ],
   "source": [
    "# test case 1\n",
    "\n",
    "get_total_transfer(['知春路', '西直门', '新街口', '平安里'])"
   ]
  },
  {
   "cell_type": "code",
   "execution_count": 102,
   "metadata": {},
   "outputs": [
    {
     "data": {
      "text/plain": [
       "({'北京地铁10号线', '北京地铁2号线', '北京地铁4号线'}, 2)"
      ]
     },
     "execution_count": 102,
     "metadata": {},
     "output_type": "execute_result"
    }
   ],
   "source": [
    "# test case 2\n",
    "\n",
    "get_total_transfer(['宋家庄', '角门西', '中关村', '海淀黄庄', '西直门', '阜成门'])"
   ]
  },
  {
   "cell_type": "code",
   "execution_count": 103,
   "metadata": {},
   "outputs": [],
   "source": [
    "def search(graph, start, is_goal, search_strategy):\n",
    "    pathes = [[start] ]\n",
    "    seen = set()\n",
    "    \n",
    "    while pathes:\n",
    "        path = pathes.pop(0)\n",
    "        froniter = path[-1]\n",
    "        \n",
    "        if froniter in seen: continue\n",
    "            \n",
    "        successors = graph[froniter]\n",
    "        \n",
    "        for city in successors: \n",
    "            if city in path: continue\n",
    "            \n",
    "            new_path = path+[city]\n",
    "            pathes.append(new_path)\n",
    "        \n",
    "            if is_goal(new_path): return new_path\n",
    "\n",
    "        seen.add(froniter)\n",
    "        pathes = search_strategy(pathes)"
   ]
  },
  {
   "cell_type": "code",
   "execution_count": 106,
   "metadata": {},
   "outputs": [
    {
     "data": {
      "text/plain": [
       "['阜成门',\n",
       " '复兴门',\n",
       " '西单',\n",
       " '宣武门',\n",
       " '和平门',\n",
       " '前门',\n",
       " '崇文门',\n",
       " '磁器口',\n",
       " '天坛东门',\n",
       " '蒲黄榆',\n",
       " '刘家窑',\n",
       " '宋家庄']"
      ]
     },
     "execution_count": 106,
     "metadata": {},
     "output_type": "execute_result"
    }
   ],
   "source": [
    "# test case 1\n",
    "\n",
    "search(subway_graph, '阜成门', is_goal=is_goal('宋家庄'), search_strategy=lambda n: n)"
   ]
  },
  {
   "cell_type": "code",
   "execution_count": 111,
   "metadata": {},
   "outputs": [],
   "source": [
    "# test case 2 -- 最少站程\n",
    "\n",
    "search(subway_graph, '阜成门', is_goal=is_goal('宋家庄'), search_strategy=sort_path(get_total_transfer))"
   ]
  },
  {
   "cell_type": "code",
   "execution_count": null,
   "metadata": {},
   "outputs": [],
   "source": []
  }
 ],
 "metadata": {
  "kernelspec": {
   "display_name": "Python 3",
   "language": "python",
   "name": "python3"
  },
  "language_info": {
   "codemirror_mode": {
    "name": "ipython",
    "version": 3
   },
   "file_extension": ".py",
   "mimetype": "text/x-python",
   "name": "python",
   "nbconvert_exporter": "python",
   "pygments_lexer": "ipython3",
   "version": "3.7.2"
  }
 },
 "nbformat": 4,
 "nbformat_minor": 2
}
