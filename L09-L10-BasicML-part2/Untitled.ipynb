{
 "cells": [
  {
   "cell_type": "markdown",
   "metadata": {},
   "source": [
    "### Lecture 10 - An Example for Implementing Decision Trees"
   ]
  },
  {
   "cell_type": "code",
   "execution_count": null,
   "metadata": {},
   "outputs": [],
   "source": [
    "import numpy as np\n",
    "import pandas as pd"
   ]
  },
  {
   "cell_type": "markdown",
   "metadata": {},
   "source": [
    "The key for constructing the decision tree is to find the spliting points where we have the minimal entropy, thus prioritizing those features that can separate the data into distinct groups with more precision. "
   ]
  },
  {
   "cell_type": "code",
   "execution_count": 3,
   "metadata": {},
   "outputs": [],
   "source": [
    "# define a function for calculating entropy, given a list of elements\n",
    "\n",
    "from collections import Counter\n",
    "\n",
    "def entropy(elements):\n",
    "    counter = Counter(elements)\n",
    "    probabilities = [counter[e] / len(elements) for e in elements]\n",
    "    return -sum(p * np.log10(p) for p in probabilities)"
   ]
  },
  {
   "cell_type": "code",
   "execution_count": 4,
   "metadata": {},
   "outputs": [
    {
     "data": {
      "text/plain": [
       "-0.0"
      ]
     },
     "execution_count": 4,
     "metadata": {},
     "output_type": "execute_result"
    }
   ],
   "source": [
    "entropy([1,1,1,1])"
   ]
  },
  {
   "cell_type": "code",
   "execution_count": 5,
   "metadata": {},
   "outputs": [
    {
     "data": {
      "text/plain": [
       "0.4316271552006655"
      ]
     },
     "execution_count": 5,
     "metadata": {},
     "output_type": "execute_result"
    }
   ],
   "source": [
    "entropy([1,1,1,0])"
   ]
  },
  {
   "cell_type": "code",
   "execution_count": 6,
   "metadata": {},
   "outputs": [],
   "source": [
    "mock_data = {\n",
    "    'gender':['F', 'F', 'F', 'F', 'M', 'M', 'M'],\n",
    "    'income': ['+10', '-10', '+10', '+10', '+10', '+10', '-10'],\n",
    "    'family_size': [1, 1, 2, 1, 1, 1, 2],\n",
    "    'bought': [1, 1, 1, 0, 0, 0, 1],\n",
    "}"
   ]
  },
  {
   "cell_type": "code",
   "execution_count": 37,
   "metadata": {},
   "outputs": [],
   "source": [
    "dataset = pd.DataFrame.from_dict(mock_data)"
   ]
  },
  {
   "cell_type": "code",
   "execution_count": 38,
   "metadata": {},
   "outputs": [
    {
     "data": {
      "text/html": [
       "<div>\n",
       "<style scoped>\n",
       "    .dataframe tbody tr th:only-of-type {\n",
       "        vertical-align: middle;\n",
       "    }\n",
       "\n",
       "    .dataframe tbody tr th {\n",
       "        vertical-align: top;\n",
       "    }\n",
       "\n",
       "    .dataframe thead th {\n",
       "        text-align: right;\n",
       "    }\n",
       "</style>\n",
       "<table border=\"1\" class=\"dataframe\">\n",
       "  <thead>\n",
       "    <tr style=\"text-align: right;\">\n",
       "      <th></th>\n",
       "      <th>gender</th>\n",
       "      <th>income</th>\n",
       "      <th>family_size</th>\n",
       "      <th>bought</th>\n",
       "    </tr>\n",
       "  </thead>\n",
       "  <tbody>\n",
       "    <tr>\n",
       "      <th>0</th>\n",
       "      <td>F</td>\n",
       "      <td>+10</td>\n",
       "      <td>1</td>\n",
       "      <td>1</td>\n",
       "    </tr>\n",
       "    <tr>\n",
       "      <th>1</th>\n",
       "      <td>F</td>\n",
       "      <td>-10</td>\n",
       "      <td>1</td>\n",
       "      <td>1</td>\n",
       "    </tr>\n",
       "    <tr>\n",
       "      <th>2</th>\n",
       "      <td>F</td>\n",
       "      <td>+10</td>\n",
       "      <td>2</td>\n",
       "      <td>1</td>\n",
       "    </tr>\n",
       "    <tr>\n",
       "      <th>3</th>\n",
       "      <td>F</td>\n",
       "      <td>+10</td>\n",
       "      <td>1</td>\n",
       "      <td>0</td>\n",
       "    </tr>\n",
       "    <tr>\n",
       "      <th>4</th>\n",
       "      <td>M</td>\n",
       "      <td>+10</td>\n",
       "      <td>1</td>\n",
       "      <td>0</td>\n",
       "    </tr>\n",
       "    <tr>\n",
       "      <th>5</th>\n",
       "      <td>M</td>\n",
       "      <td>+10</td>\n",
       "      <td>1</td>\n",
       "      <td>0</td>\n",
       "    </tr>\n",
       "    <tr>\n",
       "      <th>6</th>\n",
       "      <td>M</td>\n",
       "      <td>-10</td>\n",
       "      <td>2</td>\n",
       "      <td>1</td>\n",
       "    </tr>\n",
       "  </tbody>\n",
       "</table>\n",
       "</div>"
      ],
      "text/plain": [
       "  gender income  family_size  bought\n",
       "0      F    +10            1       1\n",
       "1      F    -10            1       1\n",
       "2      F    +10            2       1\n",
       "3      F    +10            1       0\n",
       "4      M    +10            1       0\n",
       "5      M    +10            1       0\n",
       "6      M    -10            2       1"
      ]
     },
     "execution_count": 38,
     "metadata": {},
     "output_type": "execute_result"
    }
   ],
   "source": [
    "dataset"
   ]
  },
  {
   "cell_type": "code",
   "execution_count": 10,
   "metadata": {},
   "outputs": [],
   "source": [
    "# suppose we use 'family_size' as a spliter\n",
    "\n",
    "sub_split_1 = dataset[dataset['family_size'] == 1]['bought'].tolist()\n",
    "sub_split_2 = dataset[dataset['family_size'] != 1]['bought'].tolist()"
   ]
  },
  {
   "cell_type": "code",
   "execution_count": 11,
   "metadata": {},
   "outputs": [
    {
     "data": {
      "text/plain": [
       "0.7176797562470717"
      ]
     },
     "execution_count": 11,
     "metadata": {},
     "output_type": "execute_result"
    }
   ],
   "source": [
    "# then the resulting entropy at this point is:\n",
    "\n",
    "entropy(sub_split_1) + entropy(sub_split_2)"
   ]
  },
  {
   "cell_type": "code",
   "execution_count": 12,
   "metadata": {},
   "outputs": [],
   "source": [
    "# define a function to find the spliter with minimal entropy\n",
    "\n",
    "def find_the_min_spliter(data: pd.DataFrame, target: str) -> str:\n",
    "    \"\"\"\n",
    "    @ data = the training data used, in the format of a pandas.DataFrame\n",
    "    @ target = the column name of the response variable in the data set\n",
    "    \"\"\"\n",
    "    \n",
    "    # get all the features\n",
    "    x_vector = set(data.columns.tolist()) - {target}\n",
    "    \n",
    "    # initialize parameters to be returned, spliter and min_entropy\n",
    "    spliter = None\n",
    "    min_entropy = float('inf')\n",
    "    \n",
    "    for f in x_vector:\n",
    "        elements = set(data[f]) # get the unique levels for each feature\n",
    "        for e in elements:\n",
    "            sub_split_1 = data[dataset[f] == e][target].tolist()\n",
    "            entropy_1 = entropy(sub_split_1)\n",
    "            sub_split_2 = data[dataset[f] != e][target].tolist()\n",
    "            entropy_2 = entropy(sub_split_2)\n",
    "            entropy_total = entropy_1 + entropy_2\n",
    "            \n",
    "            if entropy_total  < min_entropy:\n",
    "                min_entropy = entropy_total\n",
    "                spliter = (f, e)\n",
    "            \n",
    "        print('spliter is: {}'.format(spliter))\n",
    "        print('the min entropy is :{}'.format(min_entropy))\n",
    "        \n",
    "        return spliter"
   ]
  },
  {
   "cell_type": "code",
   "execution_count": 13,
   "metadata": {},
   "outputs": [
    {
     "name": "stdout",
     "output_type": "stream",
     "text": [
      "spliter is: ('family_size', 1)\n",
      "the min entropy is :0.7176797562470717\n"
     ]
    },
    {
     "data": {
      "text/plain": [
       "('family_size', 1)"
      ]
     },
     "execution_count": 13,
     "metadata": {},
     "output_type": "execute_result"
    }
   ],
   "source": [
    "find_the_min_spliter(dataset, 'bought')"
   ]
  },
  {
   "cell_type": "code",
   "execution_count": 14,
   "metadata": {},
   "outputs": [
    {
     "name": "stdout",
     "output_type": "stream",
     "text": [
      "spliter is: ('family_size', 1)\n",
      "the min entropy is :0.7509360381569654\n"
     ]
    },
    {
     "data": {
      "text/plain": [
       "('family_size', 1)"
      ]
     },
     "execution_count": 14,
     "metadata": {},
     "output_type": "execute_result"
    }
   ],
   "source": [
    "find_the_min_spliter(dataset, 'income')"
   ]
  },
  {
   "cell_type": "code",
   "execution_count": null,
   "metadata": {},
   "outputs": [],
   "source": []
  },
  {
   "cell_type": "markdown",
   "metadata": {},
   "source": [
    "Now we could try the built-in function for training a decision-tree classifier from `scikit-learn` and visualize the tree branches."
   ]
  },
  {
   "cell_type": "code",
   "execution_count": 15,
   "metadata": {},
   "outputs": [],
   "source": [
    "from sklearn import tree"
   ]
  },
  {
   "cell_type": "code",
   "execution_count": 39,
   "metadata": {},
   "outputs": [
    {
     "name": "stdout",
     "output_type": "stream",
     "text": [
      "['gender', 'income', 'family_size']\n"
     ]
    }
   ],
   "source": [
    "features = list(dataset.columns[:3])\n",
    "print(features)"
   ]
  },
  {
   "cell_type": "code",
   "execution_count": 40,
   "metadata": {},
   "outputs": [
    {
     "data": {
      "text/plain": [
       "0    1\n",
       "1    1\n",
       "2    1\n",
       "3    1\n",
       "4    0\n",
       "5    0\n",
       "6    0\n",
       "Name: gender, dtype: int64"
      ]
     },
     "execution_count": 40,
     "metadata": {},
     "output_type": "execute_result"
    }
   ],
   "source": [
    "# note -- need to recode gender into integers\n",
    "\n",
    "dataset['gender'] = dataset['gender'].map({'M': 0, 'F': 1})\n",
    "dataset['gender']"
   ]
  },
  {
   "cell_type": "code",
   "execution_count": 43,
   "metadata": {},
   "outputs": [],
   "source": [
    "x = dataset[features]\n",
    "y = dataset['bought']\n",
    "\n",
    "# alternatively,\n",
    "# x = dataset.drop('bought', axis=1)"
   ]
  },
  {
   "cell_type": "code",
   "execution_count": 46,
   "metadata": {},
   "outputs": [
    {
     "data": {
      "text/plain": [
       "DecisionTreeClassifier(class_weight=None, criterion='gini', max_depth=None,\n",
       "                       max_features=None, max_leaf_nodes=None,\n",
       "                       min_impurity_decrease=0.0, min_impurity_split=None,\n",
       "                       min_samples_leaf=1, min_samples_split=2,\n",
       "                       min_weight_fraction_leaf=0.0, presort=False,\n",
       "                       random_state=1, splitter='best')"
      ]
     },
     "execution_count": 46,
     "metadata": {},
     "output_type": "execute_result"
    }
   ],
   "source": [
    "clf = tree.DecisionTreeClassifier(random_state=1)\n",
    "clf.fit(x, y)"
   ]
  },
  {
   "cell_type": "code",
   "execution_count": 47,
   "metadata": {},
   "outputs": [
    {
     "data": {
      "text/plain": [
       "[Text(297.6, 323.4, 'X[2] <= 1.5\\nentropy = 0.49\\nsamples = 7\\nvalue = [3, 4]'),\n",
       " Text(198.4, 230.99999999999997, 'X[0] <= 0.5\\nentropy = 0.48\\nsamples = 5\\nvalue = [3, 2]'),\n",
       " Text(99.2, 138.6, 'entropy = 0.0\\nsamples = 2\\nvalue = [2, 0]'),\n",
       " Text(297.6, 138.6, 'X[1] <= 0.0\\nentropy = 0.444\\nsamples = 3\\nvalue = [1, 2]'),\n",
       " Text(198.4, 46.19999999999999, 'entropy = 0.0\\nsamples = 1\\nvalue = [0, 1]'),\n",
       " Text(396.8, 46.19999999999999, 'entropy = 0.5\\nsamples = 2\\nvalue = [1, 1]'),\n",
       " Text(396.8, 230.99999999999997, 'entropy = 0.0\\nsamples = 2\\nvalue = [0, 2]')]"
      ]
     },
     "execution_count": 47,
     "metadata": {},
     "output_type": "execute_result"
    }
   ],
   "source": [
    "tree.plot_tree(clf.fit(x, y))"
   ]
  }
 ],
 "metadata": {
  "kernelspec": {
   "display_name": "Python 3",
   "language": "python",
   "name": "python3"
  },
  "language_info": {
   "codemirror_mode": {
    "name": "ipython",
    "version": 3
   },
   "file_extension": ".py",
   "mimetype": "text/x-python",
   "name": "python",
   "nbconvert_exporter": "python",
   "pygments_lexer": "ipython3",
   "version": "3.7.3"
  }
 },
 "nbformat": 4,
 "nbformat_minor": 2
}
